{
 "cells": [
  {
   "cell_type": "code",
   "execution_count": 22,
   "id": "9fdf9c6f-215a-4cc2-ac97-6fd7e6bc5736",
   "metadata": {},
   "outputs": [
    {
     "data": {
      "text/plain": [
       "'2.219.0'"
      ]
     },
     "execution_count": 22,
     "metadata": {},
     "output_type": "execute_result"
    }
   ],
   "source": [
    "from sagemaker.processing import ScriptProcessor, ProcessingInput, ProcessingOutput\n",
    "import sagemaker\n",
    "from sagemaker.experiments.run import Run, load_run\n",
    "import time\n",
    "from datetime import datetime\n",
    "from sagemaker import image_uris\n",
    "\n",
    "sagemaker.__version__"
   ]
  },
  {
   "cell_type": "code",
   "execution_count": 25,
   "id": "b364cba4-6c31-416c-bdc9-4806977938be",
   "metadata": {},
   "outputs": [],
   "source": [
    "version = \"v1\"\n",
    "session = sagemaker.Session()\n",
    "sm = session.sagemaker_client\n",
    "\n",
    "experiment_name = \"team1-index-predictor-model-evaluation\"\n",
    "trial_suffix = datetime.now().strftime(\"%Y-%m-%d-%H-%M-%S\")\n",
    "trial_name = f\"model-evaluation-{version}-{trial_suffix}\"\n",
    "\n",
    "bucket_name = \"team1-index-predictor-bucket\"\n",
    "\n",
    "data_input_prefix = \"data/processed\"\n",
    "model_input_prefix = \"models/model.xgb/sagemaker-xgboost-2024-06-18-23-40-03-184/output\"\n",
    "output_bucket_prefix = \"models/model.xgb/sagemaker-xgboost-2024-06-18-23-40-03-184/results\"\n",
    "\n",
    "processing_instance_type = \"ml.t3.medium\"\n",
    "processing_instance_count = 1"
   ]
  },
  {
   "cell_type": "code",
   "execution_count": 26,
   "id": "b264aa58-6fe9-4173-8e71-1cf15f68f353",
   "metadata": {},
   "outputs": [
    {
     "name": "stderr",
     "output_type": "stream",
     "text": [
      "INFO:sagemaker.image_uris:Ignoring unnecessary instance type: None.\n",
      "INFO:sagemaker:Creating processing-job with name sagemaker-xgboost-2024-06-19-08-13-06-971\n"
     ]
    },
    {
     "name": "stdout",
     "output_type": "stream",
     "text": [
      "....................................................................................\n",
      "\u001b[34mEvaluation report saved to /opt/ml/processing/output/evaluation_report.txt\u001b[0m\n"
     ]
    }
   ],
   "source": [
    "with Run(\n",
    "    experiment_name=experiment_name,\n",
    "    run_name=trial_name,\n",
    "    run_display_name=trial_name,\n",
    "    sagemaker_session=session,\n",
    ") as run:\n",
    "    experiment_config = run.experiment_config\n",
    "\n",
    "xgboost_container = image_uris.retrieve(\"xgboost\", session.boto_region_name, version=\"1.3-1\")\n",
    "\n",
    "script_processor = ScriptProcessor(\n",
    "    command=[\"python3\"],\n",
    "    image_uri=xgboost_container,\n",
    "    role=sagemaker.get_execution_role(),\n",
    "    instance_count=processing_instance_count,\n",
    "    instance_type=processing_instance_type,\n",
    ")\n",
    "\n",
    "script_processor.run(\n",
    "    code=\"../src/models/evaluator.py\",\n",
    "    inputs=[\n",
    "        ProcessingInput(\n",
    "            source=f\"s3://{bucket_name}/{data_input_prefix}\",\n",
    "            destination=\"/opt/ml/processing/input\",\n",
    "        ),\n",
    "        ProcessingInput(\n",
    "            source=f\"s3://{bucket_name}/{model_input_prefix}\",\n",
    "            destination=\"/opt/ml/processing/model\",\n",
    "        )\n",
    "    ],\n",
    "    outputs=[\n",
    "        ProcessingOutput(\n",
    "            source=\"/opt/ml/processing/output\",\n",
    "            destination=f\"s3://{bucket_name}/{output_bucket_prefix}\",\n",
    "        )\n",
    "    ],\n",
    "    arguments=[\n",
    "        \"--input_path\",\n",
    "        f\"/opt/ml/processing/input\",\n",
    "        \"--data_version\",\n",
    "        version,\n",
    "        \"--target_column\",\n",
    "        \"Close_target\",\n",
    "        \"--model_path\",\n",
    "        \"/opt/ml/processing/model/model\",\n",
    "        \"--output_path\",\n",
    "        \"/opt/ml/processing/output\",\n",
    "    ],\n",
    "    experiment_config=experiment_config,\n",
    ")"
   ]
  },
  {
   "cell_type": "code",
   "execution_count": 35,
   "id": "dda32059-a09d-4af7-b940-57bc3d2b1cef",
   "metadata": {},
   "outputs": [],
   "source": [
    "!aws s3 ls s3://{bucket_name}/{output_bucket_prefix}/output/"
   ]
  },
  {
   "cell_type": "code",
   "execution_count": 38,
   "id": "4b791696-3060-4818-8720-62c3163a2806",
   "metadata": {},
   "outputs": [
    {
     "name": "stdout",
     "output_type": "stream",
     "text": [
      "download: s3://team1-index-predictor-bucket/models/model.xgb/sagemaker-xgboost-2024-06-18-23-40-03-184/output/evaluation_report.txt to ./evaluation_report.txt\n"
     ]
    }
   ],
   "source": [
    "!aws s3 cp s3://{bucket_name}/{output_bucket_prefix}/evaluation_report.txt ."
   ]
  },
  {
   "cell_type": "code",
   "execution_count": null,
   "id": "a9471a21-45e1-4706-9df1-6d7b02663df3",
   "metadata": {},
   "outputs": [],
   "source": []
  }
 ],
 "metadata": {
  "kernelspec": {
   "display_name": "Python 3 (ipykernel)",
   "language": "python",
   "name": "python3"
  },
  "language_info": {
   "codemirror_mode": {
    "name": "ipython",
    "version": 3
   },
   "file_extension": ".py",
   "mimetype": "text/x-python",
   "name": "python",
   "nbconvert_exporter": "python",
   "pygments_lexer": "ipython3",
   "version": "3.10.14"
  }
 },
 "nbformat": 4,
 "nbformat_minor": 5
}
