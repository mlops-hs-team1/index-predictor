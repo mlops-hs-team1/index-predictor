{
 "cells": [
  {
   "cell_type": "code",
   "execution_count": null,
   "metadata": {},
   "outputs": [],
   "source": []
  },
  {
   "cell_type": "code",
   "execution_count": 11,
   "metadata": {},
   "outputs": [
    {
     "data": {
      "text/plain": [
       "'2.219.0'"
      ]
     },
     "execution_count": 11,
     "metadata": {},
     "output_type": "execute_result"
    }
   ],
   "source": [
    "from sagemaker.processing import ScriptProcessor, ProcessingInput, ProcessingOutput\n",
    "import sagemaker\n",
    "from sagemaker.experiments.run import Run, load_run\n",
    "import time\n",
    "from datetime import datetime\n",
    "\n",
    "sagemaker.__version__"
   ]
  },
  {
   "cell_type": "code",
   "execution_count": 18,
   "metadata": {},
   "outputs": [],
   "source": [
    "verion = \"v0.0.1\""
   ]
  },
  {
   "cell_type": "code",
   "execution_count": 12,
   "metadata": {},
   "outputs": [],
   "source": [
    "session = sagemaker.Session()\n",
    "sm = session.sagemaker_client\n",
    "\n",
    "experiment_name = \"team1-index-predictor-data-collection\"\n",
    "trial_suffix = datetime.now().strftime(\"%Y-%m-%d-%H-%M-%S\")\n",
    "trial_name = f\"data-collection-{version}-{trial_suffix}\"\n",
    "\n",
    "bucket_name = \"team1-index-predictor-bucket\"\n",
    "bucket_prefix = \"data/raw\"\n",
    "data_s3_url = f\"s3://{bucket_name}/{bucket_prefix}/\"\n",
    "\n",
    "processing_instance_type = \"ml.t3.medium\"\n",
    "processing_instance_count = 1"
   ]
  },
  {
   "cell_type": "code",
   "execution_count": 13,
   "metadata": {},
   "outputs": [],
   "source": [
    "with Run(\n",
    "    experiment_name=experiment_name,\n",
    "    run_name=trial_name,\n",
    "    run_display_name=trial_name,\n",
    "    sagemaker_session=session,\n",
    ") as run:\n",
    "    experiment_config = run.experiment_config"
   ]
  },
  {
   "cell_type": "code",
   "execution_count": 14,
   "metadata": {},
   "outputs": [
    {
     "name": "stderr",
     "output_type": "stream",
     "text": [
      "INFO:sagemaker:Creating processing-job with name sagemaker-scikit-learn-2024-06-18-07-37-25-681\n"
     ]
    },
    {
     "name": "stdout",
     "output_type": "stream",
     "text": [
      ".........................................................................................\u001b[34mCollecting yfinance\n",
      "  Downloading yfinance-0.2.40-py2.py3-none-any.whl.metadata (11 kB)\u001b[0m\n",
      "\u001b[34mCollecting pandas>=1.3.0 (from yfinance)\n",
      "  Downloading pandas-2.0.3-cp38-cp38-manylinux_2_17_x86_64.manylinux2014_x86_64.whl.metadata (18 kB)\u001b[0m\n",
      "\u001b[34mRequirement already satisfied: numpy>=1.16.5 in /miniconda3/lib/python3.8/site-packages (from yfinance) (1.24.1)\u001b[0m\n",
      "\u001b[34mRequirement already satisfied: requests>=2.31 in /miniconda3/lib/python3.8/site-packages (from yfinance) (2.31.0)\u001b[0m\n",
      "\u001b[34mCollecting multitasking>=0.0.7 (from yfinance)\n",
      "  Downloading multitasking-0.0.11-py3-none-any.whl.metadata (5.5 kB)\u001b[0m\n",
      "\u001b[34mCollecting lxml>=4.9.1 (from yfinance)\n",
      "  Downloading lxml-5.2.2-cp38-cp38-manylinux_2_17_x86_64.manylinux2014_x86_64.whl.metadata (3.4 kB)\u001b[0m\n",
      "\u001b[34mCollecting platformdirs>=2.0.0 (from yfinance)\n",
      "  Downloading platformdirs-4.2.2-py3-none-any.whl.metadata (11 kB)\u001b[0m\n",
      "\u001b[34mRequirement already satisfied: pytz>=2022.5 in /miniconda3/lib/python3.8/site-packages (from yfinance) (2023.3.post1)\u001b[0m\n",
      "\u001b[34mCollecting frozendict>=2.3.4 (from yfinance)\n",
      "  Downloading frozendict-2.4.4-cp38-cp38-manylinux_2_17_x86_64.manylinux2014_x86_64.whl.metadata (23 kB)\u001b[0m\n",
      "\u001b[34mCollecting peewee>=3.16.2 (from yfinance)\n",
      "  Downloading peewee-3.17.5.tar.gz (3.0 MB)\n",
      "     ━━━━━━━━━━━━━━━━━━━━━━━━━━━━━━━━━━━━━━━━ 3.0/3.0 MB 24.3 MB/s eta 0:00:00\n",
      "  Installing build dependencies: started\u001b[0m\n",
      "\u001b[34m  Installing build dependencies: finished with status 'done'\n",
      "  Getting requirements to build wheel: started\u001b[0m\n",
      "\u001b[34m  Getting requirements to build wheel: finished with status 'done'\n",
      "  Preparing metadata (pyproject.toml): started\u001b[0m\n",
      "\u001b[34m  Preparing metadata (pyproject.toml): finished with status 'done'\u001b[0m\n",
      "\u001b[34mCollecting beautifulsoup4>=4.11.1 (from yfinance)\n",
      "  Downloading beautifulsoup4-4.12.3-py3-none-any.whl.metadata (3.8 kB)\u001b[0m\n",
      "\u001b[34mCollecting html5lib>=1.1 (from yfinance)\n",
      "  Downloading html5lib-1.1-py2.py3-none-any.whl.metadata (16 kB)\u001b[0m\n",
      "\u001b[34mCollecting soupsieve>1.2 (from beautifulsoup4>=4.11.1->yfinance)\n",
      "  Downloading soupsieve-2.5-py3-none-any.whl.metadata (4.7 kB)\u001b[0m\n",
      "\u001b[34mRequirement already satisfied: six>=1.9 in /miniconda3/lib/python3.8/site-packages (from html5lib>=1.1->yfinance) (1.15.0)\u001b[0m\n",
      "\u001b[34mCollecting webencodings (from html5lib>=1.1->yfinance)\n",
      "  Downloading webencodings-0.5.1-py2.py3-none-any.whl.metadata (2.1 kB)\u001b[0m\n",
      "\u001b[34mCollecting python-dateutil>=2.8.2 (from pandas>=1.3.0->yfinance)\n",
      "  Downloading python_dateutil-2.9.0.post0-py2.py3-none-any.whl.metadata (8.4 kB)\u001b[0m\n",
      "\u001b[34mCollecting tzdata>=2022.1 (from pandas>=1.3.0->yfinance)\n",
      "  Downloading tzdata-2024.1-py2.py3-none-any.whl.metadata (1.4 kB)\u001b[0m\n",
      "\u001b[34mRequirement already satisfied: charset-normalizer<4,>=2 in /miniconda3/lib/python3.8/site-packages (from requests>=2.31->yfinance) (2.0.4)\u001b[0m\n",
      "\u001b[34mRequirement already satisfied: idna<4,>=2.5 in /miniconda3/lib/python3.8/site-packages (from requests>=2.31->yfinance) (3.4)\u001b[0m\n",
      "\u001b[34mRequirement already satisfied: urllib3<3,>=1.21.1 in /miniconda3/lib/python3.8/site-packages (from requests>=2.31->yfinance) (1.26.18)\u001b[0m\n",
      "\u001b[34mRequirement already satisfied: certifi>=2017.4.17 in /miniconda3/lib/python3.8/site-packages (from requests>=2.31->yfinance) (2023.7.22)\u001b[0m\n",
      "\u001b[34mDownloading yfinance-0.2.40-py2.py3-none-any.whl (73 kB)\n",
      "   ━━━━━━━━━━━━━━━━━━━━━━━━━━━━━━━━━━━━━━━━ 73.5/73.5 kB 6.7 MB/s eta 0:00:00\u001b[0m\n",
      "\u001b[34mDownloading beautifulsoup4-4.12.3-py3-none-any.whl (147 kB)\n",
      "   ━━━━━━━━━━━━━━━━━━━━━━━━━━━━━━━━━━━━━━━━ 147.9/147.9 kB 16.1 MB/s eta 0:00:00\u001b[0m\n",
      "\u001b[34mDownloading frozendict-2.4.4-cp38-cp38-manylinux_2_17_x86_64.manylinux2014_x86_64.whl (115 kB)\n",
      "   ━━━━━━━━━━━━━━━━━━━━━━━━━━━━━━━━━━━━━━━━ 115.1/115.1 kB 11.1 MB/s eta 0:00:00\u001b[0m\n",
      "\u001b[34mDownloading html5lib-1.1-py2.py3-none-any.whl (112 kB)\n",
      "   ━━━━━━━━━━━━━━━━━━━━━━━━━━━━━━━━━━━━━━━━ 112.2/112.2 kB 2.5 MB/s eta 0:00:00\u001b[0m\n",
      "\u001b[34mDownloading lxml-5.2.2-cp38-cp38-manylinux_2_17_x86_64.manylinux2014_x86_64.whl (5.0 MB)\u001b[0m\n",
      "\u001b[34m   ━━━━━━━━━━━━━━━━━━━━━━━━━━━━━━━━━━━━━━━━ 5.0/5.0 MB 32.7 MB/s eta 0:00:00\u001b[0m\n",
      "\u001b[34mDownloading multitasking-0.0.11-py3-none-any.whl (8.5 kB)\u001b[0m\n",
      "\u001b[34mDownloading pandas-2.0.3-cp38-cp38-manylinux_2_17_x86_64.manylinux2014_x86_64.whl (12.4 MB)\n",
      "   ━━━━━━━━━━━━━━━━━━━━━━━━━━━━━━━━━━━━━━━━ 12.4/12.4 MB 33.0 MB/s eta 0:00:00\u001b[0m\n",
      "\u001b[34mDownloading platformdirs-4.2.2-py3-none-any.whl (18 kB)\u001b[0m\n",
      "\u001b[34mDownloading python_dateutil-2.9.0.post0-py2.py3-none-any.whl (229 kB)\n",
      "   ━━━━━━━━━━━━━━━━━━━━━━━━━━━━━━━━━━━━━━━━ 229.9/229.9 kB 21.9 MB/s eta 0:00:00\u001b[0m\n",
      "\u001b[34mDownloading soupsieve-2.5-py3-none-any.whl (36 kB)\u001b[0m\n",
      "\u001b[34mDownloading tzdata-2024.1-py2.py3-none-any.whl (345 kB)\n",
      "   ━━━━━━━━━━━━━━━━━━━━━━━━━━━━━━━━━━━━━━━━ 345.4/345.4 kB 28.2 MB/s eta 0:00:00\u001b[0m\n",
      "\u001b[34mDownloading webencodings-0.5.1-py2.py3-none-any.whl (11 kB)\u001b[0m\n",
      "\u001b[34mBuilding wheels for collected packages: peewee\n",
      "  Building wheel for peewee (pyproject.toml): started\u001b[0m\n",
      "\u001b[34m  Building wheel for peewee (pyproject.toml): finished with status 'done'\n",
      "  Created wheel for peewee: filename=peewee-3.17.5-cp38-cp38-linux_x86_64.whl size=289143 sha256=729f708290a8fdd2cfbb82eacd680514ad2c31fa37eb3cb5a77dad3383a14bbc\n",
      "  Stored in directory: /root/.cache/pip/wheels/50/f5/5d/c6bc991ef2e027c2d14113be120f99704e268b48057a90529d\u001b[0m\n",
      "\u001b[34mSuccessfully built peewee\u001b[0m\n",
      "\u001b[34mInstalling collected packages: webencodings, peewee, multitasking, tzdata, soupsieve, python-dateutil, platformdirs, lxml, html5lib, frozendict, pandas, beautifulsoup4, yfinance\u001b[0m\n",
      "\u001b[34m  Attempting uninstall: python-dateutil\n",
      "    Found existing installation: python-dateutil 2.8.1\n",
      "    Uninstalling python-dateutil-2.8.1:\n",
      "      Successfully uninstalled python-dateutil-2.8.1\u001b[0m\n",
      "\u001b[34m  Attempting uninstall: pandas\n",
      "    Found existing installation: pandas 1.1.3\u001b[0m\n",
      "\u001b[34m    Uninstalling pandas-1.1.3:\u001b[0m\n",
      "\u001b[34m      Successfully uninstalled pandas-1.1.3\u001b[0m\n",
      "\u001b[34mERROR: pip's dependency resolver does not currently take into account all the packages that are installed. This behaviour is the source of the following dependency conflicts.\u001b[0m\n",
      "\u001b[34msagemaker-sklearn-container 2.0 requires pandas==1.1.3, but you have pandas 2.0.3 which is incompatible.\u001b[0m\n",
      "\u001b[34msagemaker-sklearn-container 2.0 requires python-dateutil==2.8.1, but you have python-dateutil 2.9.0.post0 which is incompatible.\u001b[0m\n",
      "\u001b[34mSuccessfully installed beautifulsoup4-4.12.3 frozendict-2.4.4 html5lib-1.1 lxml-5.2.2 multitasking-0.0.11 pandas-2.0.3 peewee-3.17.5 platformdirs-4.2.2 python-dateutil-2.9.0.post0 soupsieve-2.5 tzdata-2024.1 webencodings-0.5.1 yfinance-0.2.40\u001b[0m\n",
      "\u001b[34mWARNING: Running pip as the 'root' user can result in broken permissions and conflicting behaviour with the system package manager. It is recommended to use a virtual environment instead: https://pip.pypa.io/warnings/venv\u001b[0m\n",
      "\u001b[34m#015[*********************100%%**********************]  1 of 1 completed\u001b[0m\n",
      "\u001b[34m#015[*********************100%%**********************]  1 of 1 completed\u001b[0m\n",
      "\u001b[34m#015[*********************100%%**********************]  1 of 1 completed\u001b[0m\n",
      "\u001b[34m#015[*********************100%%**********************]  1 of 1 completed\u001b[0m\n",
      "\u001b[34m#015[*********************100%%**********************]  1 of 1 completed\u001b[0m\n",
      "\u001b[34mData collection completed\u001b[0m\n",
      "\n"
     ]
    }
   ],
   "source": [
    "script_processor = ScriptProcessor(\n",
    "    command=[\"python3\"],\n",
    "    image_uri=\"492215442770.dkr.ecr.eu-central-1.amazonaws.com/sagemaker-scikit-learn:1.0-1-cpu-py3\",\n",
    "    role=sagemaker.get_execution_role(),\n",
    "    instance_count=processing_instance_count,\n",
    "    instance_type=processing_instance_type,\n",
    ")\n",
    "\n",
    "script_processor.run(\n",
    "    code=\"../src/data/collector.py\",\n",
    "    inputs=[],\n",
    "    outputs=[\n",
    "        ProcessingOutput(\n",
    "            source=f\"/opt/ml/processing/{bucket_prefix}/data.csv\",\n",
    "            destination=data_s3_url,\n",
    "            output_name=\"data\",\n",
    "        )\n",
    "    ],\n",
    "    arguments=[\n",
    "        \"--mode\",\n",
    "        \"train-val-test\",\n",
    "    ],\n",
    "    experiment_config=experiment_config,\n",
    ")"
   ]
  },
  {
   "cell_type": "code",
   "execution_count": 17,
   "metadata": {},
   "outputs": [
    {
     "name": "stdout",
     "output_type": "stream",
     "text": [
      "2024-06-17 20:00:34       3589 sp500-inference.csv\n",
      "2024-06-17 20:00:34     872565 sp500.csv\n"
     ]
    }
   ],
   "source": [
    "!aws s3 ls s3://team1-index-predictor-bucket/data/raw/"
   ]
  }
 ],
 "metadata": {
  "kernelspec": {
   "display_name": "Python 3 (ipykernel)",
   "language": "python",
   "name": "python3"
  },
  "language_info": {
   "codemirror_mode": {
    "name": "ipython",
    "version": 3
   },
   "file_extension": ".py",
   "mimetype": "text/x-python",
   "name": "python",
   "nbconvert_exporter": "python",
   "pygments_lexer": "ipython3",
   "version": "3.10.14"
  }
 },
 "nbformat": 4,
 "nbformat_minor": 4
}
