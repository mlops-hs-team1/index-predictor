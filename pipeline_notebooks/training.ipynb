{
 "cells": [
  {
   "cell_type": "code",
   "execution_count": 4,
   "id": "af83a565-883a-4465-8db5-50e6cc05f2f8",
   "metadata": {},
   "outputs": [
    {
     "data": {
      "text/plain": [
       "'2.219.0'"
      ]
     },
     "execution_count": 4,
     "metadata": {},
     "output_type": "execute_result"
    }
   ],
   "source": [
    "from sagemaker.processing import ScriptProcessor, ProcessingInput, ProcessingOutput\n",
    "import sagemaker\n",
    "from sagemaker.estimator import Estimator\n",
    "from sagemaker.experiments.run import Run, load_run\n",
    "import time\n",
    "from datetime import datetime\n",
    "from sagemaker.inputs import TrainingInput\n",
    "from sagemaker import image_uris\n",
    "\n",
    "sagemaker.__version__"
   ]
  },
  {
   "cell_type": "code",
   "execution_count": 5,
   "id": "86a61e27-b5bf-459f-8401-a945b2e3a4c8",
   "metadata": {},
   "outputs": [],
   "source": [
    "data_version = \"v1\"\n",
    "model_version = \"v1\"\n",
    "session = sagemaker.Session()\n",
    "sm = session.sagemaker_client\n",
    "\n",
    "experiment_name = \"team1-index-predictor-model-training\"\n",
    "trial_suffix = datetime.now().strftime(\"%Y-%m-%d-%H-%M-%S\")\n",
    "trial_name = f\"model-training-{model_version}-{trial_suffix}\"\n",
    "\n",
    "bucket_name = \"team1-index-predictor-bucket\"\n",
    "input_prefix = \"data/processed\"\n",
    "output_bucket_prefix = \"models\"\n",
    "\n",
    "processing_instance_type = \"ml.t3.medium\"\n",
    "processing_instance_count = 1"
   ]
  },
  {
   "cell_type": "code",
   "execution_count": 6,
   "id": "1a3642b0-437f-4a57-b790-14563bc759ae",
   "metadata": {},
   "outputs": [
    {
     "name": "stderr",
     "output_type": "stream",
     "text": [
      "INFO:sagemaker.image_uris:Ignoring unnecessary instance type: None.\n",
      "INFO:sagemaker:Creating training-job with name: sagemaker-xgboost-2024-06-18-23-40-03-184\n"
     ]
    },
    {
     "name": "stdout",
     "output_type": "stream",
     "text": [
      "2024-06-18 23:40:03 Starting - Starting the training job...\n",
      "2024-06-18 23:40:21 Starting - Preparing the instances for training...\n",
      "2024-06-18 23:40:48 Downloading - Downloading input data...\n",
      "2024-06-18 23:41:34 Downloading - Downloading the training image......\n",
      "2024-06-18 23:42:09 Training - Training image download completed. Training in progress...\u001b[34m[2024-06-18 23:42:14.663 ip-10-0-127-133.eu-central-1.compute.internal:7 INFO utils.py:28] RULE_JOB_STOP_SIGNAL_FILENAME: None\u001b[0m\n",
      "\u001b[34m[2024-06-18 23:42:14.687 ip-10-0-127-133.eu-central-1.compute.internal:7 INFO profiler_config_parser.py:111] User has disabled profiler.\u001b[0m\n",
      "\u001b[34m[2024-06-18:23:42:14:INFO] Imported framework sagemaker_xgboost_container.training\u001b[0m\n",
      "\u001b[34m[2024-06-18:23:42:14:INFO] Failed to parse hyperparameter data_version value v1 to Json.\u001b[0m\n",
      "\u001b[34mReturning the value itself\u001b[0m\n",
      "\u001b[34m[2024-06-18:23:42:14:INFO] Failed to parse hyperparameter input_path value /opt/ml/input/data/train to Json.\u001b[0m\n",
      "\u001b[34mReturning the value itself\u001b[0m\n",
      "\u001b[34m[2024-06-18:23:42:14:INFO] Failed to parse hyperparameter model_output_path value /opt/ml/model/model to Json.\u001b[0m\n",
      "\u001b[34mReturning the value itself\u001b[0m\n",
      "\u001b[34m[2024-06-18:23:42:14:INFO] Failed to parse hyperparameter target_column value Close_target to Json.\u001b[0m\n",
      "\u001b[34mReturning the value itself\u001b[0m\n",
      "\u001b[34m[2024-06-18:23:42:14:INFO] No GPUs detected (normal if no gpus installed)\u001b[0m\n",
      "\u001b[34m[2024-06-18:23:42:14:INFO] Invoking user training script.\u001b[0m\n",
      "\u001b[34m[2024-06-18:23:42:14:INFO] Module trainer does not provide a setup.py. \u001b[0m\n",
      "\u001b[34mGenerating setup.py\u001b[0m\n",
      "\u001b[34m[2024-06-18:23:42:14:INFO] Generating setup.cfg\u001b[0m\n",
      "\u001b[34m[2024-06-18:23:42:14:INFO] Generating MANIFEST.in\u001b[0m\n",
      "\u001b[34m[2024-06-18:23:42:14:INFO] Installing module with the following command:\u001b[0m\n",
      "\u001b[34m/miniconda3/bin/python3 -m pip install . \u001b[0m\n",
      "\u001b[34mProcessing /opt/ml/code\n",
      "  Preparing metadata (setup.py): started\n",
      "  Preparing metadata (setup.py): finished with status 'done'\u001b[0m\n",
      "\u001b[34mBuilding wheels for collected packages: trainer\n",
      "  Building wheel for trainer (setup.py): started\n",
      "  Building wheel for trainer (setup.py): finished with status 'done'\n",
      "  Created wheel for trainer: filename=trainer-1.0.0-py2.py3-none-any.whl size=5255 sha256=a8003889c4825dd3ba0428eb3f891b15e42b67abc39dfdf33be055514da56845\n",
      "  Stored in directory: /home/model-server/tmp/pip-ephem-wheel-cache-6mkexpg4/wheels/3e/0f/51/2f1df833dd0412c1bc2f5ee56baac195b5be563353d111dca6\u001b[0m\n",
      "\u001b[34mSuccessfully built trainer\u001b[0m\n",
      "\u001b[34mInstalling collected packages: trainer\u001b[0m\n",
      "\u001b[34mSuccessfully installed trainer-1.0.0\u001b[0m\n",
      "\u001b[34mWARNING: Running pip as the 'root' user can result in broken permissions and conflicting behaviour with the system package manager. It is recommended to use a virtual environment instead: https://pip.pypa.io/warnings/venv\u001b[0m\n",
      "\u001b[34m[notice] A new release of pip is available: 23.0.1 -> 24.0\u001b[0m\n",
      "\u001b[34m[notice] To update, run: pip install --upgrade pip\u001b[0m\n",
      "\u001b[34m[2024-06-18:23:42:16:INFO] Failed to parse hyperparameter data_version value v1 to Json.\u001b[0m\n",
      "\u001b[34mReturning the value itself\u001b[0m\n",
      "\u001b[34m[2024-06-18:23:42:16:INFO] Failed to parse hyperparameter input_path value /opt/ml/input/data/train to Json.\u001b[0m\n",
      "\u001b[34mReturning the value itself\u001b[0m\n",
      "\u001b[34m[2024-06-18:23:42:16:INFO] Failed to parse hyperparameter model_output_path value /opt/ml/model/model to Json.\u001b[0m\n",
      "\u001b[34mReturning the value itself\u001b[0m\n",
      "\u001b[34m[2024-06-18:23:42:16:INFO] Failed to parse hyperparameter target_column value Close_target to Json.\u001b[0m\n",
      "\u001b[34mReturning the value itself\u001b[0m\n",
      "\u001b[34m[2024-06-18:23:42:16:INFO] No GPUs detected (normal if no gpus installed)\u001b[0m\n",
      "\u001b[34m[2024-06-18:23:42:16:INFO] Invoking user script\u001b[0m\n",
      "\u001b[34mTraining Env:\u001b[0m\n",
      "\u001b[34m{\n",
      "    \"additional_framework_parameters\": {},\n",
      "    \"channel_input_dirs\": {\n",
      "        \"train\": \"/opt/ml/input/data/train\"\n",
      "    },\n",
      "    \"current_host\": \"algo-1\",\n",
      "    \"framework_module\": \"sagemaker_xgboost_container.training:main\",\n",
      "    \"hosts\": [\n",
      "        \"algo-1\"\n",
      "    ],\n",
      "    \"hyperparameters\": {\n",
      "        \"data_version\": \"v1\",\n",
      "        \"input_path\": \"/opt/ml/input/data/train\",\n",
      "        \"model_output_path\": \"/opt/ml/model/model\",\n",
      "        \"num_trials\": 10,\n",
      "        \"target_column\": \"Close_target\"\n",
      "    },\n",
      "    \"input_config_dir\": \"/opt/ml/input/config\",\n",
      "    \"input_data_config\": {\n",
      "        \"train\": {\n",
      "            \"TrainingInputMode\": \"File\",\n",
      "            \"S3DistributionType\": \"FullyReplicated\",\n",
      "            \"RecordWrapperType\": \"None\"\n",
      "        }\n",
      "    },\n",
      "    \"input_dir\": \"/opt/ml/input\",\n",
      "    \"is_master\": true,\n",
      "    \"job_name\": \"sagemaker-xgboost-2024-06-18-23-40-03-184\",\n",
      "    \"log_level\": 20,\n",
      "    \"master_hostname\": \"algo-1\",\n",
      "    \"model_dir\": \"/opt/ml/model\",\n",
      "    \"module_dir\": \"s3://team1-index-predictor-bucket/sagemaker-xgboost-2024-06-18-23-40-03-184/source/sourcedir.tar.gz\",\n",
      "    \"module_name\": \"trainer\",\n",
      "    \"network_interface_name\": \"eth0\",\n",
      "    \"num_cpus\": 2,\n",
      "    \"num_gpus\": 0,\n",
      "    \"output_data_dir\": \"/opt/ml/output/data\",\n",
      "    \"output_dir\": \"/opt/ml/output\",\n",
      "    \"output_intermediate_dir\": \"/opt/ml/output/intermediate\",\n",
      "    \"resource_config\": {\n",
      "        \"current_host\": \"algo-1\",\n",
      "        \"current_instance_type\": \"ml.m5.large\",\n",
      "        \"current_group_name\": \"homogeneousCluster\",\n",
      "        \"hosts\": [\n",
      "            \"algo-1\"\n",
      "        ],\n",
      "        \"instance_groups\": [\n",
      "            {\n",
      "                \"instance_group_name\": \"homogeneousCluster\",\n",
      "                \"instance_type\": \"ml.m5.large\",\n",
      "                \"hosts\": [\n",
      "                    \"algo-1\"\n",
      "                ]\n",
      "            }\n",
      "        ],\n",
      "        \"network_interface_name\": \"eth0\"\n",
      "    },\n",
      "    \"user_entry_point\": \"trainer.py\"\u001b[0m\n",
      "\u001b[34m}\u001b[0m\n",
      "\u001b[34mEnvironment variables:\u001b[0m\n",
      "\u001b[34mSM_HOSTS=[\"algo-1\"]\u001b[0m\n",
      "\u001b[34mSM_NETWORK_INTERFACE_NAME=eth0\u001b[0m\n",
      "\u001b[34mSM_HPS={\"data_version\":\"v1\",\"input_path\":\"/opt/ml/input/data/train\",\"model_output_path\":\"/opt/ml/model/model\",\"num_trials\":10,\"target_column\":\"Close_target\"}\u001b[0m\n",
      "\u001b[34mSM_USER_ENTRY_POINT=trainer.py\u001b[0m\n",
      "\u001b[34mSM_FRAMEWORK_PARAMS={}\u001b[0m\n",
      "\u001b[34mSM_RESOURCE_CONFIG={\"current_group_name\":\"homogeneousCluster\",\"current_host\":\"algo-1\",\"current_instance_type\":\"ml.m5.large\",\"hosts\":[\"algo-1\"],\"instance_groups\":[{\"hosts\":[\"algo-1\"],\"instance_group_name\":\"homogeneousCluster\",\"instance_type\":\"ml.m5.large\"}],\"network_interface_name\":\"eth0\"}\u001b[0m\n",
      "\u001b[34mSM_INPUT_DATA_CONFIG={\"train\":{\"RecordWrapperType\":\"None\",\"S3DistributionType\":\"FullyReplicated\",\"TrainingInputMode\":\"File\"}}\u001b[0m\n",
      "\u001b[34mSM_OUTPUT_DATA_DIR=/opt/ml/output/data\u001b[0m\n",
      "\u001b[34mSM_CHANNELS=[\"train\"]\u001b[0m\n",
      "\u001b[34mSM_CURRENT_HOST=algo-1\u001b[0m\n",
      "\u001b[34mSM_MODULE_NAME=trainer\u001b[0m\n",
      "\u001b[34mSM_LOG_LEVEL=20\u001b[0m\n",
      "\u001b[34mSM_FRAMEWORK_MODULE=sagemaker_xgboost_container.training:main\u001b[0m\n",
      "\u001b[34mSM_INPUT_DIR=/opt/ml/input\u001b[0m\n",
      "\u001b[34mSM_INPUT_CONFIG_DIR=/opt/ml/input/config\u001b[0m\n",
      "\u001b[34mSM_OUTPUT_DIR=/opt/ml/output\u001b[0m\n",
      "\u001b[34mSM_NUM_CPUS=2\u001b[0m\n",
      "\u001b[34mSM_NUM_GPUS=0\u001b[0m\n",
      "\u001b[34mSM_MODEL_DIR=/opt/ml/model\u001b[0m\n",
      "\u001b[34mSM_MODULE_DIR=s3://team1-index-predictor-bucket/sagemaker-xgboost-2024-06-18-23-40-03-184/source/sourcedir.tar.gz\u001b[0m\n",
      "\u001b[34mSM_TRAINING_ENV={\"additional_framework_parameters\":{},\"channel_input_dirs\":{\"train\":\"/opt/ml/input/data/train\"},\"current_host\":\"algo-1\",\"framework_module\":\"sagemaker_xgboost_container.training:main\",\"hosts\":[\"algo-1\"],\"hyperparameters\":{\"data_version\":\"v1\",\"input_path\":\"/opt/ml/input/data/train\",\"model_output_path\":\"/opt/ml/model/model\",\"num_trials\":10,\"target_column\":\"Close_target\"},\"input_config_dir\":\"/opt/ml/input/config\",\"input_data_config\":{\"train\":{\"RecordWrapperType\":\"None\",\"S3DistributionType\":\"FullyReplicated\",\"TrainingInputMode\":\"File\"}},\"input_dir\":\"/opt/ml/input\",\"is_master\":true,\"job_name\":\"sagemaker-xgboost-2024-06-18-23-40-03-184\",\"log_level\":20,\"master_hostname\":\"algo-1\",\"model_dir\":\"/opt/ml/model\",\"module_dir\":\"s3://team1-index-predictor-bucket/sagemaker-xgboost-2024-06-18-23-40-03-184/source/sourcedir.tar.gz\",\"module_name\":\"trainer\",\"network_interface_name\":\"eth0\",\"num_cpus\":2,\"num_gpus\":0,\"output_data_dir\":\"/opt/ml/output/data\",\"output_dir\":\"/opt/ml/output\",\"output_intermediate_dir\":\"/opt/ml/output/intermediate\",\"resource_config\":{\"current_group_name\":\"homogeneousCluster\",\"current_host\":\"algo-1\",\"current_instance_type\":\"ml.m5.large\",\"hosts\":[\"algo-1\"],\"instance_groups\":[{\"hosts\":[\"algo-1\"],\"instance_group_name\":\"homogeneousCluster\",\"instance_type\":\"ml.m5.large\"}],\"network_interface_name\":\"eth0\"},\"user_entry_point\":\"trainer.py\"}\u001b[0m\n",
      "\u001b[34mSM_USER_ARGS=[\"--data_version\",\"v1\",\"--input_path\",\"/opt/ml/input/data/train\",\"--model_output_path\",\"/opt/ml/model/model\",\"--num_trials\",\"10\",\"--target_column\",\"Close_target\"]\u001b[0m\n",
      "\u001b[34mSM_OUTPUT_INTERMEDIATE_DIR=/opt/ml/output/intermediate\u001b[0m\n",
      "\u001b[34mSM_CHANNEL_TRAIN=/opt/ml/input/data/train\u001b[0m\n",
      "\u001b[34mSM_HP_DATA_VERSION=v1\u001b[0m\n",
      "\u001b[34mSM_HP_INPUT_PATH=/opt/ml/input/data/train\u001b[0m\n",
      "\u001b[34mSM_HP_MODEL_OUTPUT_PATH=/opt/ml/model/model\u001b[0m\n",
      "\u001b[34mSM_HP_NUM_TRIALS=10\u001b[0m\n",
      "\u001b[34mSM_HP_TARGET_COLUMN=Close_target\u001b[0m\n",
      "\u001b[34mPYTHONPATH=/miniconda3/bin:/:/miniconda3/lib/python/site-packages/xgboost/dmlc-core/tracker:/miniconda3/lib/python37.zip:/miniconda3/lib/python3.7:/miniconda3/lib/python3.7/lib-dynload:/miniconda3/lib/python3.7/site-packages\u001b[0m\n",
      "\u001b[34mInvoking script with the following command:\u001b[0m\n",
      "\u001b[34m/miniconda3/bin/python3 -m trainer --data_version v1 --input_path /opt/ml/input/data/train --model_output_path /opt/ml/model/model --num_trials 10 --target_column Close_target\u001b[0m\n",
      "\u001b[34mCollecting optuna\n",
      "  Downloading optuna-3.6.1-py3-none-any.whl (380 kB)\n",
      "     ━━━━━━━━━━━━━━━━━━━━━━━━━━━━━━━━━━━━━━ 380.1/380.1 kB 28.3 MB/s eta 0:00:00\u001b[0m\n",
      "\u001b[34mCollecting colorlog\n",
      "  Downloading colorlog-6.8.2-py3-none-any.whl (11 kB)\u001b[0m\n",
      "\u001b[34mCollecting tqdm\n",
      "  Downloading tqdm-4.66.4-py3-none-any.whl (78 kB)\n",
      "     ━━━━━━━━━━━━━━━━━━━━━━━━━━━━━━━━━━━━━━━━ 78.3/78.3 kB 17.5 MB/s eta 0:00:00\u001b[0m\n",
      "\u001b[34mRequirement already satisfied: numpy in /miniconda3/lib/python3.7/site-packages (from optuna) (1.21.6)\u001b[0m\n",
      "\u001b[34mCollecting alembic>=1.5.0\n",
      "  Downloading alembic-1.12.1-py3-none-any.whl (226 kB)\n",
      "     ━━━━━━━━━━━━━━━━━━━━━━━━━━━━━━━━━━━━━━ 226.8/226.8 kB 34.1 MB/s eta 0:00:00\u001b[0m\n",
      "\u001b[34mRequirement already satisfied: PyYAML in /miniconda3/lib/python3.7/site-packages (from optuna) (5.4.1)\u001b[0m\n",
      "\u001b[34mRequirement already satisfied: packaging>=20.0 in /miniconda3/lib/python3.7/site-packages (from optuna) (23.0)\u001b[0m\n",
      "\u001b[34mCollecting sqlalchemy>=1.3.0\n",
      "  Downloading SQLAlchemy-2.0.31-cp37-cp37m-manylinux_2_17_x86_64.manylinux2014_x86_64.whl (3.0 MB)\n",
      "     ━━━━━━━━━━━━━━━━━━━━━━━━━━━━━━━━━━━━━━━━ 3.0/3.0 MB 70.6 MB/s eta 0:00:00\u001b[0m\n",
      "\u001b[34mRequirement already satisfied: importlib-metadata in /miniconda3/lib/python3.7/site-packages (from alembic>=1.5.0->optuna) (6.0.0)\u001b[0m\n",
      "\u001b[34mCollecting importlib-resources\n",
      "  Downloading importlib_resources-5.12.0-py3-none-any.whl (36 kB)\u001b[0m\n",
      "\u001b[34mRequirement already satisfied: typing-extensions>=4 in /miniconda3/lib/python3.7/site-packages (from alembic>=1.5.0->optuna) (4.5.0)\u001b[0m\n",
      "\u001b[34mCollecting Mako\n",
      "  Downloading Mako-1.2.4-py3-none-any.whl (78 kB)\n",
      "     ━━━━━━━━━━━━━━━━━━━━━━━━━━━━━━━━━━━━━━━━ 78.7/78.7 kB 17.8 MB/s eta 0:00:00\u001b[0m\n",
      "\u001b[34mRequirement already satisfied: greenlet!=0.4.17 in /miniconda3/lib/python3.7/site-packages (from sqlalchemy>=1.3.0->optuna) (2.0.2)\u001b[0m\n",
      "\u001b[34mCollecting typing-extensions>=4\n",
      "  Downloading typing_extensions-4.7.1-py3-none-any.whl (33 kB)\u001b[0m\n",
      "\u001b[34mRequirement already satisfied: zipp>=0.5 in /miniconda3/lib/python3.7/site-packages (from importlib-metadata->alembic>=1.5.0->optuna) (3.14.0)\u001b[0m\n",
      "\u001b[34mRequirement already satisfied: MarkupSafe>=0.9.2 in /miniconda3/lib/python3.7/site-packages (from Mako->alembic>=1.5.0->optuna) (1.1.1)\u001b[0m\n",
      "\u001b[34mInstalling collected packages: typing-extensions, tqdm, importlib-resources, colorlog, sqlalchemy, Mako, alembic, optuna\n",
      "  Attempting uninstall: typing-extensions\n",
      "    Found existing installation: typing_extensions 4.5.0\n",
      "    Uninstalling typing_extensions-4.5.0:\n",
      "      Successfully uninstalled typing_extensions-4.5.0\u001b[0m\n",
      "\u001b[34mSuccessfully installed Mako-1.2.4 alembic-1.12.1 colorlog-6.8.2 importlib-resources-5.12.0 optuna-3.6.1 sqlalchemy-2.0.31 tqdm-4.66.4 typing-extensions-4.7.1\u001b[0m\n",
      "\u001b[34mWARNING: Running pip as the 'root' user can result in broken permissions and conflicting behaviour with the system package manager. It is recommended to use a virtual environment instead: https://pip.pypa.io/warnings/venv\u001b[0m\n",
      "\u001b[34m[notice] A new release of pip is available: 23.0.1 -> 24.0\u001b[0m\n",
      "\u001b[34m[notice] To update, run: pip install --upgrade pip\u001b[0m\n",
      "\n",
      "2024-06-18 23:44:05 Uploading - Uploading generated training model\u001b[34mValidation Accuracy: 56.11%\u001b[0m\n",
      "\u001b[34mModel saved to /opt/ml/model/model\u001b[0m\n",
      "\n",
      "2024-06-18 23:44:18 Completed - Training job completed\n",
      "Training seconds: 209\n",
      "Billable seconds: 209\n"
     ]
    }
   ],
   "source": [
    "with Run(\n",
    "    experiment_name=experiment_name,\n",
    "    run_name=trial_name,\n",
    "    run_display_name=trial_name,\n",
    "    sagemaker_session=session,\n",
    ") as run:\n",
    "    experiment_config = run.experiment_config\n",
    "\n",
    "xgboost_container = image_uris.retrieve(\"xgboost\", session.boto_region_name, version=\"1.3-1\")\n",
    "\n",
    "estimator = Estimator(\n",
    "    image_uri=xgboost_container,\n",
    "    role=sagemaker.get_execution_role(),\n",
    "    instance_count=1,\n",
    "    instance_type='ml.m5.large',\n",
    "    output_path=f\"s3://{bucket_name}/{output_bucket_prefix}\",\n",
    "    sagemaker_session=sagemaker.Session(),\n",
    "    entry_point='../src/models/trainer.py',\n",
    ")\n",
    "\n",
    "estimator.set_hyperparameters(\n",
    "    input_path=\"/opt/ml/input/data/train\",\n",
    "    data_version=data_version,\n",
    "    target_column='Close_target',\n",
    "    model_output_path=\"/opt/ml/model/model\",\n",
    "    num_trials=10\n",
    ")\n",
    "\n",
    "train_input = TrainingInput(s3_data=f\"s3://{bucket_name}/{input_prefix}\")\n",
    "\n",
    "estimator.fit({'train': train_input})"
   ]
  },
  {
   "cell_type": "code",
   "execution_count": 10,
   "id": "55f60f3b-4b5f-4fad-bcdf-a42555b60427",
   "metadata": {},
   "outputs": [
    {
     "name": "stdout",
     "output_type": "stream",
     "text": [
      "2024-06-18 23:44:15      72618 model.tar.gz\n"
     ]
    }
   ],
   "source": [
    "!aws s3 ls s3://{bucket_name}/{output_bucket_prefix}/model.xgb/sagemaker-xgboost-2024-06-18-23-40-03-184/output/model.tar.gz"
   ]
  },
  {
   "cell_type": "code",
   "execution_count": 54,
   "id": "68ea03be-068c-4cac-891d-a71713b7b780",
   "metadata": {},
   "outputs": [
    {
     "data": {
      "text/plain": [
       "24255"
      ]
     },
     "execution_count": 54,
     "metadata": {},
     "output_type": "execute_result"
    }
   ],
   "source": [
    "import gc\n",
    "gc.collect()"
   ]
  },
  {
   "cell_type": "code",
   "execution_count": 11,
   "id": "f3ea9f38-c0cb-4ec9-ad3f-11378a6b9a60",
   "metadata": {},
   "outputs": [
    {
     "name": "stdout",
     "output_type": "stream",
     "text": [
      "download: s3://team1-index-predictor-bucket/models/model.xgb/sagemaker-xgboost-2024-06-18-23-40-03-184/output/model.tar.gz to ./model.tar.gz\n"
     ]
    }
   ],
   "source": [
    "!aws s3 cp s3://{bucket_name}/{output_bucket_prefix}/model.xgb/sagemaker-xgboost-2024-06-18-23-40-03-184/output/model.tar.gz model.tar.gz"
   ]
  },
  {
   "cell_type": "code",
   "execution_count": null,
   "id": "39e315f3-6597-4669-9f29-3b526177b910",
   "metadata": {},
   "outputs": [],
   "source": []
  }
 ],
 "metadata": {
  "kernelspec": {
   "display_name": "Python 3 (ipykernel)",
   "language": "python",
   "name": "python3"
  },
  "language_info": {
   "codemirror_mode": {
    "name": "ipython",
    "version": 3
   },
   "file_extension": ".py",
   "mimetype": "text/x-python",
   "name": "python",
   "nbconvert_exporter": "python",
   "pygments_lexer": "ipython3",
   "version": "3.10.14"
  }
 },
 "nbformat": 4,
 "nbformat_minor": 5
}
