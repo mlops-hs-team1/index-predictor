{
 "cells": [
  {
   "cell_type": "code",
   "execution_count": 168,
   "id": "cf6f050d-2500-47be-8a48-48f70e3452f1",
   "metadata": {},
   "outputs": [],
   "source": [
    "import json\n",
    "import uuid\n",
    "import boto3\n",
    "import sagemaker\n",
    "import pandas as pd\n",
    "\n",
    "from sagemaker.feature_store.feature_group import FeatureGroup, FeatureDefinition, FeatureTypeEnum\n",
    "from sagemaker.feature_store.inputs import TableFormatEnum\n",
    "from datetime import datetime, timezone, date\n",
    "import time"
   ]
  },
  {
   "cell_type": "code",
   "execution_count": 169,
   "id": "24da81d2-3232-47fb-ad67-2b01f5cb44ca",
   "metadata": {},
   "outputs": [],
   "source": [
    "s3 = boto3.client('s3')\n",
    "session = sagemaker.Session()\n",
    "feature_store_client = session.boto_session.client('sagemaker-featurestore-runtime')\n",
    "sagemaker_client = session.boto_session.client('sagemaker')\n",
    "bucket_name = 'team1-index-predictor-bucket'\n",
    "feature_group_name = 'index-predictor-feature-group-v7'\n",
    "feature_store_bucket_prefix = 'feature-store-v7'\n",
    "sm_role = sagemaker.get_execution_role()"
   ]
  },
  {
   "cell_type": "code",
   "execution_count": 170,
   "id": "9361abe1-204b-4fb6-9da8-5ea0ce09f48a",
   "metadata": {},
   "outputs": [],
   "source": [
    "def generate_event_timestamp():\n",
    "    # naive datetime representing local time\n",
    "    naive_dt = datetime.now()\n",
    "    # take timezone into account\n",
    "    aware_dt = naive_dt.astimezone()\n",
    "    # time in UTC\n",
    "    utc_dt = aware_dt.astimezone(timezone.utc)\n",
    "    # transform to ISO-8601 format\n",
    "    event_time = utc_dt.isoformat(timespec='milliseconds')\n",
    "    event_time = event_time.replace('+00:00', 'Z')\n",
    "    return event_time"
   ]
  },
  {
   "cell_type": "code",
   "execution_count": 171,
   "id": "898204e7-221a-41e4-8bca-70755df460d8",
   "metadata": {},
   "outputs": [],
   "source": [
    "df = pd.read_csv(\"../data/processed/data.csv\")\n",
    "\n",
    "\n",
    "def convert_col_name(c):\n",
    "    return c.lower().replace('.', '_').replace('-', '_').rstrip('_')\n",
    "\n",
    "\n",
    "df = df.rename(columns=convert_col_name)"
   ]
  },
  {
   "cell_type": "code",
   "execution_count": 172,
   "id": "9bc7cfda-5b2a-47c0-b66c-0dd825513dfc",
   "metadata": {},
   "outputs": [
    {
     "name": "stdout",
     "output_type": "stream",
     "text": [
      "\n"
     ]
    }
   ],
   "source": [
    "feature_group = FeatureGroup(\n",
    "    name=feature_group_name,\n",
    "    sagemaker_session=session,\n",
    ")\n",
    "\n",
    "feature_group.load_feature_definitions(data_frame=df)\n",
    "\n",
    "print()"
   ]
  },
  {
   "cell_type": "code",
   "execution_count": 173,
   "id": "8970c68f-cfd8-4720-9d70-eb575dab1cb2",
   "metadata": {},
   "outputs": [
    {
     "data": {
      "text/plain": [
       "{'FeatureGroupArn': 'arn:aws:sagemaker:eu-central-1:567821811420:feature-group/index-predictor-feature-group-v7',\n",
       " 'ResponseMetadata': {'RequestId': 'a3dfe05c-1eab-4682-92d6-4a656e2bdbcd',\n",
       "  'HTTPStatusCode': 200,\n",
       "  'HTTPHeaders': {'x-amzn-requestid': 'a3dfe05c-1eab-4682-92d6-4a656e2bdbcd',\n",
       "   'content-type': 'application/x-amz-json-1.1',\n",
       "   'content-length': '112',\n",
       "   'date': 'Fri, 21 Jun 2024 07:15:55 GMT'},\n",
       "  'RetryAttempts': 0}}"
      ]
     },
     "execution_count": 173,
     "metadata": {},
     "output_type": "execute_result"
    }
   ],
   "source": [
    "feature_group.create(\n",
    "    s3_uri=f's3://{bucket_name}/{feature_store_bucket_prefix}',\n",
    "    record_identifier_name='datetime',\n",
    "    event_time_feature_name='datetime',\n",
    "    role_arn=sm_role, \n",
    "    enable_online_store=False,\n",
    "    table_format=TableFormatEnum.ICEBERG \n",
    ")"
   ]
  },
  {
   "cell_type": "code",
   "execution_count": 174,
   "id": "d369bed0-2d5d-425f-af43-94d0a7689e6c",
   "metadata": {},
   "outputs": [],
   "source": [
    "def wait_for_feature_group_creation_complete(feature_group):\n",
    "    status = feature_group.describe().get('FeatureGroupStatus')\n",
    "    print(f'Initial status: {status}')\n",
    "    while status == 'Creating':\n",
    "        print(f'Waiting for feature group: {feature_group.name} to be created ...')\n",
    "        time.sleep(5)\n",
    "        status = feature_group.describe().get('FeatureGroupStatus')\n",
    "    if status != 'Created':\n",
    "        raise SystemExit(f'Failed to create feature group {feature_group.name}: {status}')\n",
    "    print(f'FeatureGroup {feature_group.name} was successfully created.')"
   ]
  },
  {
   "cell_type": "code",
   "execution_count": 175,
   "id": "870fe90c-eb74-4b15-b48c-d0acf7f9498e",
   "metadata": {},
   "outputs": [
    {
     "name": "stdout",
     "output_type": "stream",
     "text": [
      "Initial status: Creating\n",
      "Waiting for feature group: index-predictor-feature-group-v7 to be created ...\n",
      "Waiting for feature group: index-predictor-feature-group-v7 to be created ...\n",
      "Waiting for feature group: index-predictor-feature-group-v7 to be created ...\n",
      "Waiting for feature group: index-predictor-feature-group-v7 to be created ...\n",
      "Waiting for feature group: index-predictor-feature-group-v7 to be created ...\n",
      "Waiting for feature group: index-predictor-feature-group-v7 to be created ...\n",
      "FeatureGroup index-predictor-feature-group-v7 was successfully created.\n"
     ]
    },
    {
     "data": {
      "text/plain": [
       "{'FeatureGroupArn': 'arn:aws:sagemaker:eu-central-1:567821811420:feature-group/index-predictor-feature-group-v7',\n",
       " 'FeatureGroupName': 'index-predictor-feature-group-v7',\n",
       " 'RecordIdentifierFeatureName': 'datetime',\n",
       " 'EventTimeFeatureName': 'datetime',\n",
       " 'FeatureDefinitions': [{'FeatureName': 'datetime', 'FeatureType': 'String'},\n",
       "  {'FeatureName': 'open', 'FeatureType': 'Fractional'},\n",
       "  {'FeatureName': 'high', 'FeatureType': 'Fractional'},\n",
       "  {'FeatureName': 'low', 'FeatureType': 'Fractional'},\n",
       "  {'FeatureName': 'close', 'FeatureType': 'Fractional'},\n",
       "  {'FeatureName': 'volume', 'FeatureType': 'Integral'},\n",
       "  {'FeatureName': 'hour', 'FeatureType': 'Integral'},\n",
       "  {'FeatureName': 'minute', 'FeatureType': 'Integral'},\n",
       "  {'FeatureName': 'dayofweek_0', 'FeatureType': 'Integral'},\n",
       "  {'FeatureName': 'dayofweek_1', 'FeatureType': 'Integral'},\n",
       "  {'FeatureName': 'dayofweek_2', 'FeatureType': 'Integral'},\n",
       "  {'FeatureName': 'dayofweek_3', 'FeatureType': 'Integral'},\n",
       "  {'FeatureName': 'dayofweek_4', 'FeatureType': 'Integral'},\n",
       "  {'FeatureName': 'open_lag_1', 'FeatureType': 'Fractional'},\n",
       "  {'FeatureName': 'close_lag_1', 'FeatureType': 'Fractional'},\n",
       "  {'FeatureName': 'high_lag_1', 'FeatureType': 'Fractional'},\n",
       "  {'FeatureName': 'low_lag_1', 'FeatureType': 'Fractional'},\n",
       "  {'FeatureName': 'volume_lag_1', 'FeatureType': 'Fractional'},\n",
       "  {'FeatureName': 'open_lag_2', 'FeatureType': 'Fractional'},\n",
       "  {'FeatureName': 'close_lag_2', 'FeatureType': 'Fractional'},\n",
       "  {'FeatureName': 'high_lag_2', 'FeatureType': 'Fractional'},\n",
       "  {'FeatureName': 'low_lag_2', 'FeatureType': 'Fractional'},\n",
       "  {'FeatureName': 'volume_lag_2', 'FeatureType': 'Fractional'},\n",
       "  {'FeatureName': 'open_lag_3', 'FeatureType': 'Fractional'},\n",
       "  {'FeatureName': 'close_lag_3', 'FeatureType': 'Fractional'},\n",
       "  {'FeatureName': 'high_lag_3', 'FeatureType': 'Fractional'},\n",
       "  {'FeatureName': 'low_lag_3', 'FeatureType': 'Fractional'},\n",
       "  {'FeatureName': 'volume_lag_3', 'FeatureType': 'Fractional'},\n",
       "  {'FeatureName': 'open_lag_4', 'FeatureType': 'Fractional'},\n",
       "  {'FeatureName': 'close_lag_4', 'FeatureType': 'Fractional'},\n",
       "  {'FeatureName': 'high_lag_4', 'FeatureType': 'Fractional'},\n",
       "  {'FeatureName': 'low_lag_4', 'FeatureType': 'Fractional'},\n",
       "  {'FeatureName': 'volume_lag_4', 'FeatureType': 'Fractional'},\n",
       "  {'FeatureName': 'open_lag_5', 'FeatureType': 'Fractional'},\n",
       "  {'FeatureName': 'close_lag_5', 'FeatureType': 'Fractional'},\n",
       "  {'FeatureName': 'high_lag_5', 'FeatureType': 'Fractional'},\n",
       "  {'FeatureName': 'low_lag_5', 'FeatureType': 'Fractional'},\n",
       "  {'FeatureName': 'volume_lag_5', 'FeatureType': 'Fractional'},\n",
       "  {'FeatureName': 'open_lag_6', 'FeatureType': 'Fractional'},\n",
       "  {'FeatureName': 'close_lag_6', 'FeatureType': 'Fractional'},\n",
       "  {'FeatureName': 'high_lag_6', 'FeatureType': 'Fractional'},\n",
       "  {'FeatureName': 'low_lag_6', 'FeatureType': 'Fractional'},\n",
       "  {'FeatureName': 'volume_lag_6', 'FeatureType': 'Fractional'},\n",
       "  {'FeatureName': 'open_lag_7', 'FeatureType': 'Fractional'},\n",
       "  {'FeatureName': 'close_lag_7', 'FeatureType': 'Fractional'},\n",
       "  {'FeatureName': 'high_lag_7', 'FeatureType': 'Fractional'},\n",
       "  {'FeatureName': 'low_lag_7', 'FeatureType': 'Fractional'},\n",
       "  {'FeatureName': 'volume_lag_7', 'FeatureType': 'Fractional'},\n",
       "  {'FeatureName': 'open_lag_8', 'FeatureType': 'Fractional'},\n",
       "  {'FeatureName': 'close_lag_8', 'FeatureType': 'Fractional'},\n",
       "  {'FeatureName': 'high_lag_8', 'FeatureType': 'Fractional'},\n",
       "  {'FeatureName': 'low_lag_8', 'FeatureType': 'Fractional'},\n",
       "  {'FeatureName': 'volume_lag_8', 'FeatureType': 'Fractional'},\n",
       "  {'FeatureName': 'open_lag_9', 'FeatureType': 'Fractional'},\n",
       "  {'FeatureName': 'close_lag_9', 'FeatureType': 'Fractional'},\n",
       "  {'FeatureName': 'high_lag_9', 'FeatureType': 'Fractional'},\n",
       "  {'FeatureName': 'low_lag_9', 'FeatureType': 'Fractional'},\n",
       "  {'FeatureName': 'volume_lag_9', 'FeatureType': 'Fractional'},\n",
       "  {'FeatureName': 'open_lag_10', 'FeatureType': 'Fractional'},\n",
       "  {'FeatureName': 'close_lag_10', 'FeatureType': 'Fractional'},\n",
       "  {'FeatureName': 'high_lag_10', 'FeatureType': 'Fractional'},\n",
       "  {'FeatureName': 'low_lag_10', 'FeatureType': 'Fractional'},\n",
       "  {'FeatureName': 'volume_lag_10', 'FeatureType': 'Fractional'},\n",
       "  {'FeatureName': 'open_lag_11', 'FeatureType': 'Fractional'},\n",
       "  {'FeatureName': 'close_lag_11', 'FeatureType': 'Fractional'},\n",
       "  {'FeatureName': 'high_lag_11', 'FeatureType': 'Fractional'},\n",
       "  {'FeatureName': 'low_lag_11', 'FeatureType': 'Fractional'},\n",
       "  {'FeatureName': 'volume_lag_11', 'FeatureType': 'Fractional'},\n",
       "  {'FeatureName': 'open_lag_12', 'FeatureType': 'Fractional'},\n",
       "  {'FeatureName': 'close_lag_12', 'FeatureType': 'Fractional'},\n",
       "  {'FeatureName': 'high_lag_12', 'FeatureType': 'Fractional'},\n",
       "  {'FeatureName': 'low_lag_12', 'FeatureType': 'Fractional'},\n",
       "  {'FeatureName': 'volume_lag_12', 'FeatureType': 'Fractional'},\n",
       "  {'FeatureName': 'open_lag_13', 'FeatureType': 'Fractional'},\n",
       "  {'FeatureName': 'close_lag_13', 'FeatureType': 'Fractional'},\n",
       "  {'FeatureName': 'high_lag_13', 'FeatureType': 'Fractional'},\n",
       "  {'FeatureName': 'low_lag_13', 'FeatureType': 'Fractional'},\n",
       "  {'FeatureName': 'volume_lag_13', 'FeatureType': 'Fractional'},\n",
       "  {'FeatureName': 'open_lag_14', 'FeatureType': 'Fractional'},\n",
       "  {'FeatureName': 'close_lag_14', 'FeatureType': 'Fractional'},\n",
       "  {'FeatureName': 'high_lag_14', 'FeatureType': 'Fractional'},\n",
       "  {'FeatureName': 'low_lag_14', 'FeatureType': 'Fractional'},\n",
       "  {'FeatureName': 'volume_lag_14', 'FeatureType': 'Fractional'},\n",
       "  {'FeatureName': 'open_lag_15', 'FeatureType': 'Fractional'},\n",
       "  {'FeatureName': 'close_lag_15', 'FeatureType': 'Fractional'},\n",
       "  {'FeatureName': 'high_lag_15', 'FeatureType': 'Fractional'},\n",
       "  {'FeatureName': 'low_lag_15', 'FeatureType': 'Fractional'},\n",
       "  {'FeatureName': 'volume_lag_15', 'FeatureType': 'Fractional'},\n",
       "  {'FeatureName': 'open_lag_16', 'FeatureType': 'Fractional'},\n",
       "  {'FeatureName': 'close_lag_16', 'FeatureType': 'Fractional'},\n",
       "  {'FeatureName': 'high_lag_16', 'FeatureType': 'Fractional'},\n",
       "  {'FeatureName': 'low_lag_16', 'FeatureType': 'Fractional'},\n",
       "  {'FeatureName': 'volume_lag_16', 'FeatureType': 'Fractional'},\n",
       "  {'FeatureName': 'open_lag_17', 'FeatureType': 'Fractional'},\n",
       "  {'FeatureName': 'close_lag_17', 'FeatureType': 'Fractional'},\n",
       "  {'FeatureName': 'high_lag_17', 'FeatureType': 'Fractional'},\n",
       "  {'FeatureName': 'low_lag_17', 'FeatureType': 'Fractional'},\n",
       "  {'FeatureName': 'volume_lag_17', 'FeatureType': 'Fractional'},\n",
       "  {'FeatureName': 'open_lag_18', 'FeatureType': 'Fractional'},\n",
       "  {'FeatureName': 'close_lag_18', 'FeatureType': 'Fractional'},\n",
       "  {'FeatureName': 'high_lag_18', 'FeatureType': 'Fractional'},\n",
       "  {'FeatureName': 'low_lag_18', 'FeatureType': 'Fractional'},\n",
       "  {'FeatureName': 'volume_lag_18', 'FeatureType': 'Fractional'},\n",
       "  {'FeatureName': 'open_lag_19', 'FeatureType': 'Fractional'},\n",
       "  {'FeatureName': 'close_lag_19', 'FeatureType': 'Fractional'},\n",
       "  {'FeatureName': 'high_lag_19', 'FeatureType': 'Fractional'},\n",
       "  {'FeatureName': 'low_lag_19', 'FeatureType': 'Fractional'},\n",
       "  {'FeatureName': 'volume_lag_19', 'FeatureType': 'Fractional'},\n",
       "  {'FeatureName': 'open_lag_20', 'FeatureType': 'Fractional'},\n",
       "  {'FeatureName': 'close_lag_20', 'FeatureType': 'Fractional'},\n",
       "  {'FeatureName': 'high_lag_20', 'FeatureType': 'Fractional'},\n",
       "  {'FeatureName': 'low_lag_20', 'FeatureType': 'Fractional'},\n",
       "  {'FeatureName': 'volume_lag_20', 'FeatureType': 'Fractional'},\n",
       "  {'FeatureName': 'open_lag_21', 'FeatureType': 'Fractional'},\n",
       "  {'FeatureName': 'close_lag_21', 'FeatureType': 'Fractional'},\n",
       "  {'FeatureName': 'high_lag_21', 'FeatureType': 'Fractional'},\n",
       "  {'FeatureName': 'low_lag_21', 'FeatureType': 'Fractional'},\n",
       "  {'FeatureName': 'volume_lag_21', 'FeatureType': 'Fractional'},\n",
       "  {'FeatureName': 'open_lag_22', 'FeatureType': 'Fractional'},\n",
       "  {'FeatureName': 'close_lag_22', 'FeatureType': 'Fractional'},\n",
       "  {'FeatureName': 'high_lag_22', 'FeatureType': 'Fractional'},\n",
       "  {'FeatureName': 'low_lag_22', 'FeatureType': 'Fractional'},\n",
       "  {'FeatureName': 'volume_lag_22', 'FeatureType': 'Fractional'},\n",
       "  {'FeatureName': 'open_lag_23', 'FeatureType': 'Fractional'},\n",
       "  {'FeatureName': 'close_lag_23', 'FeatureType': 'Fractional'},\n",
       "  {'FeatureName': 'high_lag_23', 'FeatureType': 'Fractional'},\n",
       "  {'FeatureName': 'low_lag_23', 'FeatureType': 'Fractional'},\n",
       "  {'FeatureName': 'volume_lag_23', 'FeatureType': 'Fractional'},\n",
       "  {'FeatureName': 'open_lag_24', 'FeatureType': 'Fractional'},\n",
       "  {'FeatureName': 'close_lag_24', 'FeatureType': 'Fractional'},\n",
       "  {'FeatureName': 'high_lag_24', 'FeatureType': 'Fractional'},\n",
       "  {'FeatureName': 'low_lag_24', 'FeatureType': 'Fractional'},\n",
       "  {'FeatureName': 'volume_lag_24', 'FeatureType': 'Fractional'},\n",
       "  {'FeatureName': 'open_lag_25', 'FeatureType': 'Fractional'},\n",
       "  {'FeatureName': 'close_lag_25', 'FeatureType': 'Fractional'},\n",
       "  {'FeatureName': 'high_lag_25', 'FeatureType': 'Fractional'},\n",
       "  {'FeatureName': 'low_lag_25', 'FeatureType': 'Fractional'},\n",
       "  {'FeatureName': 'volume_lag_25', 'FeatureType': 'Fractional'},\n",
       "  {'FeatureName': 'open_lag_26', 'FeatureType': 'Fractional'},\n",
       "  {'FeatureName': 'close_lag_26', 'FeatureType': 'Fractional'},\n",
       "  {'FeatureName': 'high_lag_26', 'FeatureType': 'Fractional'},\n",
       "  {'FeatureName': 'low_lag_26', 'FeatureType': 'Fractional'},\n",
       "  {'FeatureName': 'volume_lag_26', 'FeatureType': 'Fractional'},\n",
       "  {'FeatureName': 'open_lag_27', 'FeatureType': 'Fractional'},\n",
       "  {'FeatureName': 'close_lag_27', 'FeatureType': 'Fractional'},\n",
       "  {'FeatureName': 'high_lag_27', 'FeatureType': 'Fractional'},\n",
       "  {'FeatureName': 'low_lag_27', 'FeatureType': 'Fractional'},\n",
       "  {'FeatureName': 'volume_lag_27', 'FeatureType': 'Fractional'},\n",
       "  {'FeatureName': 'open_lag_28', 'FeatureType': 'Fractional'},\n",
       "  {'FeatureName': 'close_lag_28', 'FeatureType': 'Fractional'},\n",
       "  {'FeatureName': 'high_lag_28', 'FeatureType': 'Fractional'},\n",
       "  {'FeatureName': 'low_lag_28', 'FeatureType': 'Fractional'},\n",
       "  {'FeatureName': 'volume_lag_28', 'FeatureType': 'Fractional'},\n",
       "  {'FeatureName': 'open_lag_29', 'FeatureType': 'Fractional'},\n",
       "  {'FeatureName': 'close_lag_29', 'FeatureType': 'Fractional'},\n",
       "  {'FeatureName': 'high_lag_29', 'FeatureType': 'Fractional'},\n",
       "  {'FeatureName': 'low_lag_29', 'FeatureType': 'Fractional'},\n",
       "  {'FeatureName': 'volume_lag_29', 'FeatureType': 'Fractional'},\n",
       "  {'FeatureName': 'open_lag_30', 'FeatureType': 'Fractional'},\n",
       "  {'FeatureName': 'close_lag_30', 'FeatureType': 'Fractional'},\n",
       "  {'FeatureName': 'high_lag_30', 'FeatureType': 'Fractional'},\n",
       "  {'FeatureName': 'low_lag_30', 'FeatureType': 'Fractional'},\n",
       "  {'FeatureName': 'volume_lag_30', 'FeatureType': 'Fractional'},\n",
       "  {'FeatureName': 'close_target', 'FeatureType': 'Integral'},\n",
       "  {'FeatureName': 'type', 'FeatureType': 'String'},\n",
       "  {'FeatureName': 'version', 'FeatureType': 'String'}],\n",
       " 'CreationTime': datetime.datetime(2024, 6, 21, 7, 15, 55, 489000, tzinfo=tzlocal()),\n",
       " 'OfflineStoreConfig': {'S3StorageConfig': {'S3Uri': 's3://team1-index-predictor-bucket/feature-store-v7',\n",
       "   'ResolvedOutputS3Uri': 's3://team1-index-predictor-bucket/feature-store-v7/567821811420/sagemaker/eu-central-1/offline-store/index-predictor-feature-group-v7-1718954155/data'},\n",
       "  'DisableGlueTableCreation': False,\n",
       "  'DataCatalogConfig': {'TableName': 'index_predictor_feature_group_v7_1718954155',\n",
       "   'Catalog': 'AwsDataCatalog',\n",
       "   'Database': 'SageMaker_FeatureStore'},\n",
       "  'TableFormat': 'Iceberg'},\n",
       " 'ThroughputConfig': {'ThroughputMode': 'OnDemand'},\n",
       " 'RoleArn': 'arn:aws:iam::567821811420:role/service-role/AmazonSageMaker-ExecutionRole-20230619T084765',\n",
       " 'FeatureGroupStatus': 'Created',\n",
       " 'ResponseMetadata': {'RequestId': '4948f859-a898-4a58-8935-4acb0dfd4036',\n",
       "  'HTTPStatusCode': 200,\n",
       "  'HTTPHeaders': {'x-amzn-requestid': '4948f859-a898-4a58-8935-4acb0dfd4036',\n",
       "   'content-type': 'application/x-amz-json-1.1',\n",
       "   'content-length': '10345',\n",
       "   'date': 'Fri, 21 Jun 2024 07:16:29 GMT'},\n",
       "  'RetryAttempts': 0}}"
      ]
     },
     "execution_count": 175,
     "metadata": {},
     "output_type": "execute_result"
    }
   ],
   "source": [
    "wait_for_feature_group_creation_complete(feature_group)\n",
    "\n",
    "feature_group.describe()"
   ]
  },
  {
   "cell_type": "code",
   "execution_count": 154,
   "id": "d5bda8d5-c5ac-45e9-9630-c8e45339f091",
   "metadata": {},
   "outputs": [
    {
     "data": {
      "text/plain": [
       "IngestionManagerPandas(feature_group_name='index-predictor-feature-group-v6', feature_definitions={'datetime': {'FeatureName': 'datetime', 'FeatureType': 'String'}, 'open': {'FeatureName': 'open', 'FeatureType': 'Fractional'}, 'high': {'FeatureName': 'high', 'FeatureType': 'Fractional'}, 'low': {'FeatureName': 'low', 'FeatureType': 'Fractional'}, 'close': {'FeatureName': 'close', 'FeatureType': 'Fractional'}, 'volume': {'FeatureName': 'volume', 'FeatureType': 'Integral'}, 'hour': {'FeatureName': 'hour', 'FeatureType': 'Integral'}, 'minute': {'FeatureName': 'minute', 'FeatureType': 'Integral'}, 'dayofweek_0': {'FeatureName': 'dayofweek_0', 'FeatureType': 'Integral'}, 'dayofweek_1': {'FeatureName': 'dayofweek_1', 'FeatureType': 'Integral'}, 'dayofweek_2': {'FeatureName': 'dayofweek_2', 'FeatureType': 'Integral'}, 'dayofweek_3': {'FeatureName': 'dayofweek_3', 'FeatureType': 'Integral'}, 'dayofweek_4': {'FeatureName': 'dayofweek_4', 'FeatureType': 'Integral'}, 'open_lag_1': {'FeatureName': 'open_lag_1', 'FeatureType': 'Fractional'}, 'close_lag_1': {'FeatureName': 'close_lag_1', 'FeatureType': 'Fractional'}, 'high_lag_1': {'FeatureName': 'high_lag_1', 'FeatureType': 'Fractional'}, 'low_lag_1': {'FeatureName': 'low_lag_1', 'FeatureType': 'Fractional'}, 'volume_lag_1': {'FeatureName': 'volume_lag_1', 'FeatureType': 'Fractional'}, 'open_lag_2': {'FeatureName': 'open_lag_2', 'FeatureType': 'Fractional'}, 'close_lag_2': {'FeatureName': 'close_lag_2', 'FeatureType': 'Fractional'}, 'high_lag_2': {'FeatureName': 'high_lag_2', 'FeatureType': 'Fractional'}, 'low_lag_2': {'FeatureName': 'low_lag_2', 'FeatureType': 'Fractional'}, 'volume_lag_2': {'FeatureName': 'volume_lag_2', 'FeatureType': 'Fractional'}, 'open_lag_3': {'FeatureName': 'open_lag_3', 'FeatureType': 'Fractional'}, 'close_lag_3': {'FeatureName': 'close_lag_3', 'FeatureType': 'Fractional'}, 'high_lag_3': {'FeatureName': 'high_lag_3', 'FeatureType': 'Fractional'}, 'low_lag_3': {'FeatureName': 'low_lag_3', 'FeatureType': 'Fractional'}, 'volume_lag_3': {'FeatureName': 'volume_lag_3', 'FeatureType': 'Fractional'}, 'open_lag_4': {'FeatureName': 'open_lag_4', 'FeatureType': 'Fractional'}, 'close_lag_4': {'FeatureName': 'close_lag_4', 'FeatureType': 'Fractional'}, 'high_lag_4': {'FeatureName': 'high_lag_4', 'FeatureType': 'Fractional'}, 'low_lag_4': {'FeatureName': 'low_lag_4', 'FeatureType': 'Fractional'}, 'volume_lag_4': {'FeatureName': 'volume_lag_4', 'FeatureType': 'Fractional'}, 'open_lag_5': {'FeatureName': 'open_lag_5', 'FeatureType': 'Fractional'}, 'close_lag_5': {'FeatureName': 'close_lag_5', 'FeatureType': 'Fractional'}, 'high_lag_5': {'FeatureName': 'high_lag_5', 'FeatureType': 'Fractional'}, 'low_lag_5': {'FeatureName': 'low_lag_5', 'FeatureType': 'Fractional'}, 'volume_lag_5': {'FeatureName': 'volume_lag_5', 'FeatureType': 'Fractional'}, 'open_lag_6': {'FeatureName': 'open_lag_6', 'FeatureType': 'Fractional'}, 'close_lag_6': {'FeatureName': 'close_lag_6', 'FeatureType': 'Fractional'}, 'high_lag_6': {'FeatureName': 'high_lag_6', 'FeatureType': 'Fractional'}, 'low_lag_6': {'FeatureName': 'low_lag_6', 'FeatureType': 'Fractional'}, 'volume_lag_6': {'FeatureName': 'volume_lag_6', 'FeatureType': 'Fractional'}, 'open_lag_7': {'FeatureName': 'open_lag_7', 'FeatureType': 'Fractional'}, 'close_lag_7': {'FeatureName': 'close_lag_7', 'FeatureType': 'Fractional'}, 'high_lag_7': {'FeatureName': 'high_lag_7', 'FeatureType': 'Fractional'}, 'low_lag_7': {'FeatureName': 'low_lag_7', 'FeatureType': 'Fractional'}, 'volume_lag_7': {'FeatureName': 'volume_lag_7', 'FeatureType': 'Fractional'}, 'open_lag_8': {'FeatureName': 'open_lag_8', 'FeatureType': 'Fractional'}, 'close_lag_8': {'FeatureName': 'close_lag_8', 'FeatureType': 'Fractional'}, 'high_lag_8': {'FeatureName': 'high_lag_8', 'FeatureType': 'Fractional'}, 'low_lag_8': {'FeatureName': 'low_lag_8', 'FeatureType': 'Fractional'}, 'volume_lag_8': {'FeatureName': 'volume_lag_8', 'FeatureType': 'Fractional'}, 'open_lag_9': {'FeatureName': 'open_lag_9', 'FeatureType': 'Fractional'}, 'close_lag_9': {'FeatureName': 'close_lag_9', 'FeatureType': 'Fractional'}, 'high_lag_9': {'FeatureName': 'high_lag_9', 'FeatureType': 'Fractional'}, 'low_lag_9': {'FeatureName': 'low_lag_9', 'FeatureType': 'Fractional'}, 'volume_lag_9': {'FeatureName': 'volume_lag_9', 'FeatureType': 'Fractional'}, 'open_lag_10': {'FeatureName': 'open_lag_10', 'FeatureType': 'Fractional'}, 'close_lag_10': {'FeatureName': 'close_lag_10', 'FeatureType': 'Fractional'}, 'high_lag_10': {'FeatureName': 'high_lag_10', 'FeatureType': 'Fractional'}, 'low_lag_10': {'FeatureName': 'low_lag_10', 'FeatureType': 'Fractional'}, 'volume_lag_10': {'FeatureName': 'volume_lag_10', 'FeatureType': 'Fractional'}, 'open_lag_11': {'FeatureName': 'open_lag_11', 'FeatureType': 'Fractional'}, 'close_lag_11': {'FeatureName': 'close_lag_11', 'FeatureType': 'Fractional'}, 'high_lag_11': {'FeatureName': 'high_lag_11', 'FeatureType': 'Fractional'}, 'low_lag_11': {'FeatureName': 'low_lag_11', 'FeatureType': 'Fractional'}, 'volume_lag_11': {'FeatureName': 'volume_lag_11', 'FeatureType': 'Fractional'}, 'open_lag_12': {'FeatureName': 'open_lag_12', 'FeatureType': 'Fractional'}, 'close_lag_12': {'FeatureName': 'close_lag_12', 'FeatureType': 'Fractional'}, 'high_lag_12': {'FeatureName': 'high_lag_12', 'FeatureType': 'Fractional'}, 'low_lag_12': {'FeatureName': 'low_lag_12', 'FeatureType': 'Fractional'}, 'volume_lag_12': {'FeatureName': 'volume_lag_12', 'FeatureType': 'Fractional'}, 'open_lag_13': {'FeatureName': 'open_lag_13', 'FeatureType': 'Fractional'}, 'close_lag_13': {'FeatureName': 'close_lag_13', 'FeatureType': 'Fractional'}, 'high_lag_13': {'FeatureName': 'high_lag_13', 'FeatureType': 'Fractional'}, 'low_lag_13': {'FeatureName': 'low_lag_13', 'FeatureType': 'Fractional'}, 'volume_lag_13': {'FeatureName': 'volume_lag_13', 'FeatureType': 'Fractional'}, 'open_lag_14': {'FeatureName': 'open_lag_14', 'FeatureType': 'Fractional'}, 'close_lag_14': {'FeatureName': 'close_lag_14', 'FeatureType': 'Fractional'}, 'high_lag_14': {'FeatureName': 'high_lag_14', 'FeatureType': 'Fractional'}, 'low_lag_14': {'FeatureName': 'low_lag_14', 'FeatureType': 'Fractional'}, 'volume_lag_14': {'FeatureName': 'volume_lag_14', 'FeatureType': 'Fractional'}, 'open_lag_15': {'FeatureName': 'open_lag_15', 'FeatureType': 'Fractional'}, 'close_lag_15': {'FeatureName': 'close_lag_15', 'FeatureType': 'Fractional'}, 'high_lag_15': {'FeatureName': 'high_lag_15', 'FeatureType': 'Fractional'}, 'low_lag_15': {'FeatureName': 'low_lag_15', 'FeatureType': 'Fractional'}, 'volume_lag_15': {'FeatureName': 'volume_lag_15', 'FeatureType': 'Fractional'}, 'open_lag_16': {'FeatureName': 'open_lag_16', 'FeatureType': 'Fractional'}, 'close_lag_16': {'FeatureName': 'close_lag_16', 'FeatureType': 'Fractional'}, 'high_lag_16': {'FeatureName': 'high_lag_16', 'FeatureType': 'Fractional'}, 'low_lag_16': {'FeatureName': 'low_lag_16', 'FeatureType': 'Fractional'}, 'volume_lag_16': {'FeatureName': 'volume_lag_16', 'FeatureType': 'Fractional'}, 'open_lag_17': {'FeatureName': 'open_lag_17', 'FeatureType': 'Fractional'}, 'close_lag_17': {'FeatureName': 'close_lag_17', 'FeatureType': 'Fractional'}, 'high_lag_17': {'FeatureName': 'high_lag_17', 'FeatureType': 'Fractional'}, 'low_lag_17': {'FeatureName': 'low_lag_17', 'FeatureType': 'Fractional'}, 'volume_lag_17': {'FeatureName': 'volume_lag_17', 'FeatureType': 'Fractional'}, 'open_lag_18': {'FeatureName': 'open_lag_18', 'FeatureType': 'Fractional'}, 'close_lag_18': {'FeatureName': 'close_lag_18', 'FeatureType': 'Fractional'}, 'high_lag_18': {'FeatureName': 'high_lag_18', 'FeatureType': 'Fractional'}, 'low_lag_18': {'FeatureName': 'low_lag_18', 'FeatureType': 'Fractional'}, 'volume_lag_18': {'FeatureName': 'volume_lag_18', 'FeatureType': 'Fractional'}, 'open_lag_19': {'FeatureName': 'open_lag_19', 'FeatureType': 'Fractional'}, 'close_lag_19': {'FeatureName': 'close_lag_19', 'FeatureType': 'Fractional'}, 'high_lag_19': {'FeatureName': 'high_lag_19', 'FeatureType': 'Fractional'}, 'low_lag_19': {'FeatureName': 'low_lag_19', 'FeatureType': 'Fractional'}, 'volume_lag_19': {'FeatureName': 'volume_lag_19', 'FeatureType': 'Fractional'}, 'open_lag_20': {'FeatureName': 'open_lag_20', 'FeatureType': 'Fractional'}, 'close_lag_20': {'FeatureName': 'close_lag_20', 'FeatureType': 'Fractional'}, 'high_lag_20': {'FeatureName': 'high_lag_20', 'FeatureType': 'Fractional'}, 'low_lag_20': {'FeatureName': 'low_lag_20', 'FeatureType': 'Fractional'}, 'volume_lag_20': {'FeatureName': 'volume_lag_20', 'FeatureType': 'Fractional'}, 'open_lag_21': {'FeatureName': 'open_lag_21', 'FeatureType': 'Fractional'}, 'close_lag_21': {'FeatureName': 'close_lag_21', 'FeatureType': 'Fractional'}, 'high_lag_21': {'FeatureName': 'high_lag_21', 'FeatureType': 'Fractional'}, 'low_lag_21': {'FeatureName': 'low_lag_21', 'FeatureType': 'Fractional'}, 'volume_lag_21': {'FeatureName': 'volume_lag_21', 'FeatureType': 'Fractional'}, 'open_lag_22': {'FeatureName': 'open_lag_22', 'FeatureType': 'Fractional'}, 'close_lag_22': {'FeatureName': 'close_lag_22', 'FeatureType': 'Fractional'}, 'high_lag_22': {'FeatureName': 'high_lag_22', 'FeatureType': 'Fractional'}, 'low_lag_22': {'FeatureName': 'low_lag_22', 'FeatureType': 'Fractional'}, 'volume_lag_22': {'FeatureName': 'volume_lag_22', 'FeatureType': 'Fractional'}, 'open_lag_23': {'FeatureName': 'open_lag_23', 'FeatureType': 'Fractional'}, 'close_lag_23': {'FeatureName': 'close_lag_23', 'FeatureType': 'Fractional'}, 'high_lag_23': {'FeatureName': 'high_lag_23', 'FeatureType': 'Fractional'}, 'low_lag_23': {'FeatureName': 'low_lag_23', 'FeatureType': 'Fractional'}, 'volume_lag_23': {'FeatureName': 'volume_lag_23', 'FeatureType': 'Fractional'}, 'open_lag_24': {'FeatureName': 'open_lag_24', 'FeatureType': 'Fractional'}, 'close_lag_24': {'FeatureName': 'close_lag_24', 'FeatureType': 'Fractional'}, 'high_lag_24': {'FeatureName': 'high_lag_24', 'FeatureType': 'Fractional'}, 'low_lag_24': {'FeatureName': 'low_lag_24', 'FeatureType': 'Fractional'}, 'volume_lag_24': {'FeatureName': 'volume_lag_24', 'FeatureType': 'Fractional'}, 'open_lag_25': {'FeatureName': 'open_lag_25', 'FeatureType': 'Fractional'}, 'close_lag_25': {'FeatureName': 'close_lag_25', 'FeatureType': 'Fractional'}, 'high_lag_25': {'FeatureName': 'high_lag_25', 'FeatureType': 'Fractional'}, 'low_lag_25': {'FeatureName': 'low_lag_25', 'FeatureType': 'Fractional'}, 'volume_lag_25': {'FeatureName': 'volume_lag_25', 'FeatureType': 'Fractional'}, 'open_lag_26': {'FeatureName': 'open_lag_26', 'FeatureType': 'Fractional'}, 'close_lag_26': {'FeatureName': 'close_lag_26', 'FeatureType': 'Fractional'}, 'high_lag_26': {'FeatureName': 'high_lag_26', 'FeatureType': 'Fractional'}, 'low_lag_26': {'FeatureName': 'low_lag_26', 'FeatureType': 'Fractional'}, 'volume_lag_26': {'FeatureName': 'volume_lag_26', 'FeatureType': 'Fractional'}, 'open_lag_27': {'FeatureName': 'open_lag_27', 'FeatureType': 'Fractional'}, 'close_lag_27': {'FeatureName': 'close_lag_27', 'FeatureType': 'Fractional'}, 'high_lag_27': {'FeatureName': 'high_lag_27', 'FeatureType': 'Fractional'}, 'low_lag_27': {'FeatureName': 'low_lag_27', 'FeatureType': 'Fractional'}, 'volume_lag_27': {'FeatureName': 'volume_lag_27', 'FeatureType': 'Fractional'}, 'open_lag_28': {'FeatureName': 'open_lag_28', 'FeatureType': 'Fractional'}, 'close_lag_28': {'FeatureName': 'close_lag_28', 'FeatureType': 'Fractional'}, 'high_lag_28': {'FeatureName': 'high_lag_28', 'FeatureType': 'Fractional'}, 'low_lag_28': {'FeatureName': 'low_lag_28', 'FeatureType': 'Fractional'}, 'volume_lag_28': {'FeatureName': 'volume_lag_28', 'FeatureType': 'Fractional'}, 'open_lag_29': {'FeatureName': 'open_lag_29', 'FeatureType': 'Fractional'}, 'close_lag_29': {'FeatureName': 'close_lag_29', 'FeatureType': 'Fractional'}, 'high_lag_29': {'FeatureName': 'high_lag_29', 'FeatureType': 'Fractional'}, 'low_lag_29': {'FeatureName': 'low_lag_29', 'FeatureType': 'Fractional'}, 'volume_lag_29': {'FeatureName': 'volume_lag_29', 'FeatureType': 'Fractional'}, 'open_lag_30': {'FeatureName': 'open_lag_30', 'FeatureType': 'Fractional'}, 'close_lag_30': {'FeatureName': 'close_lag_30', 'FeatureType': 'Fractional'}, 'high_lag_30': {'FeatureName': 'high_lag_30', 'FeatureType': 'Fractional'}, 'low_lag_30': {'FeatureName': 'low_lag_30', 'FeatureType': 'Fractional'}, 'volume_lag_30': {'FeatureName': 'volume_lag_30', 'FeatureType': 'Fractional'}, 'close_target': {'FeatureName': 'close_target', 'FeatureType': 'Integral'}, 'type': {'FeatureName': 'type', 'FeatureType': 'String'}}, sagemaker_fs_runtime_client_config=<botocore.config.Config object at 0x7f6a11181cf0>, sagemaker_session=<sagemaker.session.Session object at 0x7f6a3967bf40>, max_workers=1, max_processes=3, profile_name=None, _async_result=<multiprocess.pool.MapResult object at 0x7f6a23c462c0>, _processing_pool=<pool ProcessPool(ncpus=3)>, _failed_indices=[])"
      ]
     },
     "execution_count": 154,
     "metadata": {},
     "output_type": "execute_result"
    }
   ],
   "source": [
    "feature_group.ingest(data_frame=df, max_processes=3, wait=True)"
   ]
  },
  {
   "cell_type": "code",
   "execution_count": 50,
   "id": "1e047ee4-7145-491e-96ee-6c2c709498eb",
   "metadata": {},
   "outputs": [],
   "source": [
    "feature_group = FeatureGroup(\n",
    "    name=feature_group_name,\n",
    "    sagemaker_session=session,\n",
    ")"
   ]
  },
  {
   "cell_type": "code",
   "execution_count": 155,
   "id": "0037e289-7405-46b0-8f5f-8a1a181fbdc4",
   "metadata": {},
   "outputs": [
    {
     "data": {
      "text/plain": [
       "165"
      ]
     },
     "execution_count": 155,
     "metadata": {},
     "output_type": "execute_result"
    }
   ],
   "source": [
    "feature_names = [f.feature_name for f in feature_group.feature_definitions]\n",
    "len(feature_names)"
   ]
  },
  {
   "cell_type": "code",
   "execution_count": 199,
   "id": "2356578b-d2a5-4819-b53b-8f0b239ac523",
   "metadata": {},
   "outputs": [],
   "source": [
    "query = feature_group.athena_query()\n",
    "query_string = f\"\"\"\n",
    "SELECT * FROM \"{query.table_name}\"\n",
    "\"\"\"\n",
    "\n",
    "output_location = f\"s3://{bucket_name}/data/retrieved/\"\n",
    "\n",
    "query.run(query_string=query_string, output_location=output_location)\n",
    "query.wait()"
   ]
  },
  {
   "cell_type": "code",
   "execution_count": 200,
   "id": "78b9495f-a516-4848-94f9-b79fcf957777",
   "metadata": {},
   "outputs": [
    {
     "data": {
      "text/plain": [
       "(7627, 7623)"
      ]
     },
     "execution_count": 200,
     "metadata": {},
     "output_type": "execute_result"
    }
   ],
   "source": [
    "query_results = query.as_dataframe()\n",
    "len(query_results), len(df)"
   ]
  },
  {
   "cell_type": "code",
   "execution_count": 167,
   "id": "98fa1828-3d3e-4a4a-8284-9e89767b08a2",
   "metadata": {
    "scrolled": true
   },
   "outputs": [
    {
     "data": {
      "text/html": [
       "<div>\n",
       "<style scoped>\n",
       "    .dataframe tbody tr th:only-of-type {\n",
       "        vertical-align: middle;\n",
       "    }\n",
       "\n",
       "    .dataframe tbody tr th {\n",
       "        vertical-align: top;\n",
       "    }\n",
       "\n",
       "    .dataframe thead th {\n",
       "        text-align: right;\n",
       "    }\n",
       "</style>\n",
       "<table border=\"1\" class=\"dataframe\">\n",
       "  <thead>\n",
       "    <tr style=\"text-align: right;\">\n",
       "      <th></th>\n",
       "      <th>write_time</th>\n",
       "      <th>api_invocation_time</th>\n",
       "      <th>is_deleted</th>\n",
       "      <th>datetime</th>\n",
       "      <th>open</th>\n",
       "      <th>high</th>\n",
       "      <th>low</th>\n",
       "      <th>close</th>\n",
       "      <th>volume</th>\n",
       "      <th>hour</th>\n",
       "      <th>...</th>\n",
       "      <th>high_lag_29</th>\n",
       "      <th>low_lag_29</th>\n",
       "      <th>volume_lag_29</th>\n",
       "      <th>open_lag_30</th>\n",
       "      <th>close_lag_30</th>\n",
       "      <th>high_lag_30</th>\n",
       "      <th>low_lag_30</th>\n",
       "      <th>volume_lag_30</th>\n",
       "      <th>close_target</th>\n",
       "      <th>type</th>\n",
       "    </tr>\n",
       "  </thead>\n",
       "  <tbody>\n",
       "    <tr>\n",
       "      <th>0</th>\n",
       "      <td>2024-06-20 22:44:15.578000 UTC</td>\n",
       "      <td>2024-06-20 22:39:17.000000 UTC</td>\n",
       "      <td>False</td>\n",
       "      <td>2024-06-07T09:34:00.000000Z</td>\n",
       "      <td>5335.959961</td>\n",
       "      <td>5336.040039</td>\n",
       "      <td>5331.330078</td>\n",
       "      <td>5331.479980</td>\n",
       "      <td>6560401</td>\n",
       "      <td>9</td>\n",
       "      <td>...</td>\n",
       "      <td>5350.830078</td>\n",
       "      <td>5348.979980</td>\n",
       "      <td>4825000.0</td>\n",
       "      <td>5352.319824</td>\n",
       "      <td>5350.580078</td>\n",
       "      <td>5352.540039</td>\n",
       "      <td>5350.520020</td>\n",
       "      <td>4934000.0</td>\n",
       "      <td>1</td>\n",
       "      <td>train</td>\n",
       "    </tr>\n",
       "    <tr>\n",
       "      <th>1</th>\n",
       "      <td>2024-06-20 22:44:15.578000 UTC</td>\n",
       "      <td>2024-06-20 22:39:18.000000 UTC</td>\n",
       "      <td>False</td>\n",
       "      <td>2024-06-07T09:49:00.000000Z</td>\n",
       "      <td>5343.529785</td>\n",
       "      <td>5345.830078</td>\n",
       "      <td>5343.529785</td>\n",
       "      <td>5345.810059</td>\n",
       "      <td>3962175</td>\n",
       "      <td>9</td>\n",
       "      <td>...</td>\n",
       "      <td>5353.700195</td>\n",
       "      <td>5351.990234</td>\n",
       "      <td>12785000.0</td>\n",
       "      <td>5352.189941</td>\n",
       "      <td>5351.979980</td>\n",
       "      <td>5353.680176</td>\n",
       "      <td>5351.899902</td>\n",
       "      <td>8510000.0</td>\n",
       "      <td>1</td>\n",
       "      <td>train</td>\n",
       "    </tr>\n",
       "    <tr>\n",
       "      <th>2</th>\n",
       "      <td>2024-06-20 22:44:15.578000 UTC</td>\n",
       "      <td>2024-06-20 22:39:18.000000 UTC</td>\n",
       "      <td>False</td>\n",
       "      <td>2024-06-07T10:07:00.000000Z</td>\n",
       "      <td>5349.080078</td>\n",
       "      <td>5349.649902</td>\n",
       "      <td>5348.350098</td>\n",
       "      <td>5349.649902</td>\n",
       "      <td>3982549</td>\n",
       "      <td>10</td>\n",
       "      <td>...</td>\n",
       "      <td>5336.069824</td>\n",
       "      <td>5333.509766</td>\n",
       "      <td>4595323.0</td>\n",
       "      <td>5336.319824</td>\n",
       "      <td>5335.410156</td>\n",
       "      <td>5336.560059</td>\n",
       "      <td>5335.009766</td>\n",
       "      <td>5202327.0</td>\n",
       "      <td>0</td>\n",
       "      <td>train</td>\n",
       "    </tr>\n",
       "    <tr>\n",
       "      <th>3</th>\n",
       "      <td>2024-06-20 22:39:14.416000 UTC</td>\n",
       "      <td>2024-06-20 22:37:15.000000 UTC</td>\n",
       "      <td>False</td>\n",
       "      <td>2024-05-28T09:41:00.000000Z</td>\n",
       "      <td>5311.689941</td>\n",
       "      <td>5312.640137</td>\n",
       "      <td>5310.020020</td>\n",
       "      <td>5311.680176</td>\n",
       "      <td>6481790</td>\n",
       "      <td>9</td>\n",
       "      <td>...</td>\n",
       "      <td>5302.680176</td>\n",
       "      <td>5300.439941</td>\n",
       "      <td>5286000.0</td>\n",
       "      <td>5302.419922</td>\n",
       "      <td>5302.689941</td>\n",
       "      <td>5302.919922</td>\n",
       "      <td>5302.330078</td>\n",
       "      <td>4506000.0</td>\n",
       "      <td>0</td>\n",
       "      <td>train</td>\n",
       "    </tr>\n",
       "    <tr>\n",
       "      <th>4</th>\n",
       "      <td>2024-06-20 22:39:14.416000 UTC</td>\n",
       "      <td>2024-06-20 22:37:16.000000 UTC</td>\n",
       "      <td>False</td>\n",
       "      <td>2024-05-28T10:11:00.000000Z</td>\n",
       "      <td>5306.450195</td>\n",
       "      <td>5306.660156</td>\n",
       "      <td>5305.509766</td>\n",
       "      <td>5305.509766</td>\n",
       "      <td>4847915</td>\n",
       "      <td>10</td>\n",
       "      <td>...</td>\n",
       "      <td>5312.560059</td>\n",
       "      <td>5310.390137</td>\n",
       "      <td>6801446.0</td>\n",
       "      <td>5311.689941</td>\n",
       "      <td>5311.680176</td>\n",
       "      <td>5312.640137</td>\n",
       "      <td>5310.020020</td>\n",
       "      <td>6481790.0</td>\n",
       "      <td>0</td>\n",
       "      <td>train</td>\n",
       "    </tr>\n",
       "  </tbody>\n",
       "</table>\n",
       "<p>5 rows × 168 columns</p>\n",
       "</div>"
      ],
      "text/plain": [
       "                       write_time             api_invocation_time  is_deleted  \\\n",
       "0  2024-06-20 22:44:15.578000 UTC  2024-06-20 22:39:17.000000 UTC       False   \n",
       "1  2024-06-20 22:44:15.578000 UTC  2024-06-20 22:39:18.000000 UTC       False   \n",
       "2  2024-06-20 22:44:15.578000 UTC  2024-06-20 22:39:18.000000 UTC       False   \n",
       "3  2024-06-20 22:39:14.416000 UTC  2024-06-20 22:37:15.000000 UTC       False   \n",
       "4  2024-06-20 22:39:14.416000 UTC  2024-06-20 22:37:16.000000 UTC       False   \n",
       "\n",
       "                      datetime         open         high          low  \\\n",
       "0  2024-06-07T09:34:00.000000Z  5335.959961  5336.040039  5331.330078   \n",
       "1  2024-06-07T09:49:00.000000Z  5343.529785  5345.830078  5343.529785   \n",
       "2  2024-06-07T10:07:00.000000Z  5349.080078  5349.649902  5348.350098   \n",
       "3  2024-05-28T09:41:00.000000Z  5311.689941  5312.640137  5310.020020   \n",
       "4  2024-05-28T10:11:00.000000Z  5306.450195  5306.660156  5305.509766   \n",
       "\n",
       "         close   volume  hour  ...  high_lag_29   low_lag_29  volume_lag_29  \\\n",
       "0  5331.479980  6560401     9  ...  5350.830078  5348.979980      4825000.0   \n",
       "1  5345.810059  3962175     9  ...  5353.700195  5351.990234     12785000.0   \n",
       "2  5349.649902  3982549    10  ...  5336.069824  5333.509766      4595323.0   \n",
       "3  5311.680176  6481790     9  ...  5302.680176  5300.439941      5286000.0   \n",
       "4  5305.509766  4847915    10  ...  5312.560059  5310.390137      6801446.0   \n",
       "\n",
       "   open_lag_30  close_lag_30  high_lag_30   low_lag_30  volume_lag_30  \\\n",
       "0  5352.319824   5350.580078  5352.540039  5350.520020      4934000.0   \n",
       "1  5352.189941   5351.979980  5353.680176  5351.899902      8510000.0   \n",
       "2  5336.319824   5335.410156  5336.560059  5335.009766      5202327.0   \n",
       "3  5302.419922   5302.689941  5302.919922  5302.330078      4506000.0   \n",
       "4  5311.689941   5311.680176  5312.640137  5310.020020      6481790.0   \n",
       "\n",
       "   close_target   type  \n",
       "0             1  train  \n",
       "1             1  train  \n",
       "2             0  train  \n",
       "3             0  train  \n",
       "4             0  train  \n",
       "\n",
       "[5 rows x 168 columns]"
      ]
     },
     "execution_count": 167,
     "metadata": {},
     "output_type": "execute_result"
    }
   ],
   "source": [
    "query_results.head()"
   ]
  },
  {
   "cell_type": "code",
   "execution_count": 55,
   "id": "5c4c38e2-b296-489b-aedf-b13fc9d59bb0",
   "metadata": {},
   "outputs": [
    {
     "name": "stdout",
     "output_type": "stream",
     "text": [
      "2024-06-20 20:43:27   33455213 ccac4477-2b47-437d-beb7-e35d5d3ba7fb.csv\n",
      "2024-06-20 20:43:28       8406 ccac4477-2b47-437d-beb7-e35d5d3ba7fb.csv.metadata\n"
     ]
    }
   ],
   "source": [
    "!aws s3 ls s3://team1-index-predictor-bucket/data/retrieved/"
   ]
  },
  {
   "cell_type": "code",
   "execution_count": 56,
   "id": "6ac63bf2-5838-4a2a-b743-ad563f679563",
   "metadata": {},
   "outputs": [
    {
     "name": "stdout",
     "output_type": "stream",
     "text": [
      "download: s3://team1-index-predictor-bucket/data/retrieved/ccac4477-2b47-437d-beb7-e35d5d3ba7fb.csv.metadata to ../data/retrieved/metadata.csv.metadata\n"
     ]
    }
   ],
   "source": [
    "!aws s3 cp s3://team1-index-predictor-bucket/data/retrieved/ccac4477-2b47-437d-beb7-e35d5d3ba7fb.csv.metadata ../data/retrieved/metadata.csv.metadata"
   ]
  },
  {
   "cell_type": "code",
   "execution_count": null,
   "id": "b53d0732-d2aa-4611-9984-cd2a66a05253",
   "metadata": {},
   "outputs": [],
   "source": [
    "!aws s3 cp s3://team1-index-predictor-bucket/data/retrieved/ccac4477-2b47-437d-beb7-e35d5d3ba7fb.csv ../data/retrieved/metadata.csv"
   ]
  },
  {
   "cell_type": "code",
   "execution_count": 89,
   "id": "1524211b-bce6-4a7c-b7c3-e194bb4cc4df",
   "metadata": {},
   "outputs": [],
   "source": [
    "query_results.to_csv(\"../data/retrieved/data_0.csv\")"
   ]
  },
  {
   "cell_type": "code",
   "execution_count": null,
   "id": "ca10c701-074b-4706-b472-9ab35c6dc80b",
   "metadata": {},
   "outputs": [],
   "source": []
  }
 ],
 "metadata": {
  "kernelspec": {
   "display_name": "Python 3 (ipykernel)",
   "language": "python",
   "name": "python3"
  },
  "language_info": {
   "codemirror_mode": {
    "name": "ipython",
    "version": 3
   },
   "file_extension": ".py",
   "mimetype": "text/x-python",
   "name": "python",
   "nbconvert_exporter": "python",
   "pygments_lexer": "ipython3",
   "version": "3.10.14"
  }
 },
 "nbformat": 4,
 "nbformat_minor": 5
}
