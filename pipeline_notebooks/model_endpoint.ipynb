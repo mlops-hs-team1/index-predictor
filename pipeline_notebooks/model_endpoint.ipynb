{
 "cells": [
  {
   "cell_type": "code",
   "execution_count": null,
   "metadata": {},
   "outputs": [],
   "source": [
    "import sagemaker\n",
    "import boto3\n",
    "from sagemaker.inputs import CreateModelInput\n",
    "from sagemaker.xgboost import XGBoostModel"
   ]
  },
  {
   "cell_type": "code",
   "execution_count": null,
   "metadata": {},
   "outputs": [],
   "source": [
    "sagemaker_session = sagemaker.Session()\n",
    "role = sagemaker.get_execution_role()\n",
    "BUCKET_NAME = \"team1-index-predictor-bucket\"\n",
    "model_path = \"models/xgboost_model.v0.0.1.json\""
   ]
  },
  {
   "cell_type": "code",
   "execution_count": null,
   "metadata": {},
   "outputs": [],
   "source": [
    "xgboost_model = XGBoostModel(\n",
    "    model_data=f\"s3://{BUCKET_NAME}/{model_path}\",\n",
    "    role=role,\n",
    "    entry_point=\"inference.py\",\n",
    "    framework_version=\"1.3-1\",\n",
    ")\n",
    "\n",
    "predictor = xgboost_model.deploy(\n",
    "    initial_instance_count=1,\n",
    "    instance_type=\"ml.t3.medium\",\n",
    ")"
   ]
  }
 ],
 "metadata": {
  "language_info": {
   "name": "python"
  }
 },
 "nbformat": 4,
 "nbformat_minor": 2
}
