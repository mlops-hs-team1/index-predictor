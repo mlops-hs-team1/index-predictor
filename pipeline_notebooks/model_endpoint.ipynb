{
 "cells": [
  {
   "cell_type": "code",
   "execution_count": 14,
   "metadata": {},
   "outputs": [],
   "source": [
    "import sagemaker\n",
    "import boto3\n",
    "from sagemaker.inputs import CreateModelInput\n",
    "from sagemaker.xgboost import XGBoostModel\n",
    "from sagemaker import image_uris"
   ]
  },
  {
   "cell_type": "code",
   "execution_count": 15,
   "metadata": {},
   "outputs": [],
   "source": [
    "sagemaker_session = sagemaker.Session()\n",
    "role = sagemaker.get_execution_role()\n",
    "BUCKET_NAME = \"team1-index-predictor-bucket\"\n",
    "model_path = \"models/model.xgb/sagemaker-xgboost-2024-06-18-23-40-03-184/output/model.tar.gz\""
   ]
  },
  {
   "cell_type": "code",
   "execution_count": 16,
   "metadata": {},
   "outputs": [],
   "source": [
    "xgboost_container = image_uris.retrieve(\"xgboost\", sagemaker_session.boto_region_name, version=\"1.3-1\")\n",
    "\n",
    "model = sagemaker.model.Model(\n",
    "    image_uri=xgboost_container,\n",
    "    model_data=f\"s3://{BUCKET_NAME}/{model_path}\",\n",
    "    role=role,\n",
    "    sagemaker_session=sagemaker_session,\n",
    ")"
   ]
  },
  {
   "cell_type": "code",
   "execution_count": 17,
   "metadata": {},
   "outputs": [
    {
     "name": "stdout",
     "output_type": "stream",
     "text": [
      "------!"
     ]
    }
   ],
   "source": [
    "predictor = model.deploy(\n",
    "    initial_instance_count=1,\n",
    "    instance_type='ml.t2.large'\n",
    ")"
   ]
  },
  {
   "cell_type": "code",
   "execution_count": 4,
   "metadata": {},
   "outputs": [
    {
     "name": "stdout",
     "output_type": "stream",
     "text": [
      "download: s3://team1-index-predictor-bucket/models/sagemaker-xgboost-2024-06-18-22-44-36-803/output/model.tar.gz to ./model.tar.gz\n"
     ]
    }
   ],
   "source": [
    "# download the model from s3 using aws cli and save it in a local file\n",
    "!aws s3 cp s3://team1-index-predictor-bucket/models/sagemaker-xgboost-2024-06-18-22-44-36-803/output/model.tar.gz model.tar.gz"
   ]
  },
  {
   "cell_type": "code",
   "execution_count": 23,
   "metadata": {},
   "outputs": [
    {
     "name": "stdout",
     "output_type": "stream",
     "text": [
      "2024-06-19 18:55:14       9483 model.tar.gz\n"
     ]
    }
   ],
   "source": [
    "!aws s3 ls s3://{BUCKET_NAME}/models/v3/index-predictor-training-8e36ededc233ea-brch5iwnpfor-kAiGMflpq9/output/\n"
   ]
  },
  {
   "cell_type": "code",
   "execution_count": null,
   "metadata": {},
   "outputs": [],
   "source": [
    "model_path = \"models/v3/index-predictor-training-8e36ededc233ea-brch5iwnpfor-kAiGMflpq9/output/model.tar.gz\""
   ]
  },
  {
   "cell_type": "code",
   "execution_count": 30,
   "metadata": {},
   "outputs": [
    {
     "name": "stdout",
     "output_type": "stream",
     "text": [
      "/bin/bash: line 1: zip: command not found\n"
     ]
    }
   ],
   "source": [
    "!zip ../src/models/deploy_function.py -o ."
   ]
  },
  {
   "cell_type": "code",
   "execution_count": null,
   "metadata": {},
   "outputs": [],
   "source": []
  }
 ],
 "metadata": {
  "kernelspec": {
   "display_name": "Python 3 (ipykernel)",
   "language": "python",
   "name": "python3"
  },
  "language_info": {
   "codemirror_mode": {
    "name": "ipython",
    "version": 3
   },
   "file_extension": ".py",
   "mimetype": "text/x-python",
   "name": "python",
   "nbconvert_exporter": "python",
   "pygments_lexer": "ipython3",
   "version": "3.10.14"
  }
 },
 "nbformat": 4,
 "nbformat_minor": 2
}
