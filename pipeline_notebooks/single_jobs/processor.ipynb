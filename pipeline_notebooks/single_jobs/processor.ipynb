{
 "cells": [
  {
   "cell_type": "code",
   "execution_count": 13,
   "metadata": {},
   "outputs": [
    {
     "data": {
      "text/plain": [
       "'2.219.0'"
      ]
     },
     "execution_count": 13,
     "metadata": {},
     "output_type": "execute_result"
    }
   ],
   "source": [
    "from sagemaker.processing import ScriptProcessor, ProcessingInput, ProcessingOutput\n",
    "import sagemaker\n",
    "from sagemaker.experiments.run import Run, load_run\n",
    "import time\n",
    "from datetime import datetime\n",
    "\n",
    "sagemaker.__version__"
   ]
  },
  {
   "cell_type": "code",
   "execution_count": 14,
   "metadata": {},
   "outputs": [],
   "source": [
    "version = \"v1\"\n",
    "session = sagemaker.Session()\n",
    "sm = session.sagemaker_client\n",
    "\n",
    "experiment_name = \"team1-index-predictor-data-processing\"\n",
    "trial_suffix = datetime.now().strftime(\"%Y-%m-%d-%H-%M-%S\")\n",
    "trial_name = f\"data-processing-{version}-{trial_suffix}\"\n",
    "\n",
    "bucket_name = \"team1-index-predictor-bucket\"\n",
    "input_bucket_prefix = \"data/raw\"\n",
    "output_bucket_prefix = \"data/processed\"\n",
    "\n",
    "processing_instance_type = \"ml.t3.medium\"\n",
    "processing_instance_count = 1"
   ]
  },
  {
   "cell_type": "code",
   "execution_count": 15,
   "metadata": {},
   "outputs": [
    {
     "name": "stderr",
     "output_type": "stream",
     "text": [
      "INFO:sagemaker:Creating processing-job with name sagemaker-scikit-learn-2024-06-18-20-36-13-979\n"
     ]
    },
    {
     "name": "stdout",
     "output_type": "stream",
     "text": [
      "...........................................................................................\u001b[34mtrain data saved at /opt/ml/processing/output/train-v1.csv\u001b[0m\n",
      "\u001b[34mvalidation data saved at /opt/ml/processing/output/validation-v1.csv\u001b[0m\n",
      "\u001b[34mtest data saved at /opt/ml/processing/output/test-v1.csv\u001b[0m\n",
      "\u001b[34mData processing completed.\u001b[0m\n",
      "\n"
     ]
    }
   ],
   "source": [
    "with Run(\n",
    "    experiment_name=experiment_name,\n",
    "    run_name=trial_name,\n",
    "    run_display_name=trial_name,\n",
    "    sagemaker_session=session,\n",
    ") as run:\n",
    "    experiment_config = run.experiment_config\n",
    "\n",
    "script_processor = ScriptProcessor(\n",
    "    command=[\"python3\"],\n",
    "    image_uri=\"492215442770.dkr.ecr.eu-central-1.amazonaws.com/sagemaker-scikit-learn:1.0-1-cpu-py3\",\n",
    "    role=sagemaker.get_execution_role(),\n",
    "    instance_count=processing_instance_count,\n",
    "    instance_type=processing_instance_type,\n",
    ")\n",
    "\n",
    "script_processor.run(\n",
    "    code=\"../src/data/processor.py\",\n",
    "    inputs=[\n",
    "        ProcessingInput(\n",
    "            source=f\"s3://{bucket_name}/{input_bucket_prefix}/{version}\",\n",
    "            destination=\"/opt/ml/processing/input\",\n",
    "        )\n",
    "    ],\n",
    "    outputs=[\n",
    "        ProcessingOutput(\n",
    "            source=\"/opt/ml/processing/output\",\n",
    "            destination=f\"s3://{bucket_name}/{output_bucket_prefix}/{version}\",\n",
    "        )\n",
    "    ],\n",
    "    arguments=[\n",
    "        \"--raw_data_filename\",\n",
    "        \"/opt/ml/processing/input/data.csv\",\n",
    "        \"--output_path\",\n",
    "        \"/opt/ml/processing/output\",\n",
    "        \"--version\",\n",
    "        version,\n",
    "    ],\n",
    "    experiment_config=experiment_config,\n",
    ")"
   ]
  },
  {
   "cell_type": "code",
   "execution_count": 9,
   "metadata": {},
   "outputs": [
    {
     "name": "stdout",
     "output_type": "stream",
     "text": [
      "2024-06-17 20:23:48       4245 inference.csv\n",
      "2024-06-15 10:23:07        118 scaler_params.json\n",
      "2024-06-18 20:18:01     840029 test-v1.csv\n",
      "2024-06-17 20:23:48     824975 test.csv\n",
      "2024-06-18 20:18:01   16084923 train-v1.csv\n",
      "2024-06-17 20:23:47   15796148 train.csv\n",
      "2024-06-18 20:18:01     839656 validation-v1.csv\n",
      "2024-06-17 20:23:48     824561 validation.csv\n"
     ]
    }
   ],
   "source": [
    "!aws s3 ls s3://{bucket_name}/{output_bucket_prefix}/{version}/"
   ]
  },
  {
   "cell_type": "code",
   "execution_count": null,
   "metadata": {},
   "outputs": [],
   "source": []
  }
 ],
 "metadata": {
  "kernelspec": {
   "display_name": "Python 3 (ipykernel)",
   "language": "python",
   "name": "python3"
  },
  "language_info": {
   "codemirror_mode": {
    "name": "ipython",
    "version": 3
   },
   "file_extension": ".py",
   "mimetype": "text/x-python",
   "name": "python",
   "nbconvert_exporter": "python",
   "pygments_lexer": "ipython3",
   "version": "3.10.14"
  }
 },
 "nbformat": 4,
 "nbformat_minor": 2
}
