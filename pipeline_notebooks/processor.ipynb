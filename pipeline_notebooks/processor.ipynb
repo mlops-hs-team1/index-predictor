{
 "cells": [
  {
   "cell_type": "code",
   "execution_count": null,
   "metadata": {},
   "outputs": [],
   "source": [
    "from sagemaker.processing import ScriptProcessor, ProcessingInput, ProcessingOutput\n",
    "import sagemaker\n",
    "from sagemaker.experiments.run import Run, load_run\n",
    "import time\n",
    "from datetime import datetime\n",
    "\n",
    "sagemaker.__version__"
   ]
  },
  {
   "cell_type": "code",
   "execution_count": null,
   "metadata": {},
   "outputs": [],
   "source": [
    "version = \"v1\"\n",
    "session = sagemaker.Session()\n",
    "sm = session.sagemaker_client\n",
    "\n",
    "experiment_name = \"team1-index-predictor-data-processing\"\n",
    "trial_suffix = datetime.now().strftime(\"%Y-%m-%d-%H-%M-%S\")\n",
    "trial_name = f\"data-processing-{version}-{trial_suffix}\"\n",
    "\n",
    "bucket_name = \"team1-index-predictor-bucket\"\n",
    "input_bucket_prefix = \"data/raw\"\n",
    "output_bucket_prefix = \"data/processed\"\n",
    "\n",
    "processing_instance_type = \"ml.t3.medium\"\n",
    "processing_instance_count = 1"
   ]
  },
  {
   "cell_type": "code",
   "execution_count": null,
   "metadata": {},
   "outputs": [],
   "source": [
    "with Run(\n",
    "    experiment_name=experiment_name,\n",
    "    run_name=trial_name,\n",
    "    run_display_name=trial_name,\n",
    "    sagemaker_session=session,\n",
    ") as run:\n",
    "    experiment_config = run.experiment_config\n",
    "\n",
    "script_processor = ScriptProcessor(\n",
    "    command=[\"python3\"],\n",
    "    image_uri=\"492215442770.dkr.ecr.eu-central-1.amazonaws.com/sagemaker-scikit-learn:1.0-1-cpu-py3\",\n",
    "    role=sagemaker.get_execution_role(),\n",
    "    instance_count=processing_instance_count,\n",
    "    instance_type=processing_instance_type,\n",
    ")\n",
    "\n",
    "script_processor.run(\n",
    "    code=\"../src/data/processor.py\",\n",
    "    inputs=[\n",
    "        ProcessingInput(\n",
    "            source=f\"s3://{bucket_name}/{input_bucket_prefix}\",\n",
    "            destination=\"/opt/ml/processing/input\",\n",
    "        )\n",
    "    ],\n",
    "    outputs=[\n",
    "        ProcessingOutput(\n",
    "            source=\"/opt/ml/processing/output\",\n",
    "            destination=f\"s3://{bucket_name}/{output_bucket_prefix}\",\n",
    "        )\n",
    "    ],\n",
    "    arguments=[\n",
    "        \"--raw_data_filename\",\n",
    "        \"/opt/ml/processing/input/data-{version}.csv\",\n",
    "        \"--output_path\",\n",
    "        \"/opt/ml/processing/output\",\n",
    "        \"--version\",\n",
    "        version,\n",
    "    ],\n",
    "    experiment_config=experiment_config,\n",
    ")"
   ]
  }
 ],
 "metadata": {
  "language_info": {
   "name": "python"
  }
 },
 "nbformat": 4,
 "nbformat_minor": 2
}
