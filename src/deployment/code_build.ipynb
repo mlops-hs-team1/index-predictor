{
 "cells": [
  {
   "cell_type": "code",
   "execution_count": null,
   "metadata": {},
   "outputs": [],
   "source": [
    "import boto3\n",
    "import sagemaker"
   ]
  },
  {
   "cell_type": "code",
   "execution_count": null,
   "metadata": {},
   "outputs": [],
   "source": [
    "codebuild_client = boto3.client(\"codebuild\")\n",
    "\n",
    "environment_variables = [\n",
    "    {\n",
    "        \"name\": \"MODEL_EXECUTION_ROLE_ARN\",\n",
    "        \"value\": sagemaker.get_execution_role(),\n",
    "        \"type\": \"PLAINTEXT\",\n",
    "    },\n",
    "    {\n",
    "        \"name\": \"SOURCE_MODEL_PACKAGE_GROUP_NAME\",\n",
    "        \"value\": \"index-predictor-model-group\",\n",
    "        \"type\": \"PLAINTEXT\",\n",
    "    },\n",
    "    {\n",
    "        \"name\": \"ARTIFACT_BUCKET\",\n",
    "        \"value\": \"team1-index-predictor-bucket\",\n",
    "        \"type\": \"PLAINTEXT\",\n",
    "    },\n",
    "    {\n",
    "        \"name\": \"EXPORT_TEMPLATE_NAME\",\n",
    "        \"value\": \"endpoint-config.json\",\n",
    "        \"type\": \"PLAINTEXT\",\n",
    "    },\n",
    "]\n",
    "\n",
    "project_name = \"index-predictor-codebuild\"\n",
    "source_location = \"https://github.com/mlops-hs-team1/index-predictor\"\n",
    "\n",
    "response = codebuild_client.create_project(\n",
    "    name=project_name,\n",
    "    source={\n",
    "        \"type\": \"GITHUB\",\n",
    "        \"location\": source_location,\n",
    "    },\n",
    "    artifacts={\n",
    "        \"type\": \"S3\",\n",
    "        \"location\": \"team1-index-predictor-bucket\",\n",
    "        \"name\": \"artifacts\",\n",
    "    },\n",
    "    environment={\n",
    "        \"type\": \"LINUX_CONTAINER\",\n",
    "        \"image\": \"aws/codebuild/standard:5.0\",\n",
    "        \"computeType\": \"BUILD_GENERAL1_SMALL\",\n",
    "        \"environmentVariables\": environment_variables,\n",
    "    },\n",
    "    serviceRole=\"arn:aws:iam::123456789012:role/service-role/codebuild-index-predictor\",\n",
    "    timeoutInMinutes=60,\n",
    "    buildspec=\"buildspec.yml\",\n",
    ")\n",
    "\n",
    "print(\"CodeBuild project created successfully:\", response)"
   ]
  }
 ],
 "metadata": {
  "language_info": {
   "name": "python"
  }
 },
 "nbformat": 4,
 "nbformat_minor": 2
}
