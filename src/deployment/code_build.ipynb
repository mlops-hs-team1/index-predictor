{
 "cells": [
  {
   "cell_type": "code",
   "execution_count": 55,
   "metadata": {},
   "outputs": [
    {
     "name": "stdout",
     "output_type": "stream",
     "text": [
      "Requirement already satisfied: python-dotenv in /opt/conda/lib/python3.10/site-packages (1.0.1)\n",
      "Note: you may need to restart the kernel to use updated packages.\n"
     ]
    }
   ],
   "source": [
    "%pip install python-dotenv\n",
    "import boto3\n",
    "import sagemaker\n",
    "import time\n",
    "from dotenv import load_dotenv\n",
    "import os"
   ]
  },
  {
   "cell_type": "code",
   "execution_count": 59,
   "metadata": {},
   "outputs": [
    {
     "name": "stdout",
     "output_type": "stream",
     "text": [
      "{\n",
      "    \"username\": \"\",\n",
      "    \"token\": \"\",\n",
      "    \"serverType\": \"GITHUB\",\n",
      "    \"authType\": \"OAUTH\",\n",
      "    \"shouldOverwrite\": true\n",
      "}\n"
     ]
    }
   ],
   "source": [
    "load_dotenv()\n",
    "\n",
    "!aws codebuild import-source-credentials --generate-cli-skeleton"
   ]
  },
  {
   "cell_type": "code",
   "execution_count": 62,
   "metadata": {},
   "outputs": [
    {
     "ename": "InvalidInputException",
     "evalue": "An error occurred (InvalidInputException) when calling the CreateProject operation: No Access token found, please visit AWS CodeBuild console to connect to GitHub",
     "output_type": "error",
     "traceback": [
      "\u001b[0;31m---------------------------------------------------------------------------\u001b[0m",
      "\u001b[0;31mInvalidInputException\u001b[0m                     Traceback (most recent call last)",
      "Cell \u001b[0;32mIn[62], line 31\u001b[0m\n\u001b[1;32m     28\u001b[0m project_name \u001b[38;5;241m=\u001b[39m \u001b[38;5;124m\"\u001b[39m\u001b[38;5;124mindex-predictor-codebuild\u001b[39m\u001b[38;5;124m\"\u001b[39m\n\u001b[1;32m     29\u001b[0m source_location \u001b[38;5;241m=\u001b[39m \u001b[38;5;124m\"\u001b[39m\u001b[38;5;124mhttps://github.com/mlops-hs-team1/index-predictor\u001b[39m\u001b[38;5;124m\"\u001b[39m\n\u001b[0;32m---> 31\u001b[0m response \u001b[38;5;241m=\u001b[39m \u001b[43mcodebuild_client\u001b[49m\u001b[38;5;241;43m.\u001b[39;49m\u001b[43mcreate_project\u001b[49m\u001b[43m(\u001b[49m\n\u001b[1;32m     32\u001b[0m \u001b[43m    \u001b[49m\u001b[43mname\u001b[49m\u001b[38;5;241;43m=\u001b[39;49m\u001b[43mproject_name\u001b[49m\u001b[43m,\u001b[49m\n\u001b[1;32m     33\u001b[0m \u001b[43m    \u001b[49m\u001b[43msource\u001b[49m\u001b[38;5;241;43m=\u001b[39;49m\u001b[43m{\u001b[49m\n\u001b[1;32m     34\u001b[0m \u001b[43m        \u001b[49m\u001b[38;5;124;43m\"\u001b[39;49m\u001b[38;5;124;43mtype\u001b[39;49m\u001b[38;5;124;43m\"\u001b[39;49m\u001b[43m:\u001b[49m\u001b[43m \u001b[49m\u001b[38;5;124;43m\"\u001b[39;49m\u001b[38;5;124;43mGITHUB\u001b[39;49m\u001b[38;5;124;43m\"\u001b[39;49m\u001b[43m,\u001b[49m\n\u001b[1;32m     35\u001b[0m \u001b[43m        \u001b[49m\u001b[38;5;124;43m\"\u001b[39;49m\u001b[38;5;124;43mlocation\u001b[39;49m\u001b[38;5;124;43m\"\u001b[39;49m\u001b[43m:\u001b[49m\u001b[43m \u001b[49m\u001b[43msource_location\u001b[49m\u001b[43m,\u001b[49m\n\u001b[1;32m     36\u001b[0m \u001b[43m        \u001b[49m\u001b[38;5;124;43m\"\u001b[39;49m\u001b[38;5;124;43mbuildspec\u001b[39;49m\u001b[38;5;124;43m\"\u001b[39;49m\u001b[43m:\u001b[49m\u001b[43m \u001b[49m\u001b[38;5;124;43m\"\u001b[39;49m\u001b[38;5;124;43mbuildspec.yml\u001b[39;49m\u001b[38;5;124;43m\"\u001b[39;49m\u001b[43m,\u001b[49m\n\u001b[1;32m     37\u001b[0m \u001b[43m        \u001b[49m\u001b[38;5;124;43m\"\u001b[39;49m\u001b[38;5;124;43mauth\u001b[39;49m\u001b[38;5;124;43m\"\u001b[39;49m\u001b[43m:\u001b[49m\u001b[43m \u001b[49m\u001b[43m{\u001b[49m\n\u001b[1;32m     38\u001b[0m \u001b[43m            \u001b[49m\u001b[38;5;124;43m\"\u001b[39;49m\u001b[38;5;124;43mtype\u001b[39;49m\u001b[38;5;124;43m\"\u001b[39;49m\u001b[43m:\u001b[49m\u001b[43m \u001b[49m\u001b[38;5;124;43m\"\u001b[39;49m\u001b[38;5;124;43mOAUTH\u001b[39;49m\u001b[38;5;124;43m\"\u001b[39;49m\u001b[43m,\u001b[49m\n\u001b[1;32m     39\u001b[0m \u001b[43m            \u001b[49m\u001b[38;5;66;43;03m# \"username\": \"humbertoyusta\",\u001b[39;49;00m\n\u001b[1;32m     40\u001b[0m \u001b[43m            \u001b[49m\u001b[38;5;124;43m\"\u001b[39;49m\u001b[38;5;124;43mresource\u001b[39;49m\u001b[38;5;124;43m\"\u001b[39;49m\u001b[43m:\u001b[49m\u001b[43m \u001b[49m\u001b[43mpersonal_access_token\u001b[49m\n\u001b[1;32m     41\u001b[0m \u001b[43m        \u001b[49m\u001b[43m}\u001b[49m\u001b[43m,\u001b[49m\n\u001b[1;32m     42\u001b[0m \u001b[43m    \u001b[49m\u001b[43m}\u001b[49m\u001b[43m,\u001b[49m\n\u001b[1;32m     43\u001b[0m \u001b[43m    \u001b[49m\u001b[43martifacts\u001b[49m\u001b[38;5;241;43m=\u001b[39;49m\u001b[43m{\u001b[49m\n\u001b[1;32m     44\u001b[0m \u001b[43m        \u001b[49m\u001b[38;5;124;43m\"\u001b[39;49m\u001b[38;5;124;43mtype\u001b[39;49m\u001b[38;5;124;43m\"\u001b[39;49m\u001b[43m:\u001b[49m\u001b[43m \u001b[49m\u001b[38;5;124;43m\"\u001b[39;49m\u001b[38;5;124;43mS3\u001b[39;49m\u001b[38;5;124;43m\"\u001b[39;49m\u001b[43m,\u001b[49m\n\u001b[1;32m     45\u001b[0m \u001b[43m        \u001b[49m\u001b[38;5;124;43m\"\u001b[39;49m\u001b[38;5;124;43mlocation\u001b[39;49m\u001b[38;5;124;43m\"\u001b[39;49m\u001b[43m:\u001b[49m\u001b[43m \u001b[49m\u001b[38;5;124;43m\"\u001b[39;49m\u001b[38;5;124;43mteam1-index-predictor-bucket\u001b[39;49m\u001b[38;5;124;43m\"\u001b[39;49m\u001b[43m,\u001b[49m\n\u001b[1;32m     46\u001b[0m \u001b[43m        \u001b[49m\u001b[38;5;124;43m\"\u001b[39;49m\u001b[38;5;124;43mname\u001b[39;49m\u001b[38;5;124;43m\"\u001b[39;49m\u001b[43m:\u001b[49m\u001b[43m \u001b[49m\u001b[38;5;124;43m\"\u001b[39;49m\u001b[38;5;124;43martifacts\u001b[39;49m\u001b[38;5;124;43m\"\u001b[39;49m\u001b[43m,\u001b[49m\n\u001b[1;32m     47\u001b[0m \u001b[43m    \u001b[49m\u001b[43m}\u001b[49m\u001b[43m,\u001b[49m\n\u001b[1;32m     48\u001b[0m \u001b[43m    \u001b[49m\u001b[43menvironment\u001b[49m\u001b[38;5;241;43m=\u001b[39;49m\u001b[43m{\u001b[49m\n\u001b[1;32m     49\u001b[0m \u001b[43m        \u001b[49m\u001b[38;5;124;43m\"\u001b[39;49m\u001b[38;5;124;43mtype\u001b[39;49m\u001b[38;5;124;43m\"\u001b[39;49m\u001b[43m:\u001b[49m\u001b[43m \u001b[49m\u001b[38;5;124;43m\"\u001b[39;49m\u001b[38;5;124;43mLINUX_CONTAINER\u001b[39;49m\u001b[38;5;124;43m\"\u001b[39;49m\u001b[43m,\u001b[49m\n\u001b[1;32m     50\u001b[0m \u001b[43m        \u001b[49m\u001b[38;5;124;43m\"\u001b[39;49m\u001b[38;5;124;43mimage\u001b[39;49m\u001b[38;5;124;43m\"\u001b[39;49m\u001b[43m:\u001b[49m\u001b[43m \u001b[49m\u001b[38;5;124;43m\"\u001b[39;49m\u001b[38;5;124;43maws/codebuild/standard:5.0\u001b[39;49m\u001b[38;5;124;43m\"\u001b[39;49m\u001b[43m,\u001b[49m\n\u001b[1;32m     51\u001b[0m \u001b[43m        \u001b[49m\u001b[38;5;124;43m\"\u001b[39;49m\u001b[38;5;124;43mcomputeType\u001b[39;49m\u001b[38;5;124;43m\"\u001b[39;49m\u001b[43m:\u001b[49m\u001b[43m \u001b[49m\u001b[38;5;124;43m\"\u001b[39;49m\u001b[38;5;124;43mBUILD_GENERAL1_SMALL\u001b[39;49m\u001b[38;5;124;43m\"\u001b[39;49m\u001b[43m,\u001b[49m\n\u001b[1;32m     52\u001b[0m \u001b[43m        \u001b[49m\u001b[38;5;124;43m\"\u001b[39;49m\u001b[38;5;124;43menvironmentVariables\u001b[39;49m\u001b[38;5;124;43m\"\u001b[39;49m\u001b[43m:\u001b[49m\u001b[43m \u001b[49m\u001b[43menvironment_variables\u001b[49m\u001b[43m,\u001b[49m\n\u001b[1;32m     53\u001b[0m \u001b[43m    \u001b[49m\u001b[43m}\u001b[49m\u001b[43m,\u001b[49m\n\u001b[1;32m     54\u001b[0m \u001b[43m    \u001b[49m\u001b[43mserviceRole\u001b[49m\u001b[38;5;241;43m=\u001b[39;49m\u001b[43msagemaker\u001b[49m\u001b[38;5;241;43m.\u001b[39;49m\u001b[43mget_execution_role\u001b[49m\u001b[43m(\u001b[49m\u001b[43m)\u001b[49m\u001b[43m,\u001b[49m\n\u001b[1;32m     55\u001b[0m \u001b[43m    \u001b[49m\u001b[43mtimeoutInMinutes\u001b[49m\u001b[38;5;241;43m=\u001b[39;49m\u001b[38;5;241;43m60\u001b[39;49m\u001b[43m,\u001b[49m\n\u001b[1;32m     56\u001b[0m \u001b[43m)\u001b[49m\n\u001b[1;32m     58\u001b[0m \u001b[38;5;28mprint\u001b[39m(\u001b[38;5;124m\"\u001b[39m\u001b[38;5;124mCodeBuild project created successfully:\u001b[39m\u001b[38;5;124m\"\u001b[39m, response)\n",
      "File \u001b[0;32m/opt/conda/lib/python3.10/site-packages/botocore/client.py:553\u001b[0m, in \u001b[0;36mClientCreator._create_api_method.<locals>._api_call\u001b[0;34m(self, *args, **kwargs)\u001b[0m\n\u001b[1;32m    549\u001b[0m     \u001b[38;5;28;01mraise\u001b[39;00m \u001b[38;5;167;01mTypeError\u001b[39;00m(\n\u001b[1;32m    550\u001b[0m         \u001b[38;5;124mf\u001b[39m\u001b[38;5;124m\"\u001b[39m\u001b[38;5;132;01m{\u001b[39;00mpy_operation_name\u001b[38;5;132;01m}\u001b[39;00m\u001b[38;5;124m() only accepts keyword arguments.\u001b[39m\u001b[38;5;124m\"\u001b[39m\n\u001b[1;32m    551\u001b[0m     )\n\u001b[1;32m    552\u001b[0m \u001b[38;5;66;03m# The \"self\" in this scope is referring to the BaseClient.\u001b[39;00m\n\u001b[0;32m--> 553\u001b[0m \u001b[38;5;28;01mreturn\u001b[39;00m \u001b[38;5;28;43mself\u001b[39;49m\u001b[38;5;241;43m.\u001b[39;49m\u001b[43m_make_api_call\u001b[49m\u001b[43m(\u001b[49m\u001b[43moperation_name\u001b[49m\u001b[43m,\u001b[49m\u001b[43m \u001b[49m\u001b[43mkwargs\u001b[49m\u001b[43m)\u001b[49m\n",
      "File \u001b[0;32m/opt/conda/lib/python3.10/site-packages/botocore/client.py:1009\u001b[0m, in \u001b[0;36mBaseClient._make_api_call\u001b[0;34m(self, operation_name, api_params)\u001b[0m\n\u001b[1;32m   1005\u001b[0m     error_code \u001b[38;5;241m=\u001b[39m error_info\u001b[38;5;241m.\u001b[39mget(\u001b[38;5;124m\"\u001b[39m\u001b[38;5;124mQueryErrorCode\u001b[39m\u001b[38;5;124m\"\u001b[39m) \u001b[38;5;129;01mor\u001b[39;00m error_info\u001b[38;5;241m.\u001b[39mget(\n\u001b[1;32m   1006\u001b[0m         \u001b[38;5;124m\"\u001b[39m\u001b[38;5;124mCode\u001b[39m\u001b[38;5;124m\"\u001b[39m\n\u001b[1;32m   1007\u001b[0m     )\n\u001b[1;32m   1008\u001b[0m     error_class \u001b[38;5;241m=\u001b[39m \u001b[38;5;28mself\u001b[39m\u001b[38;5;241m.\u001b[39mexceptions\u001b[38;5;241m.\u001b[39mfrom_code(error_code)\n\u001b[0;32m-> 1009\u001b[0m     \u001b[38;5;28;01mraise\u001b[39;00m error_class(parsed_response, operation_name)\n\u001b[1;32m   1010\u001b[0m \u001b[38;5;28;01melse\u001b[39;00m:\n\u001b[1;32m   1011\u001b[0m     \u001b[38;5;28;01mreturn\u001b[39;00m parsed_response\n",
      "\u001b[0;31mInvalidInputException\u001b[0m: An error occurred (InvalidInputException) when calling the CreateProject operation: No Access token found, please visit AWS CodeBuild console to connect to GitHub"
     ]
    }
   ],
   "source": [
    "codebuild_client = boto3.client(\"codebuild\")\n",
    "\n",
    "personal_access_token = os.getenv(\"PERSONAL_ACCESS_TOKEN\")\n",
    "\n",
    "environment_variables = [\n",
    "    {\n",
    "        \"name\": \"MODEL_EXECUTION_ROLE_ARN\",\n",
    "        \"value\": sagemaker.get_execution_role(),\n",
    "        \"type\": \"PLAINTEXT\",\n",
    "    },\n",
    "    {\n",
    "        \"name\": \"SOURCE_MODEL_PACKAGE_GROUP_NAME\",\n",
    "        \"value\": \"index-predictor-model-group\",\n",
    "        \"type\": \"PLAINTEXT\",\n",
    "    },\n",
    "    {\n",
    "        \"name\": \"ARTIFACT_BUCKET\",\n",
    "        \"value\": \"team1-index-predictor-bucket\",\n",
    "        \"type\": \"PLAINTEXT\",\n",
    "    },\n",
    "    {\n",
    "        \"name\": \"EXPORT_TEMPLATE_NAME\",\n",
    "        \"value\": \"endpoint-config.json\",\n",
    "        \"type\": \"PLAINTEXT\",\n",
    "    },\n",
    "]\n",
    "\n",
    "project_name = \"index-predictor-codebuild\"\n",
    "source_location = \"https://github.com/mlops-hs-team1/index-predictor\"\n",
    "\n",
    "response = codebuild_client.create_project(\n",
    "    name=project_name,\n",
    "    source={\n",
    "        \"type\": \"GITHUB\",\n",
    "        \"location\": source_location,\n",
    "        \"buildspec\": \"buildspec.yml\",\n",
    "    },\n",
    "    artifacts={\n",
    "        \"type\": \"S3\",\n",
    "        \"location\": \"team1-index-predictor-bucket\",\n",
    "        \"name\": \"artifacts\",\n",
    "    },\n",
    "    environment={\n",
    "        \"type\": \"LINUX_CONTAINER\",\n",
    "        \"image\": \"aws/codebuild/standard:5.0\",\n",
    "        \"computeType\": \"BUILD_GENERAL1_SMALL\",\n",
    "        \"environmentVariables\": environment_variables,\n",
    "    },\n",
    "    serviceRole=sagemaker.get_execution_role(),\n",
    "    timeoutInMinutes=60,\n",
    ")\n",
    "\n",
    "print(\"CodeBuild project created successfully:\", response)"
   ]
  },
  {
   "cell_type": "code",
   "execution_count": 63,
   "metadata": {},
   "outputs": [
    {
     "name": "stdout",
     "output_type": "stream",
     "text": [
      "Build started successfully: {'build': {'id': 'index-predictor-codebuild:361ef609-dd3a-41a5-b6c3-eec26962b50b', 'arn': 'arn:aws:codebuild:eu-central-1:567821811420:build/index-predictor-codebuild:361ef609-dd3a-41a5-b6c3-eec26962b50b', 'buildNumber': 2, 'startTime': datetime.datetime(2024, 6, 25, 8, 22, 30, 63000, tzinfo=tzlocal()), 'currentPhase': 'QUEUED', 'buildStatus': 'IN_PROGRESS', 'projectName': 'index-predictor-codebuild', 'phases': [{'phaseType': 'SUBMITTED', 'phaseStatus': 'SUCCEEDED', 'startTime': datetime.datetime(2024, 6, 25, 8, 22, 30, 63000, tzinfo=tzlocal()), 'endTime': datetime.datetime(2024, 6, 25, 8, 22, 30, 114000, tzinfo=tzlocal()), 'durationInSeconds': 0}, {'phaseType': 'QUEUED', 'startTime': datetime.datetime(2024, 6, 25, 8, 22, 30, 114000, tzinfo=tzlocal())}], 'source': {'type': 'GITHUB', 'location': 'https://github.com/mlops-hs-team1/index-predictor', 'buildspec': 'buildspec.yml', 'reportBuildStatus': False, 'insecureSsl': False}, 'secondarySources': [], 'secondarySourceVersions': [], 'artifacts': {'location': 'arn:aws:s3:::team1-index-predictor-bucket/artifacts', 'encryptionDisabled': False}, 'cache': {'type': 'NO_CACHE'}, 'environment': {'type': 'LINUX_CONTAINER', 'image': 'aws/codebuild/standard:5.0', 'computeType': 'BUILD_GENERAL1_SMALL', 'environmentVariables': [{'name': 'MODEL_EXECUTION_ROLE_ARN', 'value': 'arn:aws:iam::567821811420:role/service-role/AmazonSageMaker-ExecutionRole-20230619T084765', 'type': 'PLAINTEXT'}, {'name': 'SOURCE_MODEL_PACKAGE_GROUP_NAME', 'value': 'index-predictor-model-group', 'type': 'PLAINTEXT'}, {'name': 'ARTIFACT_BUCKET', 'value': 'team1-index-predictor-bucket', 'type': 'PLAINTEXT'}, {'name': 'EXPORT_TEMPLATE_NAME', 'value': 'endpoint-config.json', 'type': 'PLAINTEXT'}], 'privilegedMode': False, 'imagePullCredentialsType': 'CODEBUILD'}, 'serviceRole': 'arn:aws:iam::567821811420:role/service-role/AmazonSageMaker-ExecutionRole-20230619T084765', 'logs': {'deepLink': 'https://console.aws.amazon.com/cloudwatch/home?region=eu-central-1#logsV2:log-groups', 'cloudWatchLogsArn': 'arn:aws:logs:eu-central-1:567821811420:log-group:null:log-stream:null'}, 'timeoutInMinutes': 60, 'queuedTimeoutInMinutes': 480, 'buildComplete': False, 'initiator': 'AmazonSageMaker-ExecutionRole-20230619T084765/SageMaker', 'encryptionKey': 'arn:aws:kms:eu-central-1:567821811420:alias/aws/s3'}, 'ResponseMetadata': {'RequestId': '8fd3ee79-1cf0-4a3a-b74d-49b26fc02680', 'HTTPStatusCode': 200, 'HTTPHeaders': {'x-amzn-requestid': '8fd3ee79-1cf0-4a3a-b74d-49b26fc02680', 'content-type': 'application/x-amz-json-1.1', 'content-length': '2097', 'date': 'Tue, 25 Jun 2024 08:22:29 GMT'}, 'RetryAttempts': 0}}\n"
     ]
    }
   ],
   "source": [
    "project_name = \"index-predictor-codebuild\"\n",
    "response = codebuild_client.start_build(\n",
    "    projectName=project_name\n",
    ")\n",
    "\n",
    "print(\"Build started successfully:\", response)"
   ]
  },
  {
   "cell_type": "code",
   "execution_count": 67,
   "metadata": {},
   "outputs": [
    {
     "name": "stdout",
     "output_type": "stream",
     "text": [
      "Build status: {'builds': [{'id': 'index-predictor-codebuild:361ef609-dd3a-41a5-b6c3-eec26962b50b', 'arn': 'arn:aws:codebuild:eu-central-1:567821811420:build/index-predictor-codebuild:361ef609-dd3a-41a5-b6c3-eec26962b50b', 'buildNumber': 2, 'startTime': datetime.datetime(2024, 6, 25, 8, 22, 30, 63000, tzinfo=tzlocal()), 'endTime': datetime.datetime(2024, 6, 25, 8, 22, 38, 848000, tzinfo=tzlocal()), 'currentPhase': 'COMPLETED', 'buildStatus': 'FAILED', 'projectName': 'index-predictor-codebuild', 'phases': [{'phaseType': 'SUBMITTED', 'phaseStatus': 'SUCCEEDED', 'startTime': datetime.datetime(2024, 6, 25, 8, 22, 30, 63000, tzinfo=tzlocal()), 'endTime': datetime.datetime(2024, 6, 25, 8, 22, 30, 114000, tzinfo=tzlocal()), 'durationInSeconds': 0}, {'phaseType': 'QUEUED', 'phaseStatus': 'SUCCEEDED', 'startTime': datetime.datetime(2024, 6, 25, 8, 22, 30, 114000, tzinfo=tzlocal()), 'endTime': datetime.datetime(2024, 6, 25, 8, 22, 30, 745000, tzinfo=tzlocal()), 'durationInSeconds': 0}, {'phaseType': 'PROVISIONING', 'phaseStatus': 'SUCCEEDED', 'startTime': datetime.datetime(2024, 6, 25, 8, 22, 30, 745000, tzinfo=tzlocal()), 'endTime': datetime.datetime(2024, 6, 25, 8, 22, 35, 106000, tzinfo=tzlocal()), 'durationInSeconds': 4, 'contexts': [{'statusCode': '', 'message': ''}]}, {'phaseType': 'DOWNLOAD_SOURCE', 'phaseStatus': 'FAILED', 'startTime': datetime.datetime(2024, 6, 25, 8, 22, 35, 106000, tzinfo=tzlocal()), 'endTime': datetime.datetime(2024, 6, 25, 8, 22, 38, 560000, tzinfo=tzlocal()), 'durationInSeconds': 3, 'contexts': [{'statusCode': 'YAML_FILE_ERROR', 'message': 'stat /codebuild/output/src2734646509/src/github.com/mlops-hs-team1/index-predictor/buildspec.yml: no such file or directory'}]}, {'phaseType': 'FINALIZING', 'phaseStatus': 'SUCCEEDED', 'startTime': datetime.datetime(2024, 6, 25, 8, 22, 38, 560000, tzinfo=tzlocal()), 'endTime': datetime.datetime(2024, 6, 25, 8, 22, 38, 848000, tzinfo=tzlocal()), 'durationInSeconds': 0, 'contexts': [{'statusCode': '', 'message': ''}]}, {'phaseType': 'COMPLETED', 'startTime': datetime.datetime(2024, 6, 25, 8, 22, 38, 848000, tzinfo=tzlocal())}], 'source': {'type': 'GITHUB', 'location': 'https://github.com/mlops-hs-team1/index-predictor', 'buildspec': 'buildspec.yml', 'reportBuildStatus': False, 'insecureSsl': False}, 'secondarySources': [], 'secondarySourceVersions': [], 'artifacts': {'location': 'arn:aws:s3:::team1-index-predictor-bucket/artifacts', 'encryptionDisabled': False}, 'cache': {'type': 'NO_CACHE'}, 'environment': {'type': 'LINUX_CONTAINER', 'image': 'aws/codebuild/standard:5.0', 'computeType': 'BUILD_GENERAL1_SMALL', 'environmentVariables': [{'name': 'MODEL_EXECUTION_ROLE_ARN', 'value': 'arn:aws:iam::567821811420:role/service-role/AmazonSageMaker-ExecutionRole-20230619T084765', 'type': 'PLAINTEXT'}, {'name': 'SOURCE_MODEL_PACKAGE_GROUP_NAME', 'value': 'index-predictor-model-group', 'type': 'PLAINTEXT'}, {'name': 'ARTIFACT_BUCKET', 'value': 'team1-index-predictor-bucket', 'type': 'PLAINTEXT'}, {'name': 'EXPORT_TEMPLATE_NAME', 'value': 'endpoint-config.json', 'type': 'PLAINTEXT'}], 'privilegedMode': False, 'imagePullCredentialsType': 'CODEBUILD'}, 'serviceRole': 'arn:aws:iam::567821811420:role/service-role/AmazonSageMaker-ExecutionRole-20230619T084765', 'logs': {'groupName': '/aws/codebuild/index-predictor-codebuild', 'streamName': '361ef609-dd3a-41a5-b6c3-eec26962b50b', 'deepLink': 'https://console.aws.amazon.com/cloudwatch/home?region=eu-central-1#logsV2:log-groups/log-group/$252Faws$252Fcodebuild$252Findex-predictor-codebuild/log-events/361ef609-dd3a-41a5-b6c3-eec26962b50b', 'cloudWatchLogsArn': 'arn:aws:logs:eu-central-1:567821811420:log-group:/aws/codebuild/index-predictor-codebuild:log-stream:361ef609-dd3a-41a5-b6c3-eec26962b50b'}, 'timeoutInMinutes': 60, 'queuedTimeoutInMinutes': 480, 'buildComplete': True, 'initiator': 'AmazonSageMaker-ExecutionRole-20230619T084765/SageMaker', 'encryptionKey': 'arn:aws:kms:eu-central-1:567821811420:alias/aws/s3'}], 'buildsNotFound': [], 'ResponseMetadata': {'RequestId': '03803d63-f3b9-4302-8653-cd98adddd390', 'HTTPStatusCode': 200, 'HTTPHeaders': {'x-amzn-requestid': '03803d63-f3b9-4302-8653-cd98adddd390', 'content-type': 'application/x-amz-json-1.1', 'content-length': '3225', 'date': 'Tue, 25 Jun 2024 08:23:03 GMT'}, 'RetryAttempts': 0}}\n"
     ]
    }
   ],
   "source": [
    "# Check build status\n",
    "build_id = response['build']['id']\n",
    "build_status = codebuild_client.batch_get_builds(ids=[build_id])\n",
    "print(\"Build status:\", build_status)"
   ]
  },
  {
   "cell_type": "code",
   "execution_count": 6,
   "metadata": {},
   "outputs": [
    {
     "data": {
      "text/plain": [
       "'arn:aws:iam::567821811420:role/service-role/AmazonSageMaker-ExecutionRole-20230619T084765'"
      ]
     },
     "execution_count": 6,
     "metadata": {},
     "output_type": "execute_result"
    }
   ],
   "source": [
    "sagemaker.get_execution_role()"
   ]
  },
  {
   "cell_type": "code",
   "execution_count": 17,
   "metadata": {},
   "outputs": [
    {
     "name": "stdout",
     "output_type": "stream",
     "text": [
      "\n",
      "Unknown options: ModelExecutionRoleArn=arn:aws:iam::567821811420:role/service-role/AmazonSageMaker-ExecutionRole-20230619T084765\n"
     ]
    }
   ],
   "source": [
    "!aws cloudformation deploy --template-file /home/sagemaker-user/src/deployment/endpoint-config.yml --stack-name sagemaker-v3--parameter-overrides ModelExecutionRoleArn=arn:aws:iam::567821811420:role/service-role/AmazonSageMaker-ExecutionRole-20230619T084765"
   ]
  },
  {
   "cell_type": "code",
   "execution_count": 18,
   "metadata": {},
   "outputs": [
    {
     "name": "stdout",
     "output_type": "stream",
     "text": [
      "{\n",
      "    \"StackEvents\": [\n",
      "        {\n",
      "            \"StackId\": \"arn:aws:cloudformation:eu-central-1:567821811420:stack/sagemaker-v2/747b8130-32c2-11ef-bc85-029d88de1407\",\n",
      "            \"EventId\": \"7b5cac90-32c2-11ef-95bf-06840981f8af\",\n",
      "            \"StackName\": \"sagemaker-v2\",\n",
      "            \"LogicalResourceId\": \"sagemaker-v2\",\n",
      "            \"PhysicalResourceId\": \"arn:aws:cloudformation:eu-central-1:567821811420:stack/sagemaker-v2/747b8130-32c2-11ef-bc85-029d88de1407\",\n",
      "            \"ResourceType\": \"AWS::CloudFormation::Stack\",\n",
      "            \"Timestamp\": \"2024-06-25T07:13:54.636000+00:00\",\n",
      "            \"ResourceStatus\": \"ROLLBACK_COMPLETE\"\n",
      "        },\n",
      "        {\n",
      "            \"StackId\": \"arn:aws:cloudformation:eu-central-1:567821811420:stack/sagemaker-v2/747b8130-32c2-11ef-bc85-029d88de1407\",\n",
      "            \"EventId\": \"Model-DELETE_COMPLETE-2024-06-25T07:13:54.235Z\",\n",
      "            \"StackName\": \"sagemaker-v2\",\n",
      "            \"LogicalResourceId\": \"Model\",\n",
      "            \"PhysicalResourceId\": \"\",\n",
      "            \"ResourceType\": \"AWS::SageMaker::Model\",\n",
      "            \"Timestamp\": \"2024-06-25T07:13:54.235000+00:00\",\n",
      "            \"ResourceStatus\": \"DELETE_COMPLETE\",\n",
      "            \"ResourceProperties\": \"{\\\"ExecutionRoleArn\\\":\\\"arn:aws:iam::567821811420:role/service-role/AmazonSageMaker-ExecutionRole-20230619T084765\\\",\\\"Containers\\\":[{\\\"ModelPackageName\\\":\\\"index-predictor-model-group\\\"}]}\"\n",
      "        },\n",
      "        {\n",
      "            \"StackId\": \"arn:aws:cloudformation:eu-central-1:567821811420:stack/sagemaker-v2/747b8130-32c2-11ef-bc85-029d88de1407\",\n",
      "            \"EventId\": \"79fca760-32c2-11ef-8fbb-02019706b605\",\n",
      "            \"StackName\": \"sagemaker-v2\",\n",
      "            \"LogicalResourceId\": \"sagemaker-v2\",\n",
      "            \"PhysicalResourceId\": \"arn:aws:cloudformation:eu-central-1:567821811420:stack/sagemaker-v2/747b8130-32c2-11ef-bc85-029d88de1407\",\n",
      "            \"ResourceType\": \"AWS::CloudFormation::Stack\",\n",
      "            \"Timestamp\": \"2024-06-25T07:13:52.331000+00:00\",\n",
      "            \"ResourceStatus\": \"ROLLBACK_IN_PROGRESS\",\n",
      "            \"ResourceStatusReason\": \"The following resource(s) failed to create: [Model]. Rollback requested by user.\"\n",
      "        },\n",
      "        {\n",
      "            \"StackId\": \"arn:aws:cloudformation:eu-central-1:567821811420:stack/sagemaker-v2/747b8130-32c2-11ef-bc85-029d88de1407\",\n",
      "            \"EventId\": \"Model-CREATE_FAILED-2024-06-25T07:13:52.041Z\",\n",
      "            \"StackName\": \"sagemaker-v2\",\n",
      "            \"LogicalResourceId\": \"Model\",\n",
      "            \"PhysicalResourceId\": \"\",\n",
      "            \"ResourceType\": \"AWS::SageMaker::Model\",\n",
      "            \"Timestamp\": \"2024-06-25T07:13:52.041000+00:00\",\n",
      "            \"ResourceStatus\": \"CREATE_FAILED\",\n",
      "            \"ResourceStatusReason\": \"ModelPackage arn:aws:sagemaker:eu-central-1:567821811420:model-package/index-predictor-model-group does not exist. (Service: AmazonSageMaker; Status Code: 400; Error Code: ValidationException; Request ID: 7c3329ef-2125-46e2-9af7-2494f824f5e0; Proxy: null)\",\n",
      "            \"ResourceProperties\": \"{\\\"ExecutionRoleArn\\\":\\\"arn:aws:iam::567821811420:role/service-role/AmazonSageMaker-ExecutionRole-20230619T084765\\\",\\\"Containers\\\":[{\\\"ModelPackageName\\\":\\\"index-predictor-model-group\\\"}]}\"\n",
      "        },\n",
      "        {\n",
      "            \"StackId\": \"arn:aws:cloudformation:eu-central-1:567821811420:stack/sagemaker-v2/747b8130-32c2-11ef-bc85-029d88de1407\",\n",
      "            \"EventId\": \"Model-CREATE_IN_PROGRESS-2024-06-25T07:13:50.859Z\",\n",
      "            \"StackName\": \"sagemaker-v2\",\n",
      "            \"LogicalResourceId\": \"Model\",\n",
      "            \"PhysicalResourceId\": \"\",\n",
      "            \"ResourceType\": \"AWS::SageMaker::Model\",\n",
      "            \"Timestamp\": \"2024-06-25T07:13:50.859000+00:00\",\n",
      "            \"ResourceStatus\": \"CREATE_IN_PROGRESS\",\n",
      "            \"ResourceProperties\": \"{\\\"ExecutionRoleArn\\\":\\\"arn:aws:iam::567821811420:role/service-role/AmazonSageMaker-ExecutionRole-20230619T084765\\\",\\\"Containers\\\":[{\\\"ModelPackageName\\\":\\\"index-predictor-model-group\\\"}]}\"\n",
      "        },\n",
      "        {\n",
      "            \"StackId\": \"arn:aws:cloudformation:eu-central-1:567821811420:stack/sagemaker-v2/747b8130-32c2-11ef-bc85-029d88de1407\",\n",
      "            \"EventId\": \"77bb1bd0-32c2-11ef-96b1-0aa569430203\",\n",
      "            \"StackName\": \"sagemaker-v2\",\n",
      "            \"LogicalResourceId\": \"sagemaker-v2\",\n",
      "            \"PhysicalResourceId\": \"arn:aws:cloudformation:eu-central-1:567821811420:stack/sagemaker-v2/747b8130-32c2-11ef-bc85-029d88de1407\",\n",
      "            \"ResourceType\": \"AWS::CloudFormation::Stack\",\n",
      "            \"Timestamp\": \"2024-06-25T07:13:48.545000+00:00\",\n",
      "            \"ResourceStatus\": \"CREATE_IN_PROGRESS\",\n",
      "            \"ResourceStatusReason\": \"User Initiated\"\n",
      "        },\n",
      "        {\n",
      "            \"StackId\": \"arn:aws:cloudformation:eu-central-1:567821811420:stack/sagemaker-v2/747b8130-32c2-11ef-bc85-029d88de1407\",\n",
      "            \"EventId\": \"747b0c00-32c2-11ef-bc85-029d88de1407\",\n",
      "            \"StackName\": \"sagemaker-v2\",\n",
      "            \"LogicalResourceId\": \"sagemaker-v2\",\n",
      "            \"PhysicalResourceId\": \"arn:aws:cloudformation:eu-central-1:567821811420:stack/sagemaker-v2/747b8130-32c2-11ef-bc85-029d88de1407\",\n",
      "            \"ResourceType\": \"AWS::CloudFormation::Stack\",\n",
      "            \"Timestamp\": \"2024-06-25T07:13:43.193000+00:00\",\n",
      "            \"ResourceStatus\": \"REVIEW_IN_PROGRESS\",\n",
      "            \"ResourceStatusReason\": \"User Initiated\"\n",
      "        }\n",
      "    ]\n",
      "}\n"
     ]
    }
   ],
   "source": [
    "!aws cloudformation describe-stack-events --stack-name sagemaker-v2"
   ]
  }
 ],
 "metadata": {
  "kernelspec": {
   "display_name": "Python 3 (ipykernel)",
   "language": "python",
   "name": "python3"
  },
  "language_info": {
   "codemirror_mode": {
    "name": "ipython",
    "version": 3
   },
   "file_extension": ".py",
   "mimetype": "text/x-python",
   "name": "python",
   "nbconvert_exporter": "python",
   "pygments_lexer": "ipython3",
   "version": "3.10.14"
  }
 },
 "nbformat": 4,
 "nbformat_minor": 2
}
