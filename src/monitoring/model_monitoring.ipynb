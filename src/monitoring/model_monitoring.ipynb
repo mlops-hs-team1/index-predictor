{
 "cells": [
  {
   "cell_type": "code",
   "execution_count": 207,
   "id": "a9ba51c5-efbf-41ca-a47d-a31bda635d1e",
   "metadata": {},
   "outputs": [
    {
     "data": {
      "text/plain": [
       "<module 'utils' from '/home/sagemaker-user/src/monitoring/utils.py'>"
      ]
     },
     "execution_count": 207,
     "metadata": {},
     "output_type": "execute_result"
    }
   ],
   "source": [
    "import sagemaker\n",
    "from sagemaker.predictor import Predictor\n",
    "from sagemaker.serializers import CSVSerializer\n",
    "from sagemaker.deserializers import CSVDeserializer\n",
    "from sagemaker.feature_store.feature_group import FeatureGroup\n",
    "from sagemaker.s3 import S3Downloader, S3Uploader\n",
    "from sagemaker.model_monitor.dataset_format import DatasetFormat\n",
    "\n",
    "import json\n",
    "import jsonlines\n",
    "import utils\n",
    "from importlib import reload\n",
    "\n",
    "reload(utils)"
   ]
  },
  {
   "cell_type": "code",
   "execution_count": 179,
   "id": "aab154a7-733e-4be8-8943-53db964002ab",
   "metadata": {},
   "outputs": [],
   "source": [
    "sm_session = sagemaker.Session()\n",
    "\n",
    "endpoint_name = \"index-predictor-endpoint\"\n",
    "feature_group_name = \"index-predictor-feature-group-v7\"\n",
    "bucket_name = \"team1-index-predictor-bucket\"\n",
    "data_version = \"2024-06-26-09-33\"\n",
    "\n",
    "data_capture_prefix = \"data-capture\"\n",
    "data_capture_s3_url = f\"s3://{bucket_name}/{data_capture_prefix}\""
   ]
  },
  {
   "cell_type": "code",
   "execution_count": 180,
   "id": "f7c5190d-92b7-431b-9a70-b04d0066c945",
   "metadata": {},
   "outputs": [],
   "source": [
    "predictor = Predictor(\n",
    "    endpoint_name=endpoint_name,\n",
    "    serializer=CSVSerializer(),\n",
    "    deserializer=CSVDeserializer(),\n",
    ")"
   ]
  },
  {
   "cell_type": "code",
   "execution_count": 181,
   "id": "4322fa35-9125-4c76-b84a-c3889ae3a6cf",
   "metadata": {},
   "outputs": [],
   "source": [
    "### Downloading data from feature store"
   ]
  },
  {
   "cell_type": "code",
   "execution_count": 182,
   "id": "10095d11-e22f-4195-af62-22e24feb40f6",
   "metadata": {},
   "outputs": [
    {
     "name": "stderr",
     "output_type": "stream",
     "text": [
      "INFO:sagemaker:Query 347ba82c-eccc-4c69-a667-fe1d0a5eddc8 is being executed.\n",
      "INFO:sagemaker:Query 347ba82c-eccc-4c69-a667-fe1d0a5eddc8 successfully executed.\n"
     ]
    }
   ],
   "source": [
    "feature_group = FeatureGroup(name=feature_group_name, sagemaker_session=sm_session)\n",
    "\n",
    "query = feature_group.athena_query()\n",
    "\n",
    "query.run(\n",
    "    query_string=f\"\"\"SELECT * FROM \"{query.table_name}\" WHERE version = '{data_version}'\"\"\",\n",
    "    output_location=f\"s3://{bucket_name}/model_monitor/data/\",\n",
    ")\n",
    "\n",
    "query.wait()\n",
    "\n",
    "df = query.as_dataframe()\n",
    "\n",
    "train_df = df[df[\"type\"] == \"train\"].copy()\n",
    "validation_df = df[df[\"type\"] == \"validation\"].copy()\n",
    "test_df = df[df[\"type\"] == \"test\"].copy()\n",
    "\n",
    "selected_test_df = test_df.copy().sample(n=100, random_state=1)"
   ]
  },
  {
   "cell_type": "code",
   "execution_count": 183,
   "id": "d3166879-76cf-4715-925f-9e481976a9e8",
   "metadata": {},
   "outputs": [],
   "source": [
    "columns_to_drop = [\"type\", \"version\", \"write_time\", \"api_invocation_time\", \"is_deleted\", \"datetime\"]\n",
    "\n",
    "df.drop(\n",
    "    columns=columns_to_drop,\n",
    "    inplace=True,\n",
    ")\n",
    "train_df.drop(\n",
    "    columns=columns_to_drop,\n",
    "    inplace=True,\n",
    ")\n",
    "validation_df.drop(\n",
    "    columns=columns_to_drop,\n",
    "    inplace=True,\n",
    ")\n",
    "test_df.drop(\n",
    "    columns=columns_to_drop,\n",
    "    inplace=True,\n",
    ")\n",
    "selected_test_df.drop(\n",
    "    columns=columns_to_drop,\n",
    "    inplace=True,\n",
    ")\n",
    "selected_test_no_target = selected_test_df.drop(columns=[\"close_target\"])"
   ]
  },
  {
   "cell_type": "code",
   "execution_count": 184,
   "id": "c406b45a-b5fa-48c9-8b3d-dc139fac29e3",
   "metadata": {},
   "outputs": [
    {
     "name": "stderr",
     "output_type": "stream",
     "text": [
      "100%|██████████| 100/100 [00:01<00:00, 88.43it/s]\n"
     ]
    }
   ],
   "source": [
    "utils.generate_endpoint_traffic(predictor, selected_test_no_target)"
   ]
  },
  {
   "cell_type": "code",
   "execution_count": 185,
   "id": "5b9f7953-0f64-4b59-abce-59812474e7da",
   "metadata": {},
   "outputs": [],
   "source": [
    "test_df_no_target = test_df.drop(columns=[\"close_target\"])"
   ]
  },
  {
   "cell_type": "code",
   "execution_count": 198,
   "id": "3b10227b-1a07-42a6-b82f-f4360813db3e",
   "metadata": {},
   "outputs": [],
   "source": [
    "predictions = predictor.predict(test_df_no_target)\n",
    "flat_predictions = [item for sublist in predictions for item in sublist]"
   ]
  },
  {
   "cell_type": "code",
   "execution_count": 201,
   "id": "3d878dbe-5048-4904-99f3-ba70a78df6e1",
   "metadata": {},
   "outputs": [],
   "source": [
    "test_df['probabilities'] = flat_predictions\n",
    "test_df['probabilities'] = test_df['probabilities'].astype(float)\n",
    "test_df['predictions'] = (test_df['probabilities'] > 0.5).astype(int)"
   ]
  },
  {
   "cell_type": "code",
   "execution_count": 204,
   "id": "8bef2015-2de1-4710-a149-1bc0680322c8",
   "metadata": {},
   "outputs": [],
   "source": [
    "test_df.to_csv(\"tmp/test_df.csv\", index=False)\n",
    "\n",
    "test_df_s3_uri = S3Uploader.upload(\"tmp/test_df.csv\", f's3://{bucket_name}/model_monitor/model_baseline/test_df.csv')"
   ]
  },
  {
   "cell_type": "code",
   "execution_count": 206,
   "id": "2b95afb1-2091-45ae-ac74-e9e5d1e6b4de",
   "metadata": {},
   "outputs": [
    {
     "name": "stderr",
     "output_type": "stream",
     "text": [
      "INFO:sagemaker.image_uris:Defaulting to the only supported framework/algorithm version: .\n",
      "INFO:sagemaker.image_uris:Ignoring unnecessary instance type: None.\n"
     ]
    }
   ],
   "source": [
    "model_monitor = ModelQualityMonitor(\n",
    "    role=sagemaker.get_execution_role(),\n",
    "    instance_count=1,\n",
    "    instance_type='ml.m5.xlarge',\n",
    "    volume_size_in_gb=20,\n",
    "    max_runtime_in_seconds=1800,\n",
    "    sagemaker_session=sm_session\n",
    ")"
   ]
  },
  {
   "cell_type": "code",
   "execution_count": 212,
   "id": "ec3a2109-a8c9-4a0d-ac79-e453231ef393",
   "metadata": {},
   "outputs": [
    {
     "name": "stderr",
     "output_type": "stream",
     "text": [
      "INFO:sagemaker:Creating processing-job with name index-predictor-model-baselining-27-07-32-25\n"
     ]
    },
    {
     "name": "stdout",
     "output_type": "stream",
     "text": [
      "............................................................!"
     ]
    }
   ],
   "source": [
    "model_baseline_job_name = f\"index-predictor-model-baselining-{strftime('%d-%H-%M-%S', gmtime())}\"\n",
    "\n",
    "model_baseline_job = model_monitor.suggest_baseline(\n",
    "    baseline_dataset=test_df_s3_uri,\n",
    "    dataset_format=DatasetFormat.csv(header=True),\n",
    "    output_s3_uri = f's3://{bucket_name}/model_monitor/model_baseline/results',\n",
    "    problem_type=\"BinaryClassification\",\n",
    "    inference_attribute= \"predictions\", # The column in the dataset that contains predictions\n",
    "    probability_attribute= \"probabilities\", # The column in the dataset that contains probabilities\n",
    "    ground_truth_attribute= \"close_target\", # The column in the dataset that contains ground truth labels\n",
    "    job_name=model_baseline_job_name,\n",
    ")\n",
    "\n",
    "model_baseline_job.wait(logs=False)"
   ]
  },
  {
   "cell_type": "code",
   "execution_count": 213,
   "id": "2afe0b90-7035-480f-afd4-b4f8329547b3",
   "metadata": {},
   "outputs": [
    {
     "data": {
      "text/html": [
       "<div>\n",
       "<style scoped>\n",
       "    .dataframe tbody tr th:only-of-type {\n",
       "        vertical-align: middle;\n",
       "    }\n",
       "\n",
       "    .dataframe tbody tr th {\n",
       "        vertical-align: top;\n",
       "    }\n",
       "\n",
       "    .dataframe thead th {\n",
       "        text-align: right;\n",
       "    }\n",
       "</style>\n",
       "<table border=\"1\" class=\"dataframe\">\n",
       "  <thead>\n",
       "    <tr style=\"text-align: right;\">\n",
       "      <th></th>\n",
       "      <th>threshold</th>\n",
       "      <th>comparison_operator</th>\n",
       "    </tr>\n",
       "  </thead>\n",
       "  <tbody>\n",
       "    <tr>\n",
       "      <th>recall</th>\n",
       "      <td>0.812834</td>\n",
       "      <td>LessThanThreshold</td>\n",
       "    </tr>\n",
       "    <tr>\n",
       "      <th>precision</th>\n",
       "      <td>0.520548</td>\n",
       "      <td>LessThanThreshold</td>\n",
       "    </tr>\n",
       "    <tr>\n",
       "      <th>accuracy</th>\n",
       "      <td>0.509804</td>\n",
       "      <td>LessThanThreshold</td>\n",
       "    </tr>\n",
       "    <tr>\n",
       "      <th>true_positive_rate</th>\n",
       "      <td>0.812834</td>\n",
       "      <td>LessThanThreshold</td>\n",
       "    </tr>\n",
       "    <tr>\n",
       "      <th>true_negative_rate</th>\n",
       "      <td>0.176471</td>\n",
       "      <td>LessThanThreshold</td>\n",
       "    </tr>\n",
       "    <tr>\n",
       "      <th>false_positive_rate</th>\n",
       "      <td>0.823529</td>\n",
       "      <td>GreaterThanThreshold</td>\n",
       "    </tr>\n",
       "    <tr>\n",
       "      <th>false_negative_rate</th>\n",
       "      <td>0.187166</td>\n",
       "      <td>GreaterThanThreshold</td>\n",
       "    </tr>\n",
       "    <tr>\n",
       "      <th>auc</th>\n",
       "      <td>0.494652</td>\n",
       "      <td>LessThanThreshold</td>\n",
       "    </tr>\n",
       "    <tr>\n",
       "      <th>f0_5</th>\n",
       "      <td>0.560886</td>\n",
       "      <td>LessThanThreshold</td>\n",
       "    </tr>\n",
       "    <tr>\n",
       "      <th>f1</th>\n",
       "      <td>0.634656</td>\n",
       "      <td>LessThanThreshold</td>\n",
       "    </tr>\n",
       "    <tr>\n",
       "      <th>f2</th>\n",
       "      <td>0.730769</td>\n",
       "      <td>LessThanThreshold</td>\n",
       "    </tr>\n",
       "  </tbody>\n",
       "</table>\n",
       "</div>"
      ],
      "text/plain": [
       "                    threshold   comparison_operator\n",
       "recall               0.812834     LessThanThreshold\n",
       "precision            0.520548     LessThanThreshold\n",
       "accuracy             0.509804     LessThanThreshold\n",
       "true_positive_rate   0.812834     LessThanThreshold\n",
       "true_negative_rate   0.176471     LessThanThreshold\n",
       "false_positive_rate  0.823529  GreaterThanThreshold\n",
       "false_negative_rate  0.187166  GreaterThanThreshold\n",
       "auc                  0.494652     LessThanThreshold\n",
       "f0_5                 0.560886     LessThanThreshold\n",
       "f1                   0.634656     LessThanThreshold\n",
       "f2                   0.730769     LessThanThreshold"
      ]
     },
     "execution_count": 213,
     "metadata": {},
     "output_type": "execute_result"
    }
   ],
   "source": [
    "latest_model_baseline_job = model_monitor.latest_baselining_job\n",
    "pd.DataFrame(latest_model_baseline_job.suggested_constraints().body_dict[\"binary_classification_constraints\"]).T"
   ]
  },
  {
   "cell_type": "code",
   "execution_count": 214,
   "id": "560d159e-e99c-4674-b072-2543a7e5b647",
   "metadata": {},
   "outputs": [
    {
     "data": {
      "text/html": [
       "<div>\n",
       "<style scoped>\n",
       "    .dataframe tbody tr th:only-of-type {\n",
       "        vertical-align: middle;\n",
       "    }\n",
       "\n",
       "    .dataframe tbody tr th {\n",
       "        vertical-align: top;\n",
       "    }\n",
       "\n",
       "    .dataframe thead th {\n",
       "        text-align: right;\n",
       "    }\n",
       "</style>\n",
       "<table border=\"1\" class=\"dataframe\">\n",
       "  <thead>\n",
       "    <tr style=\"text-align: right;\">\n",
       "      <th></th>\n",
       "      <th>0</th>\n",
       "      <th>1</th>\n",
       "    </tr>\n",
       "  </thead>\n",
       "  <tbody>\n",
       "    <tr>\n",
       "      <th>0</th>\n",
       "      <td>30</td>\n",
       "      <td>35</td>\n",
       "    </tr>\n",
       "    <tr>\n",
       "      <th>1</th>\n",
       "      <td>140</td>\n",
       "      <td>152</td>\n",
       "    </tr>\n",
       "  </tbody>\n",
       "</table>\n",
       "</div>"
      ],
      "text/plain": [
       "     0    1\n",
       "0   30   35\n",
       "1  140  152"
      ]
     },
     "execution_count": 214,
     "metadata": {},
     "output_type": "execute_result"
    }
   ],
   "source": [
    "pd.DataFrame(latest_model_baseline_job.baseline_statistics().body_dict[\"binary_classification_metrics\"][\"confusion_matrix\"])"
   ]
  },
  {
   "cell_type": "code",
   "execution_count": 215,
   "id": "e766dc16-bbec-4c01-8df0-a1f0a8b2ca25",
   "metadata": {},
   "outputs": [],
   "source": [
    "### Generate endpoint traffic and ingest ground truth data into it"
   ]
  },
  {
   "cell_type": "code",
   "execution_count": null,
   "id": "003a2e2a-707d-4df5-bafe-6692fe207a79",
   "metadata": {},
   "outputs": [],
   "source": []
  }
 ],
 "metadata": {
  "kernelspec": {
   "display_name": "Python 3 (ipykernel)",
   "language": "python",
   "name": "python3"
  },
  "language_info": {
   "codemirror_mode": {
    "name": "ipython",
    "version": 3
   },
   "file_extension": ".py",
   "mimetype": "text/x-python",
   "name": "python",
   "nbconvert_exporter": "python",
   "pygments_lexer": "ipython3",
   "version": "3.10.14"
  }
 },
 "nbformat": 4,
 "nbformat_minor": 5
}
