{
 "cells": [
  {
   "cell_type": "code",
   "execution_count": 109,
   "metadata": {},
   "outputs": [
    {
     "name": "stdout",
     "output_type": "stream",
     "text": [
      "Note: you may need to restart the kernel to use updated packages.\n"
     ]
    },
    {
     "data": {
      "text/plain": [
       "<module 'utils' from '/home/sagemaker-user/src/monitoring/utils.py'>"
      ]
     },
     "execution_count": 109,
     "metadata": {},
     "output_type": "execute_result"
    }
   ],
   "source": [
    "%pip install -q jsonlines\n",
    "\n",
    "import sagemaker\n",
    "from sagemaker.predictor import Predictor\n",
    "from sagemaker.serializers import CSVSerializer\n",
    "from sagemaker.deserializers import CSVDeserializer\n",
    "from sagemaker.feature_store.feature_group import FeatureGroup\n",
    "from sagemaker.s3 import S3Downloader, S3Uploader\n",
    "from sagemaker.model_monitor import (\n",
    "    DefaultModelMonitor,\n",
    "    DataCaptureConfig,\n",
    "    CronExpressionGenerator,\n",
    "    ModelQualityMonitor,\n",
    "    EndpointInput,\n",
    ")\n",
    "from sagemaker.model_monitor.dataset_format import DatasetFormat\n",
    "import json\n",
    "import jsonlines\n",
    "import utils\n",
    "from importlib import reload\n",
    "from tqdm import trange\n",
    "import numpy as np\n",
    "import time\n",
    "import pandas as pd\n",
    "from time import gmtime, strftime\n",
    "\n",
    "reload(utils)"
   ]
  },
  {
   "cell_type": "code",
   "execution_count": 110,
   "metadata": {},
   "outputs": [],
   "source": [
    "sm_session = sagemaker.Session()\n",
    "\n",
    "endpoint_name = \"index-predictor-endpoint\"\n",
    "feature_group_name = \"index-predictor-feature-group-v7\"\n",
    "bucket_name = \"team1-index-predictor-bucket\"\n",
    "data_version = \"2024-06-26-09-33\"\n",
    "\n",
    "data_capture_prefix = \"data-capture\"\n",
    "data_capture_s3_url = f\"s3://{bucket_name}/{data_capture_prefix}\""
   ]
  },
  {
   "cell_type": "code",
   "execution_count": 111,
   "metadata": {},
   "outputs": [],
   "source": [
    "predictor = Predictor(\n",
    "    endpoint_name=endpoint_name,\n",
    "    serializer=CSVSerializer(),\n",
    "    deserializer=CSVDeserializer(),\n",
    ")"
   ]
  },
  {
   "cell_type": "markdown",
   "metadata": {},
   "source": [
    "### Downloading data from feature store"
   ]
  },
  {
   "cell_type": "code",
   "execution_count": 112,
   "metadata": {},
   "outputs": [
    {
     "name": "stderr",
     "output_type": "stream",
     "text": [
      "INFO:sagemaker:Query a5f274de-6af5-42b3-8180-7ac7a841c84a is being executed.\n",
      "INFO:sagemaker:Query a5f274de-6af5-42b3-8180-7ac7a841c84a successfully executed.\n"
     ]
    }
   ],
   "source": [
    "feature_group = FeatureGroup(name=feature_group_name, sagemaker_session=sm_session)\n",
    "\n",
    "query = feature_group.athena_query()\n",
    "\n",
    "query.run(\n",
    "    query_string=f\"\"\"SELECT * FROM \"{query.table_name}\" WHERE version = '{data_version}'\"\"\",\n",
    "    output_location=f\"s3://{bucket_name}/model_monitor/data/\",\n",
    ")\n",
    "\n",
    "query.wait()\n",
    "\n",
    "df = query.as_dataframe()\n",
    "\n",
    "train_df = df[df[\"type\"] == \"train\"].copy()\n",
    "validation_df = df[df[\"type\"] == \"validation\"].copy()\n",
    "test_df = df[df[\"type\"] == \"test\"].copy()\n",
    "\n",
    "selected_test_df = test_df.copy().sample(n=100, random_state=1)"
   ]
  },
  {
   "cell_type": "code",
   "execution_count": 113,
   "metadata": {},
   "outputs": [],
   "source": [
    "columns_to_drop = [\"type\", \"version\", \"write_time\", \"api_invocation_time\", \"is_deleted\", \"datetime\", \"close_target\"]\n",
    "\n",
    "df.drop(\n",
    "    columns=columns_to_drop,\n",
    "    inplace=True,\n",
    ")\n",
    "train_df.drop(\n",
    "    columns=columns_to_drop,\n",
    "    inplace=True,\n",
    ")\n",
    "validation_df.drop(\n",
    "    columns=columns_to_drop,\n",
    "    inplace=True,\n",
    ")\n",
    "test_df.drop(\n",
    "    columns=columns_to_drop,\n",
    "    inplace=True,\n",
    ")\n",
    "selected_test_df.drop(\n",
    "    columns=columns_to_drop,\n",
    "    inplace=True,\n",
    ")"
   ]
  },
  {
   "cell_type": "code",
   "execution_count": 47,
   "metadata": {},
   "outputs": [],
   "source": [
    "train_df.to_csv('/tmp/train_df.csv', index=False, header=False)\n",
    "\n",
    "train_df_s3_uri = S3Uploader.upload('/tmp/train_df.csv', f's3://{bucket_name}/model_monitor/train_df.csv')"
   ]
  },
  {
   "cell_type": "code",
   "execution_count": 114,
   "metadata": {},
   "outputs": [],
   "source": [
    "def generate_endpoint_traffic(predictor, data):\n",
    "    ln = len(data)\n",
    "    for i in trange(ln):\n",
    "        row_data = data.iloc[i].values.reshape(1, -1)\n",
    "        predictions = np.array(\n",
    "            predictor.predict(row_data), dtype=float\n",
    "        ).squeeze()"
   ]
  },
  {
   "cell_type": "code",
   "execution_count": 33,
   "metadata": {},
   "outputs": [
    {
     "name": "stderr",
     "output_type": "stream",
     "text": [
      "100%|██████████| 100/100 [00:01<00:00, 66.88it/s]\n"
     ]
    }
   ],
   "source": [
    "generate_endpoint_traffic(predictor, selected_test_df)"
   ]
  },
  {
   "cell_type": "code",
   "execution_count": 34,
   "metadata": {},
   "outputs": [
    {
     "name": "stdout",
     "output_type": "stream",
     "text": [
      "Found 8 files in s3://team1-index-predictor-bucket/data-capture\n"
     ]
    }
   ],
   "source": [
    "capture_files = utils.get_file_list(bucket_name, data_capture_prefix)"
   ]
  },
  {
   "cell_type": "code",
   "execution_count": 44,
   "metadata": {},
   "outputs": [],
   "source": [
    "data_monitor = DefaultModelMonitor(\n",
    "    role=sagemaker.get_execution_role(),\n",
    "    instance_count=1,\n",
    "    instance_type=\"ml.m5.xlarge\",\n",
    "    volume_size_in_gb=10,\n",
    "    max_runtime_in_seconds=3600,\n",
    "    sagemaker_session=sm_session,\n",
    ")"
   ]
  },
  {
   "cell_type": "code",
   "execution_count": 49,
   "metadata": {},
   "outputs": [
    {
     "name": "stderr",
     "output_type": "stream",
     "text": [
      "INFO:sagemaker:Creating processing-job with name model-monitor-baseline-26-19-08-36\n"
     ]
    }
   ],
   "source": [
    "data_baseline_job_name = f\"model-monitor-baseline-{strftime('%d-%H-%M-%S', gmtime())}\"\n",
    "\n",
    "data_baseline_job = data_monitor.suggest_baseline(\n",
    "    baseline_dataset=train_df_s3_uri,\n",
    "    dataset_format=DatasetFormat.csv(header=False),\n",
    "    output_s3_uri=f\"s3://{bucket_name}/model_monitor/baseline_results\",\n",
    "    wait=False,\n",
    "    logs=False,\n",
    "    job_name=data_baseline_job_name,\n",
    ")"
   ]
  },
  {
   "cell_type": "code",
   "execution_count": 51,
   "metadata": {},
   "outputs": [
    {
     "name": "stdout",
     "output_type": "stream",
     "text": [
      "!"
     ]
    },
    {
     "data": {
      "text/plain": [
       "{'ProcessingInputs': [{'InputName': 'baseline_dataset_input',\n",
       "   'AppManaged': False,\n",
       "   'S3Input': {'S3Uri': 's3://team1-index-predictor-bucket/model_monitor/train_df.csv/train_df.csv',\n",
       "    'LocalPath': '/opt/ml/processing/input/baseline_dataset_input',\n",
       "    'S3DataType': 'S3Prefix',\n",
       "    'S3InputMode': 'File',\n",
       "    'S3DataDistributionType': 'FullyReplicated',\n",
       "    'S3CompressionType': 'None'}}],\n",
       " 'ProcessingOutputConfig': {'Outputs': [{'OutputName': 'monitoring_output',\n",
       "    'S3Output': {'S3Uri': 's3://team1-index-predictor-bucket/model_monitor/baseline_results',\n",
       "     'LocalPath': '/opt/ml/processing/output',\n",
       "     'S3UploadMode': 'EndOfJob'},\n",
       "    'AppManaged': False}]},\n",
       " 'ProcessingJobName': 'model-monitor-baseline-26-19-08-36',\n",
       " 'ProcessingResources': {'ClusterConfig': {'InstanceCount': 1,\n",
       "   'InstanceType': 'ml.m5.xlarge',\n",
       "   'VolumeSizeInGB': 10}},\n",
       " 'StoppingCondition': {'MaxRuntimeInSeconds': 3600},\n",
       " 'AppSpecification': {'ImageUri': '048819808253.dkr.ecr.eu-central-1.amazonaws.com/sagemaker-model-monitor-analyzer'},\n",
       " 'Environment': {'dataset_format': '{\"csv\": {\"header\": false, \"output_columns_position\": \"START\"}}',\n",
       "  'dataset_source': '/opt/ml/processing/input/baseline_dataset_input',\n",
       "  'output_path': '/opt/ml/processing/output',\n",
       "  'publish_cloudwatch_metrics': 'Disabled'},\n",
       " 'RoleArn': 'arn:aws:iam::567821811420:role/service-role/AmazonSageMaker-ExecutionRole-20230619T084765',\n",
       " 'ProcessingJobArn': 'arn:aws:sagemaker:eu-central-1:567821811420:processing-job/model-monitor-baseline-26-19-08-36',\n",
       " 'ProcessingJobStatus': 'Completed',\n",
       " 'ExitMessage': 'Completed: Job completed successfully with no violations.',\n",
       " 'ProcessingEndTime': datetime.datetime(2024, 6, 26, 19, 12, 25, tzinfo=tzlocal()),\n",
       " 'ProcessingStartTime': datetime.datetime(2024, 6, 26, 19, 9, 13, tzinfo=tzlocal()),\n",
       " 'LastModifiedTime': datetime.datetime(2024, 6, 26, 19, 13, 40, 326000, tzinfo=tzlocal()),\n",
       " 'CreationTime': datetime.datetime(2024, 6, 26, 19, 8, 38, 243000, tzinfo=tzlocal()),\n",
       " 'ResponseMetadata': {'RequestId': '79d3e88c-c79a-4236-b331-18b095ea1cba',\n",
       "  'HTTPStatusCode': 200,\n",
       "  'HTTPHeaders': {'x-amzn-requestid': '79d3e88c-c79a-4236-b331-18b095ea1cba',\n",
       "   'content-type': 'application/x-amz-json-1.1',\n",
       "   'content-length': '1649',\n",
       "   'date': 'Wed, 26 Jun 2024 19:57:27 GMT'},\n",
       "  'RetryAttempts': 0}}"
      ]
     },
     "execution_count": 51,
     "metadata": {},
     "output_type": "execute_result"
    }
   ],
   "source": [
    "data_baseline_job.wait(logs=False)\n",
    "data_monitor.describe_latest_baselining_job()"
   ]
  },
  {
   "cell_type": "code",
   "execution_count": 62,
   "metadata": {},
   "outputs": [
    {
     "name": "stdout",
     "output_type": "stream",
     "text": [
      "download: s3://team1-index-predictor-bucket/model_monitor/baseline_results/constraints.json to tmp/constraints.json\n",
      "download: s3://team1-index-predictor-bucket/model_monitor/baseline_results/statistics.json to tmp/statistics.json\n",
      "{\n",
      "  \"version\" : 0.0,\n",
      "  \"features\" : [ {\n",
      "    \"name\" : \"_c0\",\n",
      "    \"inferred_type\" : \"Fractional\",\n",
      "    \"completeness\" : 1.0,\n",
      "    \"num_constraints\" : {\n",
      "      \"is_non_negative\" : true\n",
      "    }\n",
      "  }, {\n",
      "    \"name\" : \"_c1\",\n",
      "    \"inferred_type\" : \"Fractional\",\n",
      "    \"completeness\" : 1.0,\n",
      "    \"num_constraints\" : {\n",
      "      \"is_non_negative\" : true\n",
      "{\n",
      "  \"version\" : 0.0,\n",
      "  \"dataset\" : {\n",
      "    \"item_count\" : 6908\n",
      "  },\n",
      "  \"features\" : [ {\n",
      "    \"name\" : \"_c0\",\n",
      "    \"inferred_type\" : \"Fractional\",\n",
      "    \"numerical_statistics\" : {\n",
      "      \"common\" : {\n",
      "        \"num_present\" : 6908,\n",
      "        \"num_missing\" : 0\n",
      "      },\n",
      "      \"mean\" : 5362.103575635247,\n",
      "      \"sum\" : 3.704141150048828E7,\n"
     ]
    }
   ],
   "source": [
    "!aws s3 cp s3://{bucket_name}/model_monitor/baseline_results/constraints.json ./tmp/\n",
    "!aws s3 cp s3://{bucket_name}/model_monitor/baseline_results/statistics.json ./tmp/\n",
    "!head -15 tmp/constraints.json\n",
    "!head -15 tmp/statistics.json"
   ]
  },
  {
   "cell_type": "code",
   "execution_count": 92,
   "metadata": {},
   "outputs": [
    {
     "name": "stdout",
     "output_type": "stream",
     "text": [
      "Found 11 files in s3://team1-index-predictor-bucket/data-capture\n",
      "Latest data capture S3 url: s3://team1-index-predictor-bucket/data-capture/index-predictor-endpoint/AllTraffic/2024/06/26/19\n"
     ]
    },
    {
     "name": "stderr",
     "output_type": "stream",
     "text": [
      "INFO:sagemaker:Creating processing-job with name sagemaker-model-monitor-analyzer-2024-06-26-20-55-01-432\n"
     ]
    },
    {
     "name": "stdout",
     "output_type": "stream",
     "text": [
      "...........................................................!"
     ]
    }
   ],
   "source": [
    "latest_data_capture_s3_url = utils.get_latest_data_capture_s3_url(bucket_name, data_capture_prefix)\n",
    "\n",
    "utils.run_model_monitor_job(\n",
    "    region=\"eu-central-1\",\n",
    "    instance_type=\"ml.m5.xlarge\",\n",
    "    role=sagemaker.get_execution_role(),\n",
    "    data_capture_path=latest_data_capture_s3_url,\n",
    "    statistics_path=f\"s3://{bucket_name}/model_monitor/baseline_results/statistics.json\",\n",
    "    constraints_path=f\"s3://{bucket_name}/model_monitor/baseline_results/constraints.json\",\n",
    "    reports_path=f\"s3://{bucket_name}/model_monitor/baseline_results/reports/\",\n",
    "    preprocessor_path=\"./record_preprocessor.py\",\n",
    "    instance_count=1,\n",
    "    postprocessor_path=None,\n",
    "    publish_cloudwatch_metrics=\"Disabled\",\n",
    "    logs=False,\n",
    ")"
   ]
  },
  {
   "cell_type": "code",
   "execution_count": 94,
   "metadata": {},
   "outputs": [
    {
     "name": "stdout",
     "output_type": "stream",
     "text": [
      "Latest monitoring report S3 url: s3://team1-index-predictor-bucket/model_monitor/baseline_results/reports//9\n"
     ]
    }
   ],
   "source": [
    "manual_monitoring_job_output_s3_url = utils.get_latest_monitoring_report_s3_url(\"sagemaker-model-monitor-analyzer\")"
   ]
  },
  {
   "cell_type": "code",
   "execution_count": 95,
   "metadata": {},
   "outputs": [
    {
     "name": "stdout",
     "output_type": "stream",
     "text": [
      "2024-06-26 20:58:55      37229 constraint_violations.json\n",
      "2024-06-26 20:58:49      24989 constraints.json\n",
      "2024-06-26 20:58:50     277283 statistics.json\n"
     ]
    }
   ],
   "source": [
    "!aws s3 ls {manual_monitoring_job_output_s3_url}/"
   ]
  },
  {
   "cell_type": "code",
   "execution_count": 103,
   "metadata": {},
   "outputs": [
    {
     "name": "stderr",
     "output_type": "stream",
     "text": [
      "INFO:sagemaker.model_monitor.model_monitoring:Creating Monitoring Schedule with name: index-predictor-data-monitor-schedule-2024-06-26-21-24-56\n"
     ]
    }
   ],
   "source": [
    "data_mon_schedule_name = \"index-predictor-data-monitor-schedule-\" + strftime(\n",
    "    \"%Y-%m-%d-%H-%M-%S\", gmtime()\n",
    ")\n",
    "\n",
    "data_monitor.create_monitoring_schedule(\n",
    "    monitor_schedule_name=data_mon_schedule_name,\n",
    "    endpoint_input=predictor.endpoint_name,\n",
    "    record_preprocessor_script=\"./record_preprocessor.py\",\n",
    "    output_s3_uri=f\"s3://{bucket_name}/model_monitor/baseline_results/reports/\",\n",
    "    statistics=data_monitor.baseline_statistics(),\n",
    "    constraints=data_monitor.suggested_constraints(),\n",
    "    schedule_cron_expression=CronExpressionGenerator.hourly(),\n",
    "    enable_cloudwatch_metrics=True,\n",
    ")"
   ]
  },
  {
   "cell_type": "code",
   "execution_count": 108,
   "metadata": {},
   "outputs": [
    {
     "data": {
      "text/plain": [
       "{'MonitoringScheduleArn': 'arn:aws:sagemaker:eu-central-1:567821811420:monitoring-schedule/index-predictor-data-monitor-schedule-2024-06-26-21-24-56',\n",
       " 'MonitoringScheduleName': 'index-predictor-data-monitor-schedule-2024-06-26-21-24-56',\n",
       " 'MonitoringScheduleStatus': 'Scheduled',\n",
       " 'MonitoringType': 'DataQuality',\n",
       " 'CreationTime': datetime.datetime(2024, 6, 26, 21, 24, 57, 850000, tzinfo=tzlocal()),\n",
       " 'LastModifiedTime': datetime.datetime(2024, 6, 26, 23, 12, 21, 239000, tzinfo=tzlocal()),\n",
       " 'MonitoringScheduleConfig': {'ScheduleConfig': {'ScheduleExpression': 'cron(0 * ? * * *)'},\n",
       "  'MonitoringJobDefinitionName': 'data-quality-job-definition-2024-06-26-21-24-56-894',\n",
       "  'MonitoringType': 'DataQuality'},\n",
       " 'EndpointName': 'index-predictor-endpoint',\n",
       " 'LastMonitoringExecutionSummary': {'MonitoringScheduleName': 'index-predictor-data-monitor-schedule-2024-06-26-21-24-56',\n",
       "  'ScheduledTime': datetime.datetime(2024, 6, 26, 23, 0, tzinfo=tzlocal()),\n",
       "  'CreationTime': datetime.datetime(2024, 6, 26, 23, 5, 12, 407000, tzinfo=tzlocal()),\n",
       "  'LastModifiedTime': datetime.datetime(2024, 6, 26, 23, 12, 21, 228000, tzinfo=tzlocal()),\n",
       "  'MonitoringExecutionStatus': 'CompletedWithViolations',\n",
       "  'ProcessingJobArn': 'arn:aws:sagemaker:eu-central-1:567821811420:processing-job/model-monitoring-202406262300-02a095e6af339147551c82da',\n",
       "  'EndpointName': 'index-predictor-endpoint'},\n",
       " 'ResponseMetadata': {'RequestId': '31a505ff-5ed1-4396-99bc-b211549b48d9',\n",
       "  'HTTPStatusCode': 200,\n",
       "  'HTTPHeaders': {'x-amzn-requestid': '31a505ff-5ed1-4396-99bc-b211549b48d9',\n",
       "   'content-type': 'application/x-amz-json-1.1',\n",
       "   'content-length': '1127',\n",
       "   'date': 'Wed, 26 Jun 2024 23:21:34 GMT'},\n",
       "  'RetryAttempts': 0}}"
      ]
     },
     "execution_count": 108,
     "metadata": {},
     "output_type": "execute_result"
    }
   ],
   "source": [
    "while data_monitor.describe_schedule()[\"MonitoringScheduleStatus\"] != \"Scheduled\":\n",
    "    print(f\"Waiting until data monitoring schedule status becomes Scheduled\")\n",
    "    time.sleep(3)\n",
    "\n",
    "data_monitor.describe_schedule()"
   ]
  },
  {
   "cell_type": "code",
   "execution_count": null,
   "metadata": {},
   "outputs": [],
   "source": [
    "data_monitor.delete_monitoring_schedule(name=data_mon_schedule_name)"
   ]
  },
  {
   "cell_type": "code",
   "execution_count": null,
   "metadata": {},
   "outputs": [],
   "source": []
  },
  {
   "cell_type": "code",
   "execution_count": 115,
   "metadata": {},
   "outputs": [
    {
     "data": {
      "text/html": [
       "<div>\n",
       "<style scoped>\n",
       "    .dataframe tbody tr th:only-of-type {\n",
       "        vertical-align: middle;\n",
       "    }\n",
       "\n",
       "    .dataframe tbody tr th {\n",
       "        vertical-align: top;\n",
       "    }\n",
       "\n",
       "    .dataframe thead th {\n",
       "        text-align: right;\n",
       "    }\n",
       "</style>\n",
       "<table border=\"1\" class=\"dataframe\">\n",
       "  <thead>\n",
       "    <tr style=\"text-align: right;\">\n",
       "      <th></th>\n",
       "      <th>open</th>\n",
       "      <th>high</th>\n",
       "      <th>low</th>\n",
       "      <th>close</th>\n",
       "      <th>volume</th>\n",
       "      <th>hour</th>\n",
       "      <th>minute</th>\n",
       "      <th>dayofweek_0</th>\n",
       "      <th>dayofweek_1</th>\n",
       "      <th>dayofweek_2</th>\n",
       "      <th>...</th>\n",
       "      <th>open_lag_29</th>\n",
       "      <th>close_lag_29</th>\n",
       "      <th>high_lag_29</th>\n",
       "      <th>low_lag_29</th>\n",
       "      <th>volume_lag_29</th>\n",
       "      <th>open_lag_30</th>\n",
       "      <th>close_lag_30</th>\n",
       "      <th>high_lag_30</th>\n",
       "      <th>low_lag_30</th>\n",
       "      <th>volume_lag_30</th>\n",
       "    </tr>\n",
       "  </thead>\n",
       "  <tbody>\n",
       "    <tr>\n",
       "      <th>6060</th>\n",
       "      <td>-5460.259766</td>\n",
       "      <td>-5460.950195</td>\n",
       "      <td>-5459.560059</td>\n",
       "      <td>-5460.399902</td>\n",
       "      <td>-4259687</td>\n",
       "      <td>-10</td>\n",
       "      <td>-43</td>\n",
       "      <td>0</td>\n",
       "      <td>-1</td>\n",
       "      <td>0</td>\n",
       "      <td>...</td>\n",
       "      <td>-5462.720215</td>\n",
       "      <td>-5461.970215</td>\n",
       "      <td>-5463.109863</td>\n",
       "      <td>-5461.560059</td>\n",
       "      <td>-6332637.0</td>\n",
       "      <td>-5461.060059</td>\n",
       "      <td>-5462.620117</td>\n",
       "      <td>-5462.819824</td>\n",
       "      <td>-5461.060059</td>\n",
       "      <td>-4831604.0</td>\n",
       "    </tr>\n",
       "    <tr>\n",
       "      <th>5368</th>\n",
       "      <td>-5457.560059</td>\n",
       "      <td>-5459.189941</td>\n",
       "      <td>-5457.509766</td>\n",
       "      <td>-5459.189941</td>\n",
       "      <td>-3274000</td>\n",
       "      <td>-13</td>\n",
       "      <td>-37</td>\n",
       "      <td>0</td>\n",
       "      <td>-1</td>\n",
       "      <td>0</td>\n",
       "      <td>...</td>\n",
       "      <td>-5451.419922</td>\n",
       "      <td>-5450.720215</td>\n",
       "      <td>-5451.529785</td>\n",
       "      <td>-5450.279785</td>\n",
       "      <td>-3475000.0</td>\n",
       "      <td>-5449.589844</td>\n",
       "      <td>-5451.350098</td>\n",
       "      <td>-5451.799805</td>\n",
       "      <td>-5449.589844</td>\n",
       "      <td>-3737000.0</td>\n",
       "    </tr>\n",
       "    <tr>\n",
       "      <th>7197</th>\n",
       "      <td>-5464.410156</td>\n",
       "      <td>-5464.540039</td>\n",
       "      <td>-5462.160156</td>\n",
       "      <td>-5462.589844</td>\n",
       "      <td>-5117651</td>\n",
       "      <td>-11</td>\n",
       "      <td>-23</td>\n",
       "      <td>0</td>\n",
       "      <td>-1</td>\n",
       "      <td>0</td>\n",
       "      <td>...</td>\n",
       "      <td>-5456.779785</td>\n",
       "      <td>-5457.479980</td>\n",
       "      <td>-5458.160156</td>\n",
       "      <td>-5456.779785</td>\n",
       "      <td>-3843968.0</td>\n",
       "      <td>-5456.709961</td>\n",
       "      <td>-5456.740234</td>\n",
       "      <td>-5456.919922</td>\n",
       "      <td>-5456.000000</td>\n",
       "      <td>-4731621.0</td>\n",
       "    </tr>\n",
       "    <tr>\n",
       "      <th>4187</th>\n",
       "      <td>-5460.990234</td>\n",
       "      <td>-5461.850098</td>\n",
       "      <td>-5460.950195</td>\n",
       "      <td>-5461.439941</td>\n",
       "      <td>-5881622</td>\n",
       "      <td>-10</td>\n",
       "      <td>-11</td>\n",
       "      <td>0</td>\n",
       "      <td>-1</td>\n",
       "      <td>0</td>\n",
       "      <td>...</td>\n",
       "      <td>-5458.500000</td>\n",
       "      <td>-5458.149902</td>\n",
       "      <td>-5458.950195</td>\n",
       "      <td>-5457.560059</td>\n",
       "      <td>-9172536.0</td>\n",
       "      <td>-5456.720215</td>\n",
       "      <td>-5458.359863</td>\n",
       "      <td>-5458.560059</td>\n",
       "      <td>-5456.399902</td>\n",
       "      <td>-8806009.0</td>\n",
       "    </tr>\n",
       "    <tr>\n",
       "      <th>6901</th>\n",
       "      <td>-5472.049805</td>\n",
       "      <td>-5472.879883</td>\n",
       "      <td>-5472.049805</td>\n",
       "      <td>-5472.720215</td>\n",
       "      <td>-4532000</td>\n",
       "      <td>-15</td>\n",
       "      <td>-29</td>\n",
       "      <td>0</td>\n",
       "      <td>-1</td>\n",
       "      <td>0</td>\n",
       "      <td>...</td>\n",
       "      <td>-5465.959961</td>\n",
       "      <td>-5464.180176</td>\n",
       "      <td>-5465.959961</td>\n",
       "      <td>-5463.919922</td>\n",
       "      <td>-3708000.0</td>\n",
       "      <td>-5465.209961</td>\n",
       "      <td>-5465.939941</td>\n",
       "      <td>-5466.049805</td>\n",
       "      <td>-5464.779785</td>\n",
       "      <td>-3475000.0</td>\n",
       "    </tr>\n",
       "  </tbody>\n",
       "</table>\n",
       "<p>5 rows × 162 columns</p>\n",
       "</div>"
      ],
      "text/plain": [
       "             open         high          low        close   volume  hour  \\\n",
       "6060 -5460.259766 -5460.950195 -5459.560059 -5460.399902 -4259687   -10   \n",
       "5368 -5457.560059 -5459.189941 -5457.509766 -5459.189941 -3274000   -13   \n",
       "7197 -5464.410156 -5464.540039 -5462.160156 -5462.589844 -5117651   -11   \n",
       "4187 -5460.990234 -5461.850098 -5460.950195 -5461.439941 -5881622   -10   \n",
       "6901 -5472.049805 -5472.879883 -5472.049805 -5472.720215 -4532000   -15   \n",
       "\n",
       "      minute  dayofweek_0  dayofweek_1  dayofweek_2  ...  open_lag_29  \\\n",
       "6060     -43            0           -1            0  ... -5462.720215   \n",
       "5368     -37            0           -1            0  ... -5451.419922   \n",
       "7197     -23            0           -1            0  ... -5456.779785   \n",
       "4187     -11            0           -1            0  ... -5458.500000   \n",
       "6901     -29            0           -1            0  ... -5465.959961   \n",
       "\n",
       "      close_lag_29  high_lag_29   low_lag_29  volume_lag_29  open_lag_30  \\\n",
       "6060  -5461.970215 -5463.109863 -5461.560059     -6332637.0 -5461.060059   \n",
       "5368  -5450.720215 -5451.529785 -5450.279785     -3475000.0 -5449.589844   \n",
       "7197  -5457.479980 -5458.160156 -5456.779785     -3843968.0 -5456.709961   \n",
       "4187  -5458.149902 -5458.950195 -5457.560059     -9172536.0 -5456.720215   \n",
       "6901  -5464.180176 -5465.959961 -5463.919922     -3708000.0 -5465.209961   \n",
       "\n",
       "      close_lag_30  high_lag_30   low_lag_30  volume_lag_30  \n",
       "6060  -5462.620117 -5462.819824 -5461.060059     -4831604.0  \n",
       "5368  -5451.350098 -5451.799805 -5449.589844     -3737000.0  \n",
       "7197  -5456.740234 -5456.919922 -5456.000000     -4731621.0  \n",
       "4187  -5458.359863 -5458.560059 -5456.399902     -8806009.0  \n",
       "6901  -5465.939941 -5466.049805 -5464.779785     -3475000.0  \n",
       "\n",
       "[5 rows x 162 columns]"
      ]
     },
     "execution_count": 115,
     "metadata": {},
     "output_type": "execute_result"
    }
   ],
   "source": [
    "selected_test_df_neg = selected_test_df.copy() * -1\n",
    "selected_test_df_neg.head()"
   ]
  },
  {
   "cell_type": "code",
   "execution_count": 116,
   "metadata": {},
   "outputs": [
    {
     "name": "stderr",
     "output_type": "stream",
     "text": [
      "100%|██████████| 100/100 [00:01<00:00, 98.77it/s]\n"
     ]
    }
   ],
   "source": [
    "generate_endpoint_traffic(predictor, selected_test_df_neg)"
   ]
  },
  {
   "cell_type": "code",
   "execution_count": 119,
   "metadata": {},
   "outputs": [
    {
     "name": "stdout",
     "output_type": "stream",
     "text": [
      "Found 42 files in s3://team1-index-predictor-bucket/data-capture\n"
     ]
    }
   ],
   "source": [
    "capture_files = utils.get_file_list(bucket_name, data_capture_prefix)"
   ]
  },
  {
   "cell_type": "code",
   "execution_count": 120,
   "metadata": {},
   "outputs": [
    {
     "name": "stdout",
     "output_type": "stream",
     "text": [
      "Found 42 files in s3://team1-index-predictor-bucket/data-capture\n",
      "Latest data capture S3 url: s3://team1-index-predictor-bucket/data-capture/index-predictor-endpoint/AllTraffic/2024/06/27/17\n"
     ]
    },
    {
     "name": "stderr",
     "output_type": "stream",
     "text": [
      "INFO:sagemaker:Creating processing-job with name sagemaker-model-monitor-analyzer-2024-06-27-17-34-40-321\n"
     ]
    },
    {
     "name": "stdout",
     "output_type": "stream",
     "text": [
      "...........................................................!"
     ]
    }
   ],
   "source": [
    "latest_data_capture_s3_url = utils.get_latest_data_capture_s3_url(bucket_name, data_capture_prefix)\n",
    "\n",
    "utils.run_model_monitor_job(\n",
    "    region=\"eu-central-1\",\n",
    "    instance_type=\"ml.m5.xlarge\",\n",
    "    role=sagemaker.get_execution_role(),\n",
    "    data_capture_path=latest_data_capture_s3_url,\n",
    "    statistics_path=f\"s3://{bucket_name}/model_monitor/baseline_results/statistics.json\",\n",
    "    constraints_path=f\"s3://{bucket_name}/model_monitor/baseline_results/constraints.json\",\n",
    "    reports_path=f\"s3://{bucket_name}/model_monitor/baseline_results/reports/\",\n",
    "    preprocessor_path=\"./record_preprocessor.py\",\n",
    "    instance_count=1,\n",
    "    postprocessor_path=None,\n",
    "    publish_cloudwatch_metrics=\"Disabled\",\n",
    "    logs=False,\n",
    ")"
   ]
  },
  {
   "cell_type": "code",
   "execution_count": 121,
   "metadata": {},
   "outputs": [
    {
     "name": "stdout",
     "output_type": "stream",
     "text": [
      "Latest monitoring report S3 url: s3://team1-index-predictor-bucket/model_monitor/baseline_results/reports//7\n"
     ]
    }
   ],
   "source": [
    "manual_monitoring_job_output_s3_url = utils.get_latest_monitoring_report_s3_url(\"sagemaker-model-monitor-analyzer\")"
   ]
  },
  {
   "cell_type": "code",
   "execution_count": 122,
   "metadata": {},
   "outputs": [
    {
     "name": "stdout",
     "output_type": "stream",
     "text": [
      "2024-06-27 17:38:45      39196 constraint_violations.json\n",
      "2024-06-27 17:38:38      25147 constraints.json\n",
      "2024-06-27 17:38:38     436326 statistics.json\n"
     ]
    }
   ],
   "source": [
    "!aws s3 ls {manual_monitoring_job_output_s3_url}/"
   ]
  },
  {
   "cell_type": "code",
   "execution_count": 126,
   "metadata": {},
   "outputs": [
    {
     "name": "stdout",
     "output_type": "stream",
     "text": [
      "Load JSON from: team1-index-predictor-bucket/model_monitor/baseline_results/reports//7/constraint_violations.json\n"
     ]
    },
    {
     "data": {
      "text/plain": [
       "[{'feature_name': '_c10',\n",
       "  'constraint_check_type': 'baseline_drift_check',\n",
       "  'description': 'Baseline drift distance: 0.26117013784133547 exceeds threshold: 0.1'},\n",
       " {'feature_name': '_c11',\n",
       "  'constraint_check_type': 'baseline_drift_check',\n",
       "  'description': 'Baseline drift distance: 0.25684945853970653 exceeds threshold: 0.1'},\n",
       " {'feature_name': '_c5',\n",
       "  'constraint_check_type': 'baseline_drift_check',\n",
       "  'description': 'Baseline drift distance: 0.49928622376223186 exceeds threshold: 0.1'},\n",
       " {'feature_name': '_c7',\n",
       "  'constraint_check_type': 'baseline_drift_check',\n",
       "  'description': 'Baseline drift distance: 0.26515307716504655 exceeds threshold: 0.1'}]"
      ]
     },
     "execution_count": 126,
     "metadata": {},
     "output_type": "execute_result"
    }
   ],
   "source": [
    "violations = utils.load_json_from_file(f\"{manual_monitoring_job_output_s3_url}/constraint_violations.json\")\n",
    "violations['violations'][-5:-1]"
   ]
  },
  {
   "cell_type": "code",
   "execution_count": null,
   "metadata": {},
   "outputs": [],
   "source": []
  }
 ],
 "metadata": {
  "kernelspec": {
   "display_name": "Python 3 (ipykernel)",
   "language": "python",
   "name": "python3"
  },
  "language_info": {
   "codemirror_mode": {
    "name": "ipython",
    "version": 3
   },
   "file_extension": ".py",
   "mimetype": "text/x-python",
   "name": "python",
   "nbconvert_exporter": "python",
   "pygments_lexer": "ipython3",
   "version": "3.10.14"
  }
 },
 "nbformat": 4,
 "nbformat_minor": 2
}
