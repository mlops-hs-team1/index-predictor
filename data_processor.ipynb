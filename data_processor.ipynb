{
 "cells": [
  {
   "cell_type": "code",
   "execution_count": 56,
   "id": "4e438b48-6956-4f80-a33a-7eb8c6df2f9b",
   "metadata": {},
   "outputs": [],
   "source": [
    "import boto3\n",
    "import pandas as pd\n",
    "from io import StringIO\n",
    "from sklearn.preprocessing import MinMaxScaler\n",
    "import json"
   ]
  },
  {
   "cell_type": "code",
   "execution_count": 27,
   "id": "d3073ad8-a8d9-4683-88e7-cd20e63812fd",
   "metadata": {},
   "outputs": [],
   "source": [
    "BUCKET_NAME = \"team1-index-predictor-bucket\"\n",
    "\n",
    "raw_data_filename = \"data/raw/sp500.csv\"\n",
    "\n",
    "s3 = boto3.client('s3')"
   ]
  },
  {
   "cell_type": "code",
   "execution_count": 28,
   "id": "deeb629f-ff4c-4469-8d8a-79509a3bcb90",
   "metadata": {},
   "outputs": [
    {
     "data": {
      "text/html": [
       "<div>\n",
       "<style scoped>\n",
       "    .dataframe tbody tr th:only-of-type {\n",
       "        vertical-align: middle;\n",
       "    }\n",
       "\n",
       "    .dataframe tbody tr th {\n",
       "        vertical-align: top;\n",
       "    }\n",
       "\n",
       "    .dataframe thead th {\n",
       "        text-align: right;\n",
       "    }\n",
       "</style>\n",
       "<table border=\"1\" class=\"dataframe\">\n",
       "  <thead>\n",
       "    <tr style=\"text-align: right;\">\n",
       "      <th></th>\n",
       "      <th>Datetime</th>\n",
       "      <th>Open</th>\n",
       "      <th>High</th>\n",
       "      <th>Low</th>\n",
       "      <th>Close</th>\n",
       "      <th>Adj Close</th>\n",
       "      <th>Volume</th>\n",
       "    </tr>\n",
       "  </thead>\n",
       "  <tbody>\n",
       "    <tr>\n",
       "      <th>0</th>\n",
       "      <td>2024-05-15 09:30:00-04:00</td>\n",
       "      <td>5263.259766</td>\n",
       "      <td>5271.049805</td>\n",
       "      <td>5263.259766</td>\n",
       "      <td>5270.939941</td>\n",
       "      <td>5270.939941</td>\n",
       "      <td>0</td>\n",
       "    </tr>\n",
       "    <tr>\n",
       "      <th>1</th>\n",
       "      <td>2024-05-15 09:31:00-04:00</td>\n",
       "      <td>5271.250000</td>\n",
       "      <td>5273.240234</td>\n",
       "      <td>5271.149902</td>\n",
       "      <td>5271.439941</td>\n",
       "      <td>5271.439941</td>\n",
       "      <td>12862437</td>\n",
       "    </tr>\n",
       "    <tr>\n",
       "      <th>2</th>\n",
       "      <td>2024-05-15 09:32:00-04:00</td>\n",
       "      <td>5271.779785</td>\n",
       "      <td>5275.759766</td>\n",
       "      <td>5271.779785</td>\n",
       "      <td>5274.950195</td>\n",
       "      <td>5274.950195</td>\n",
       "      <td>11405230</td>\n",
       "    </tr>\n",
       "    <tr>\n",
       "      <th>3</th>\n",
       "      <td>2024-05-15 09:33:00-04:00</td>\n",
       "      <td>5275.160156</td>\n",
       "      <td>5277.259766</td>\n",
       "      <td>5273.870117</td>\n",
       "      <td>5276.120117</td>\n",
       "      <td>5276.120117</td>\n",
       "      <td>8963509</td>\n",
       "    </tr>\n",
       "    <tr>\n",
       "      <th>4</th>\n",
       "      <td>2024-05-15 09:34:00-04:00</td>\n",
       "      <td>5275.979980</td>\n",
       "      <td>5276.200195</td>\n",
       "      <td>5274.560059</td>\n",
       "      <td>5276.109863</td>\n",
       "      <td>5276.109863</td>\n",
       "      <td>7163548</td>\n",
       "    </tr>\n",
       "  </tbody>\n",
       "</table>\n",
       "</div>"
      ],
      "text/plain": [
       "                    Datetime         Open         High          Low  \\\n",
       "0  2024-05-15 09:30:00-04:00  5263.259766  5271.049805  5263.259766   \n",
       "1  2024-05-15 09:31:00-04:00  5271.250000  5273.240234  5271.149902   \n",
       "2  2024-05-15 09:32:00-04:00  5271.779785  5275.759766  5271.779785   \n",
       "3  2024-05-15 09:33:00-04:00  5275.160156  5277.259766  5273.870117   \n",
       "4  2024-05-15 09:34:00-04:00  5275.979980  5276.200195  5274.560059   \n",
       "\n",
       "         Close    Adj Close    Volume  \n",
       "0  5270.939941  5270.939941         0  \n",
       "1  5271.439941  5271.439941  12862437  \n",
       "2  5274.950195  5274.950195  11405230  \n",
       "3  5276.120117  5276.120117   8963509  \n",
       "4  5276.109863  5276.109863   7163548  "
      ]
     },
     "execution_count": 28,
     "metadata": {},
     "output_type": "execute_result"
    }
   ],
   "source": [
    "s3_object = s3.get_object(Bucket=BUCKET_NAME, Key=raw_data_filename)\n",
    "\n",
    "data = s3_object['Body'].read().decode('utf-8')\n",
    "df = pd.read_csv(StringIO(data))\n",
    "df.head()"
   ]
  },
  {
   "cell_type": "code",
   "execution_count": 29,
   "id": "b914cfcc-7c8c-48f1-97f5-da75baf4eb99",
   "metadata": {},
   "outputs": [
    {
     "data": {
      "text/html": [
       "<div>\n",
       "<style scoped>\n",
       "    .dataframe tbody tr th:only-of-type {\n",
       "        vertical-align: middle;\n",
       "    }\n",
       "\n",
       "    .dataframe tbody tr th {\n",
       "        vertical-align: top;\n",
       "    }\n",
       "\n",
       "    .dataframe thead th {\n",
       "        text-align: right;\n",
       "    }\n",
       "</style>\n",
       "<table border=\"1\" class=\"dataframe\">\n",
       "  <thead>\n",
       "    <tr style=\"text-align: right;\">\n",
       "      <th></th>\n",
       "      <th>Datetime</th>\n",
       "      <th>Close</th>\n",
       "    </tr>\n",
       "  </thead>\n",
       "  <tbody>\n",
       "    <tr>\n",
       "      <th>0</th>\n",
       "      <td>2024-05-15 09:30:00-04:00</td>\n",
       "      <td>5270.939941</td>\n",
       "    </tr>\n",
       "    <tr>\n",
       "      <th>1</th>\n",
       "      <td>2024-05-15 09:31:00-04:00</td>\n",
       "      <td>5271.439941</td>\n",
       "    </tr>\n",
       "    <tr>\n",
       "      <th>2</th>\n",
       "      <td>2024-05-15 09:32:00-04:00</td>\n",
       "      <td>5274.950195</td>\n",
       "    </tr>\n",
       "    <tr>\n",
       "      <th>3</th>\n",
       "      <td>2024-05-15 09:33:00-04:00</td>\n",
       "      <td>5276.120117</td>\n",
       "    </tr>\n",
       "    <tr>\n",
       "      <th>4</th>\n",
       "      <td>2024-05-15 09:34:00-04:00</td>\n",
       "      <td>5276.109863</td>\n",
       "    </tr>\n",
       "  </tbody>\n",
       "</table>\n",
       "</div>"
      ],
      "text/plain": [
       "                    Datetime        Close\n",
       "0  2024-05-15 09:30:00-04:00  5270.939941\n",
       "1  2024-05-15 09:31:00-04:00  5271.439941\n",
       "2  2024-05-15 09:32:00-04:00  5274.950195\n",
       "3  2024-05-15 09:33:00-04:00  5276.120117\n",
       "4  2024-05-15 09:34:00-04:00  5276.109863"
      ]
     },
     "execution_count": 29,
     "metadata": {},
     "output_type": "execute_result"
    }
   ],
   "source": [
    "df = df[[\"Datetime\", \"Close\"]]\n",
    "df.head()"
   ]
  },
  {
   "cell_type": "code",
   "execution_count": 30,
   "id": "f400142e-0230-4f83-8efc-7ae158d0f087",
   "metadata": {},
   "outputs": [],
   "source": [
    "# Ensure data is sorted by datetime\n",
    "df = df.sort_values(by=[\"Datetime\"])"
   ]
  },
  {
   "cell_type": "code",
   "execution_count": 31,
   "id": "dc2cb5ce-3536-4d99-af20-d9ef307946ee",
   "metadata": {},
   "outputs": [],
   "source": [
    "total_size = len(df)\n",
    "test_size = int(0.1 * total_size)\n",
    "validation_size = int(0.1 * total_size)\n",
    "train_size = total_size - test_size - validation_size\n",
    "\n",
    "test_start_idx = total_size - test_size\n",
    "validation_start_idx = test_start_idx - validation_size\n",
    "\n",
    "train_df = df.iloc[:validation_start_idx]\n",
    "validation_df = df.iloc[validation_start_idx:test_start_idx]\n",
    "test_df = df.iloc[test_start_idx:]"
   ]
  },
  {
   "cell_type": "code",
   "execution_count": 32,
   "id": "c4fad937-83a2-42bd-9833-40157a9208b2",
   "metadata": {},
   "outputs": [
    {
     "name": "stdout",
     "output_type": "stream",
     "text": [
      "Training set size: 6484\n",
      "Validation set size: 810\n",
      "Test set size: 810\n",
      "\n",
      "Train DataFrame:\n",
      "                    Datetime        Close\n",
      "0  2024-05-15 09:30:00-04:00  5270.939941\n",
      "1  2024-05-15 09:31:00-04:00  5271.439941\n",
      "2  2024-05-15 09:32:00-04:00  5274.950195\n",
      "3  2024-05-15 09:33:00-04:00  5276.120117\n",
      "4  2024-05-15 09:34:00-04:00  5276.109863\n",
      "\n",
      "Validation DataFrame:\n",
      "                       Datetime        Close\n",
      "6484  2024-06-07 14:59:00-04:00  5357.490234\n",
      "6485  2024-06-07 15:00:00-04:00  5354.959961\n",
      "6486  2024-06-07 15:01:00-04:00  5355.169922\n",
      "6487  2024-06-07 15:02:00-04:00  5358.359863\n",
      "6488  2024-06-07 15:03:00-04:00  5359.020020\n",
      "\n",
      "Test DataFrame:\n",
      "                       Datetime        Close\n",
      "7294  2024-06-11 15:30:00-04:00  5365.189941\n",
      "7295  2024-06-11 15:31:00-04:00  5364.990234\n",
      "7296  2024-06-11 15:32:00-04:00  5364.220215\n",
      "7297  2024-06-11 15:33:00-04:00  5364.859863\n",
      "7298  2024-06-11 15:34:00-04:00  5365.580078\n"
     ]
    }
   ],
   "source": [
    "print(\"Training set size:\", len(train_df))\n",
    "print(\"Validation set size:\", len(validation_df))\n",
    "print(\"Test set size:\", len(test_df))\n",
    "\n",
    "# Verify the splits\n",
    "print(\"\\nTrain DataFrame:\")\n",
    "print(train_df.head())\n",
    "print(\"\\nValidation DataFrame:\")\n",
    "print(validation_df.head())\n",
    "print(\"\\nTest DataFrame:\")\n",
    "print(test_df.head())"
   ]
  },
  {
   "cell_type": "code",
   "execution_count": 33,
   "id": "3742ef97-8443-4b9f-bd1e-d18b8d344c9e",
   "metadata": {},
   "outputs": [
    {
     "data": {
      "text/html": [
       "<div>\n",
       "<style scoped>\n",
       "    .dataframe tbody tr th:only-of-type {\n",
       "        vertical-align: middle;\n",
       "    }\n",
       "\n",
       "    .dataframe tbody tr th {\n",
       "        vertical-align: top;\n",
       "    }\n",
       "\n",
       "    .dataframe thead th {\n",
       "        text-align: right;\n",
       "    }\n",
       "</style>\n",
       "<table border=\"1\" class=\"dataframe\">\n",
       "  <thead>\n",
       "    <tr style=\"text-align: right;\">\n",
       "      <th></th>\n",
       "      <th>Datetime</th>\n",
       "      <th>Close</th>\n",
       "    </tr>\n",
       "  </thead>\n",
       "  <tbody>\n",
       "    <tr>\n",
       "      <th>0</th>\n",
       "      <td>2024-05-15 09:30:00-04:00</td>\n",
       "      <td>0.429912</td>\n",
       "    </tr>\n",
       "    <tr>\n",
       "      <th>1</th>\n",
       "      <td>2024-05-15 09:31:00-04:00</td>\n",
       "      <td>0.432670</td>\n",
       "    </tr>\n",
       "    <tr>\n",
       "      <th>2</th>\n",
       "      <td>2024-05-15 09:32:00-04:00</td>\n",
       "      <td>0.452035</td>\n",
       "    </tr>\n",
       "    <tr>\n",
       "      <th>3</th>\n",
       "      <td>2024-05-15 09:33:00-04:00</td>\n",
       "      <td>0.458489</td>\n",
       "    </tr>\n",
       "    <tr>\n",
       "      <th>4</th>\n",
       "      <td>2024-05-15 09:34:00-04:00</td>\n",
       "      <td>0.458433</td>\n",
       "    </tr>\n",
       "  </tbody>\n",
       "</table>\n",
       "</div>"
      ],
      "text/plain": [
       "                    Datetime     Close\n",
       "0  2024-05-15 09:30:00-04:00  0.429912\n",
       "1  2024-05-15 09:31:00-04:00  0.432670\n",
       "2  2024-05-15 09:32:00-04:00  0.452035\n",
       "3  2024-05-15 09:33:00-04:00  0.458489\n",
       "4  2024-05-15 09:34:00-04:00  0.458433"
      ]
     },
     "execution_count": 33,
     "metadata": {},
     "output_type": "execute_result"
    }
   ],
   "source": [
    "scaler = MinMaxScaler()\n",
    "\n",
    "train_df.loc[:, 'Close'] = scaler.fit_transform(train_df[['Close']])\n",
    "\n",
    "validation_df.loc[:, 'Close'] = scaler.transform(validation_df[['Close']])\n",
    "\n",
    "test_df.loc[:, 'Close'] = scaler.transform(test_df[['Close']])\n",
    "\n",
    "train_df.head()"
   ]
  },
  {
   "cell_type": "code",
   "execution_count": 58,
   "id": "4fd0f865-6da1-40c8-93d6-9f1a7ef2468e",
   "metadata": {},
   "outputs": [
    {
     "data": {
      "text/plain": [
       "{'min': [-28.647924124759925],\n",
       " 'max': [5374.27978515625],\n",
       " 'range': [181.27001953125],\n",
       " 'scale': [0.005516632053032935]}"
      ]
     },
     "execution_count": 58,
     "metadata": {},
     "output_type": "execute_result"
    }
   ],
   "source": [
    "# store later as metadata in feature store\n",
    "scaler_params = {\n",
    "    'min': scaler.data_min_.tolist(),\n",
    "    'max': scaler.data_max_.tolist(),\n",
    "    'range': scaler.data_range_.tolist(),\n",
    "    'scale': scaler.scale_.tolist(),\n",
    "    'min': scaler.min_.tolist(),\n",
    "}\n",
    "scaler_params"
   ]
  },
  {
   "cell_type": "code",
   "execution_count": 58,
   "id": "aab4d723-680a-468f-bd2c-e0948ff61c92",
   "metadata": {},
   "outputs": [
    {
     "data": {
      "text/plain": [
       "{'min': [-28.647924124759925],\n",
       " 'max': [5374.27978515625],\n",
       " 'range': [181.27001953125],\n",
       " 'scale': [0.005516632053032935]}"
      ]
     },
     "execution_count": 58,
     "metadata": {},
     "output_type": "execute_result"
    }
   ],
   "source": [
    "# REVISIT: Maybe prepare the dataset in a format that needs to be passed to the model"
   ]
  },
  {
   "cell_type": "code",
   "execution_count": 53,
   "id": "0dde3ac0-d749-4d96-b695-d07b76a0bc02",
   "metadata": {},
   "outputs": [],
   "source": [
    "# REVISIT: use feature store later instead of plain s3, version things and store \n",
    "# scaler params as metadata in feature store\n",
    "\n",
    "def upload_df_to_s3(df, bucket_name, object_name):\n",
    "    csv_buffer = StringIO()\n",
    "    df.to_csv(csv_buffer, index=False)\n",
    "    s3.put_object(Bucket=bucket_name, Key=object_name, Body=csv_buffer.getvalue())\n",
    "    \n",
    "root_folder = \"data/processed\"\n",
    "\n",
    "upload_df_to_s3(train_df, BUCKET_NAME, f\"{root_folder}/train.csv\")\n",
    "upload_df_to_s3(validation_df, BUCKET_NAME, f\"{root_folder}/validation.csv\")\n",
    "upload_df_to_s3(test_df, BUCKET_NAME, f\"{root_folder}/test.csv\")"
   ]
  },
  {
   "cell_type": "code",
   "execution_count": 59,
   "id": "63fe333d-84f4-4dab-877b-b8e8b03e59d0",
   "metadata": {},
   "outputs": [
    {
     "data": {
      "text/plain": [
       "{'ResponseMetadata': {'RequestId': 'ZQF23Z0WFZ3B9GKG',\n",
       "  'HostId': 'mCDKcUIqSm7YocRgCn+at3h2ojChzibqcWZbssSZPr1c6QYBX2JuH0GE8NyKjMSKTzss5aC+ToS8x7YDVe1DEQ==',\n",
       "  'HTTPStatusCode': 200,\n",
       "  'HTTPHeaders': {'x-amz-id-2': 'mCDKcUIqSm7YocRgCn+at3h2ojChzibqcWZbssSZPr1c6QYBX2JuH0GE8NyKjMSKTzss5aC+ToS8x7YDVe1DEQ==',\n",
       "   'x-amz-request-id': 'ZQF23Z0WFZ3B9GKG',\n",
       "   'date': 'Fri, 14 Jun 2024 10:00:17 GMT',\n",
       "   'x-amz-server-side-encryption': 'AES256',\n",
       "   'etag': '\"3ca7802d62b31cccc7b07fa80d4d8d3d\"',\n",
       "   'server': 'AmazonS3',\n",
       "   'content-length': '0'},\n",
       "  'RetryAttempts': 0},\n",
       " 'ETag': '\"3ca7802d62b31cccc7b07fa80d4d8d3d\"',\n",
       " 'ServerSideEncryption': 'AES256'}"
      ]
     },
     "execution_count": 59,
     "metadata": {},
     "output_type": "execute_result"
    }
   ],
   "source": [
    "scaler_params_json = json.dumps(scaler_params)\n",
    "\n",
    "s3.put_object(Bucket=BUCKET_NAME, Key=f\"{root_folder}/scaler_params.json\", Body=scaler_params_json)"
   ]
  },
  {
   "cell_type": "code",
   "execution_count": 55,
   "id": "be80d7df-54f6-4ede-8013-64441221b514",
   "metadata": {},
   "outputs": [
    {
     "data": {
      "text/plain": [
       "[{'Key': 'data/processed/test.csv',\n",
       "  'LastModified': datetime.datetime(2024, 6, 14, 9, 57, 52, tzinfo=tzlocal()),\n",
       "  'ETag': '\"4d1370a95a9260cfba866dcc4f51791c\"',\n",
       "  'Size': 36263,\n",
       "  'StorageClass': 'STANDARD',\n",
       "  'Owner': {'ID': 'ec1ed018b5c0ee51b7177c58aeefc36b88bc97ed583ad096499121407c50d423'}},\n",
       " {'Key': 'data/processed/train.csv',\n",
       "  'LastModified': datetime.datetime(2024, 6, 14, 9, 57, 52, tzinfo=tzlocal()),\n",
       "  'ETag': '\"1e087f7f9658fc8c539bcfb3ce575d20\"',\n",
       "  'Size': 292145,\n",
       "  'StorageClass': 'STANDARD',\n",
       "  'Owner': {'ID': 'ec1ed018b5c0ee51b7177c58aeefc36b88bc97ed583ad096499121407c50d423'}},\n",
       " {'Key': 'data/processed/validation.csv',\n",
       "  'LastModified': datetime.datetime(2024, 6, 14, 9, 57, 52, tzinfo=tzlocal()),\n",
       "  'ETag': '\"9767fe903678ae5cb4bf72847b456203\"',\n",
       "  'Size': 36364,\n",
       "  'StorageClass': 'STANDARD',\n",
       "  'Owner': {'ID': 'ec1ed018b5c0ee51b7177c58aeefc36b88bc97ed583ad096499121407c50d423'}},\n",
       " {'Key': 'data/raw/sp500.csv',\n",
       "  'LastModified': datetime.datetime(2024, 6, 14, 7, 19, 40, tzinfo=tzlocal()),\n",
       "  'ETag': '\"da61e834eae58ae078dd7ec42eeb5ace\"',\n",
       "  'Size': 916048,\n",
       "  'StorageClass': 'STANDARD',\n",
       "  'Owner': {'ID': 'ec1ed018b5c0ee51b7177c58aeefc36b88bc97ed583ad096499121407c50d423'}},\n",
       " {'Key': 'scripts/data_collector.py/data_collector.py',\n",
       "  'LastModified': datetime.datetime(2024, 6, 14, 9, 50, 51, tzinfo=tzlocal()),\n",
       "  'ETag': '\"1f2c8c935251de21181810f876aed6fd\"',\n",
       "  'Size': 1779,\n",
       "  'StorageClass': 'STANDARD',\n",
       "  'Owner': {'ID': 'ec1ed018b5c0ee51b7177c58aeefc36b88bc97ed583ad096499121407c50d423'}}]"
      ]
     },
     "execution_count": 55,
     "metadata": {},
     "output_type": "execute_result"
    }
   ],
   "source": [
    "s3.list_objects(Bucket=BUCKET_NAME)['Contents']"
   ]
  },
  {
   "cell_type": "code",
   "execution_count": 60,
   "id": "982a8471-1744-450c-833e-43aea5b65da0",
   "metadata": {},
   "outputs": [
    {
     "data": {
      "text/html": [
       "<div>\n",
       "<style scoped>\n",
       "    .dataframe tbody tr th:only-of-type {\n",
       "        vertical-align: middle;\n",
       "    }\n",
       "\n",
       "    .dataframe tbody tr th {\n",
       "        vertical-align: top;\n",
       "    }\n",
       "\n",
       "    .dataframe thead th {\n",
       "        text-align: right;\n",
       "    }\n",
       "</style>\n",
       "<table border=\"1\" class=\"dataframe\">\n",
       "  <thead>\n",
       "    <tr style=\"text-align: right;\">\n",
       "      <th></th>\n",
       "      <th>Datetime</th>\n",
       "      <th>Close</th>\n",
       "    </tr>\n",
       "  </thead>\n",
       "  <tbody>\n",
       "    <tr>\n",
       "      <th>0</th>\n",
       "      <td>2024-05-15 09:30:00-04:00</td>\n",
       "      <td>0.429912</td>\n",
       "    </tr>\n",
       "    <tr>\n",
       "      <th>1</th>\n",
       "      <td>2024-05-15 09:31:00-04:00</td>\n",
       "      <td>0.432670</td>\n",
       "    </tr>\n",
       "    <tr>\n",
       "      <th>2</th>\n",
       "      <td>2024-05-15 09:32:00-04:00</td>\n",
       "      <td>0.452035</td>\n",
       "    </tr>\n",
       "    <tr>\n",
       "      <th>3</th>\n",
       "      <td>2024-05-15 09:33:00-04:00</td>\n",
       "      <td>0.458489</td>\n",
       "    </tr>\n",
       "    <tr>\n",
       "      <th>4</th>\n",
       "      <td>2024-05-15 09:34:00-04:00</td>\n",
       "      <td>0.458433</td>\n",
       "    </tr>\n",
       "  </tbody>\n",
       "</table>\n",
       "</div>"
      ],
      "text/plain": [
       "                    Datetime     Close\n",
       "0  2024-05-15 09:30:00-04:00  0.429912\n",
       "1  2024-05-15 09:31:00-04:00  0.432670\n",
       "2  2024-05-15 09:32:00-04:00  0.452035\n",
       "3  2024-05-15 09:33:00-04:00  0.458489\n",
       "4  2024-05-15 09:34:00-04:00  0.458433"
      ]
     },
     "execution_count": 60,
     "metadata": {},
     "output_type": "execute_result"
    }
   ],
   "source": [
    "s3_object = s3.get_object(Bucket=BUCKET_NAME, Key=f\"{root_folder}/train.csv\")\n",
    "\n",
    "loaded_data = s3_object['Body'].read().decode('utf-8')\n",
    "loaded_df = pd.read_csv(StringIO(loaded_data))\n",
    "loaded_df.head()"
   ]
  },
  {
   "cell_type": "code",
   "execution_count": null,
   "id": "f0bca6d7-9775-4e31-a1b1-66e958aafc24",
   "metadata": {},
   "outputs": [],
   "source": []
  }
 ],
 "metadata": {
  "kernelspec": {
   "display_name": "Python 3 (ipykernel)",
   "language": "python",
   "name": "python3"
  },
  "language_info": {
   "codemirror_mode": {
    "name": "ipython",
    "version": 3
   },
   "file_extension": ".py",
   "mimetype": "text/x-python",
   "name": "python",
   "nbconvert_exporter": "python",
   "pygments_lexer": "ipython3",
   "version": "3.10.14"
  }
 },
 "nbformat": 4,
 "nbformat_minor": 5
}
