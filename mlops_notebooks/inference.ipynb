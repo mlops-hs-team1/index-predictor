{
 "cells": [
  {
   "cell_type": "markdown",
   "metadata": {},
   "source": [
    "#### Notebook that does real time inference, fetching data, processing it synchronously and calling model endpoint for results"
   ]
  },
  {
   "cell_type": "code",
   "execution_count": 25,
   "metadata": {},
   "outputs": [],
   "source": [
    "import pandas as pd\n",
    "import json\n",
    "import numpy as np\n",
    "import os\n",
    "import sys\n",
    "import boto3"
   ]
  },
  {
   "cell_type": "code",
   "execution_count": 26,
   "metadata": {},
   "outputs": [],
   "source": [
    "project_root = os.path.abspath(\"..\")\n",
    "if project_root not in sys.path:\n",
    "    sys.path.append(project_root)"
   ]
  },
  {
   "cell_type": "code",
   "execution_count": 27,
   "metadata": {},
   "outputs": [],
   "source": [
    "from importlib import reload\n",
    "from src.data.collector import DataCollector\n",
    "from src.data.processor import DataProcessor\n",
    "\n",
    "collector = DataCollector(\n",
    "    filename=f\"data-inference.csv\",\n",
    "    days=3,\n",
    "    ticker=\"^GSPC\",\n",
    "    num_rows=31,\n",
    "    outputpath=\"../data/raw/\",\n",
    ")\n",
    "\n",
    "processor = DataProcessor()"
   ]
  },
  {
   "cell_type": "code",
   "execution_count": 28,
   "metadata": {},
   "outputs": [
    {
     "name": "stderr",
     "output_type": "stream",
     "text": [
      "[*********************100%%**********************]  1 of 1 completed\n"
     ]
    }
   ],
   "source": [
    "df = collector.get_data()\n",
    "df[\"Datetime\"] = df.index\n",
    "df = df.reset_index(drop=True)"
   ]
  },
  {
   "cell_type": "code",
   "execution_count": 29,
   "metadata": {},
   "outputs": [],
   "source": [
    "df = processor.drop_columns(df)\n",
    "\n",
    "df = processor.sort_by_datetime(df)\n",
    "df = processor.extract_date_features(df)\n",
    "df = processor.one_hot_encode_day_of_week(df)\n",
    "\n",
    "df = processor.convert_datetime_to_iso_8601(df)\n",
    "\n",
    "lag = 30\n",
    "\n",
    "df.drop(columns=[\"Datetime\"], inplace=True)\n",
    "df = processor.prepare_data(df, lag)\n",
    "\n",
    "df = df.rename(columns=processor.convert_col_name)\n",
    "df.drop(columns=[\"close_target\"], inplace=True)\n",
    "\n",
    "csv_input = df.to_csv(index=False, header=False)"
   ]
  },
  {
   "cell_type": "code",
   "execution_count": 30,
   "metadata": {},
   "outputs": [],
   "source": [
    "runtime_client = boto3.client(\"sagemaker-runtime\")\n",
    "\n",
    "endpoint_name = \"sagemaker-xgboost-2024-06-22-15-43-24-818\""
   ]
  },
  {
   "cell_type": "code",
   "execution_count": 32,
   "metadata": {},
   "outputs": [
    {
     "name": "stdout",
     "output_type": "stream",
     "text": [
      "0.5090364813804626\n",
      "The market will go up\n"
     ]
    }
   ],
   "source": [
    "response = runtime_client.invoke_endpoint(\n",
    "    EndpointName=endpoint_name, ContentType=\"text/csv\", Body=csv_input\n",
    ")\n",
    "\n",
    "result = json.loads(response[\"Body\"].read().decode())\n",
    "predictions = np.array(result)\n",
    "\n",
    "print(predictions)\n",
    "\n",
    "if predictions > 0.5:\n",
    "    print(\"The market will go up\")\n",
    "else:\n",
    "    print(\"The market will go down\")"
   ]
  },
  {
   "cell_type": "code",
   "execution_count": null,
   "metadata": {},
   "outputs": [],
   "source": []
  }
 ],
 "metadata": {
  "kernelspec": {
   "display_name": "Python 3 (ipykernel)",
   "language": "python",
   "name": "python3"
  },
  "language_info": {
   "codemirror_mode": {
    "name": "ipython",
    "version": 3
   },
   "file_extension": ".py",
   "mimetype": "text/x-python",
   "name": "python",
   "nbconvert_exporter": "python",
   "pygments_lexer": "ipython3",
   "version": "3.11.9"
  }
 },
 "nbformat": 4,
 "nbformat_minor": 2
}
